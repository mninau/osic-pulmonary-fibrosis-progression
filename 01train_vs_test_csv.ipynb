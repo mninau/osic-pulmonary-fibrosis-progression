{
 "cells": [
  {
   "cell_type": "markdown",
   "metadata": {
    "id": "lX6airGQXzik"
   },
   "source": [
    "# Listado inicial archivos"
   ]
  },
  {
   "cell_type": "code",
   "execution_count": 2,
   "metadata": {
    "colab": {
     "base_uri": "https://localhost:8080/",
     "height": 200
    },
    "executionInfo": {
     "elapsed": 821,
     "status": "error",
     "timestamp": 1607162940508,
     "user": {
      "displayName": "Marta Gaona Jiménez",
      "photoUrl": "https://lh3.googleusercontent.com/a-/AOh14GjICP3wEyF20HcvaavtWjmlRSQojLAH_RbY36-rfQ=s64",
      "userId": "07407409033937911966"
     },
     "user_tz": -60
    },
    "id": "H5Ya8ONXXzik",
    "outputId": "92b44015-78d3-4bad-b67d-db54c8e8c409"
   },
   "outputs": [
    {
     "data": {
      "text/plain": [
       "['test-scans-512',\n",
       " 'osic-pulmonary-fibrosis-progression.zip',\n",
       " '.DS_Store',\n",
       " 'test',\n",
       " 'train_pre',\n",
       " 'test.csv',\n",
       " 'test_pre',\n",
       " 'train',\n",
       " 'train.csv',\n",
       " '.ipynb_checkpoints',\n",
       " 'sample_submission.csv']"
      ]
     },
     "execution_count": 2,
     "metadata": {},
     "output_type": "execute_result"
    }
   ],
   "source": [
    "import os\n",
    "\n",
    "DATA_PATH = './osic-pulmonary-fibrosis-progression'\n",
    "list(os.listdir(DATA_PATH))"
   ]
  },
  {
   "cell_type": "markdown",
   "metadata": {
    "id": "HlbM8g6qXzil"
   },
   "source": [
    "- train.csv - the training set, contains full history of clinical information\n",
    "- test.csv - the test set, contains only the baseline measurement\n",
    "- train/ - contains the training patients' baseline CT scan in DICOM format\n",
    "- test/ - contains the test patients' baseline CT scan in DICOM format\n",
    "\n",
    "Ejemplo listado incluido en carpeta train:"
   ]
  },
  {
   "cell_type": "code",
   "execution_count": 2,
   "metadata": {
    "id": "vSxc7XcbXzil",
    "outputId": "0cfad755-2a16-4493-d7bb-010097d1a9f3"
   },
   "outputs": [
    {
     "data": {
      "text/plain": [
       "['ID00296637202279895784347',\n",
       " 'ID00032637202181710233084',\n",
       " 'ID00061637202188184085559',\n",
       " 'ID00232637202260377586117',\n",
       " 'ID00322637202284842245491']"
      ]
     },
     "execution_count": 2,
     "metadata": {},
     "output_type": "execute_result"
    }
   ],
   "source": [
    "list(os.listdir('./osic-pulmonary-fibrosis-progression/train'))[:5]"
   ]
  },
  {
   "cell_type": "markdown",
   "metadata": {
    "id": "EzeTOkNBXzil"
   },
   "source": [
    "*El contenido son nuevas carpetas con un identificador de paciente*\n",
    "\n",
    "Ejemplo listado incluido para cada paciente"
   ]
  },
  {
   "cell_type": "code",
   "execution_count": 4,
   "metadata": {
    "id": "lEY-XsaBXzil",
    "outputId": "99df835c-93cb-45ac-bb14-98cc1c5e3c62"
   },
   "outputs": [
    {
     "data": {
      "text/plain": [
       "['16.dcm', '17.dcm', '15.dcm', '29.dcm', '28.dcm']"
      ]
     },
     "execution_count": 4,
     "metadata": {},
     "output_type": "execute_result"
    }
   ],
   "source": [
    "list(os.listdir(\"./osic-pulmonary-fibrosis-progression/train/ID00296637202279895784347\"))[:5]"
   ]
  },
  {
   "cell_type": "markdown",
   "metadata": {
    "id": "DA9ahrDZXzil"
   },
   "source": [
    "*Tomografía computarizada en formato DICOM*\n",
    "\n",
    "# train.csv y test.csv\n",
    "1. Cargamos csv entrenamiento"
   ]
  },
  {
   "cell_type": "code",
   "execution_count": 1,
   "metadata": {
    "id": "MtaDTLv0Xzil"
   },
   "outputs": [],
   "source": [
    "import pandas as pd\n",
    "\n",
    "df_train = pd.read_csv('./osic-pulmonary-fibrosis-progression/train.csv')\n",
    "df_test = pd.read_csv('./osic-pulmonary-fibrosis-progression/test.csv')"
   ]
  },
  {
   "cell_type": "code",
   "execution_count": 2,
   "metadata": {
    "id": "DQFjgd-eXzil",
    "outputId": "9fafc362-748c-4a28-e00a-68c10bdd665a"
   },
   "outputs": [
    {
     "data": {
      "text/html": [
       "<div>\n",
       "<style scoped>\n",
       "    .dataframe tbody tr th:only-of-type {\n",
       "        vertical-align: middle;\n",
       "    }\n",
       "\n",
       "    .dataframe tbody tr th {\n",
       "        vertical-align: top;\n",
       "    }\n",
       "\n",
       "    .dataframe thead th {\n",
       "        text-align: right;\n",
       "    }\n",
       "</style>\n",
       "<table border=\"1\" class=\"dataframe\">\n",
       "  <thead>\n",
       "    <tr style=\"text-align: right;\">\n",
       "      <th></th>\n",
       "      <th>Patient</th>\n",
       "      <th>Weeks</th>\n",
       "      <th>FVC</th>\n",
       "      <th>Percent</th>\n",
       "      <th>Age</th>\n",
       "      <th>Sex</th>\n",
       "      <th>SmokingStatus</th>\n",
       "    </tr>\n",
       "  </thead>\n",
       "  <tbody>\n",
       "    <tr>\n",
       "      <th>0</th>\n",
       "      <td>ID00007637202177411956430</td>\n",
       "      <td>-4</td>\n",
       "      <td>2315</td>\n",
       "      <td>58.253649</td>\n",
       "      <td>79</td>\n",
       "      <td>Male</td>\n",
       "      <td>Ex-smoker</td>\n",
       "    </tr>\n",
       "    <tr>\n",
       "      <th>1</th>\n",
       "      <td>ID00007637202177411956430</td>\n",
       "      <td>5</td>\n",
       "      <td>2214</td>\n",
       "      <td>55.712129</td>\n",
       "      <td>79</td>\n",
       "      <td>Male</td>\n",
       "      <td>Ex-smoker</td>\n",
       "    </tr>\n",
       "    <tr>\n",
       "      <th>2</th>\n",
       "      <td>ID00007637202177411956430</td>\n",
       "      <td>7</td>\n",
       "      <td>2061</td>\n",
       "      <td>51.862104</td>\n",
       "      <td>79</td>\n",
       "      <td>Male</td>\n",
       "      <td>Ex-smoker</td>\n",
       "    </tr>\n",
       "    <tr>\n",
       "      <th>3</th>\n",
       "      <td>ID00007637202177411956430</td>\n",
       "      <td>9</td>\n",
       "      <td>2144</td>\n",
       "      <td>53.950679</td>\n",
       "      <td>79</td>\n",
       "      <td>Male</td>\n",
       "      <td>Ex-smoker</td>\n",
       "    </tr>\n",
       "    <tr>\n",
       "      <th>4</th>\n",
       "      <td>ID00007637202177411956430</td>\n",
       "      <td>11</td>\n",
       "      <td>2069</td>\n",
       "      <td>52.063412</td>\n",
       "      <td>79</td>\n",
       "      <td>Male</td>\n",
       "      <td>Ex-smoker</td>\n",
       "    </tr>\n",
       "  </tbody>\n",
       "</table>\n",
       "</div>"
      ],
      "text/plain": [
       "                     Patient  Weeks   FVC    Percent  Age   Sex SmokingStatus\n",
       "0  ID00007637202177411956430     -4  2315  58.253649   79  Male     Ex-smoker\n",
       "1  ID00007637202177411956430      5  2214  55.712129   79  Male     Ex-smoker\n",
       "2  ID00007637202177411956430      7  2061  51.862104   79  Male     Ex-smoker\n",
       "3  ID00007637202177411956430      9  2144  53.950679   79  Male     Ex-smoker\n",
       "4  ID00007637202177411956430     11  2069  52.063412   79  Male     Ex-smoker"
      ]
     },
     "execution_count": 2,
     "metadata": {},
     "output_type": "execute_result"
    }
   ],
   "source": [
    "df_train.head()"
   ]
  },
  {
   "cell_type": "code",
   "execution_count": 3,
   "metadata": {},
   "outputs": [
    {
     "data": {
      "text/plain": [
       "1549"
      ]
     },
     "execution_count": 3,
     "metadata": {},
     "output_type": "execute_result"
    }
   ],
   "source": [
    "len(df_train)"
   ]
  },
  {
   "cell_type": "code",
   "execution_count": 4,
   "metadata": {},
   "outputs": [
    {
     "data": {
      "text/html": [
       "<div>\n",
       "<style scoped>\n",
       "    .dataframe tbody tr th:only-of-type {\n",
       "        vertical-align: middle;\n",
       "    }\n",
       "\n",
       "    .dataframe tbody tr th {\n",
       "        vertical-align: top;\n",
       "    }\n",
       "\n",
       "    .dataframe thead th {\n",
       "        text-align: right;\n",
       "    }\n",
       "</style>\n",
       "<table border=\"1\" class=\"dataframe\">\n",
       "  <thead>\n",
       "    <tr style=\"text-align: right;\">\n",
       "      <th></th>\n",
       "      <th>Patient</th>\n",
       "      <th>Weeks</th>\n",
       "      <th>FVC</th>\n",
       "      <th>Percent</th>\n",
       "      <th>Age</th>\n",
       "      <th>Sex</th>\n",
       "      <th>SmokingStatus</th>\n",
       "    </tr>\n",
       "  </thead>\n",
       "  <tbody>\n",
       "    <tr>\n",
       "      <th>0</th>\n",
       "      <td>ID00419637202311204720264</td>\n",
       "      <td>6</td>\n",
       "      <td>3020</td>\n",
       "      <td>70.186855</td>\n",
       "      <td>73</td>\n",
       "      <td>Male</td>\n",
       "      <td>Ex-smoker</td>\n",
       "    </tr>\n",
       "    <tr>\n",
       "      <th>1</th>\n",
       "      <td>ID00421637202311550012437</td>\n",
       "      <td>15</td>\n",
       "      <td>2739</td>\n",
       "      <td>82.045291</td>\n",
       "      <td>68</td>\n",
       "      <td>Male</td>\n",
       "      <td>Ex-smoker</td>\n",
       "    </tr>\n",
       "    <tr>\n",
       "      <th>2</th>\n",
       "      <td>ID00422637202311677017371</td>\n",
       "      <td>6</td>\n",
       "      <td>1930</td>\n",
       "      <td>76.672493</td>\n",
       "      <td>73</td>\n",
       "      <td>Male</td>\n",
       "      <td>Ex-smoker</td>\n",
       "    </tr>\n",
       "    <tr>\n",
       "      <th>3</th>\n",
       "      <td>ID00423637202312137826377</td>\n",
       "      <td>17</td>\n",
       "      <td>3294</td>\n",
       "      <td>79.258903</td>\n",
       "      <td>72</td>\n",
       "      <td>Male</td>\n",
       "      <td>Ex-smoker</td>\n",
       "    </tr>\n",
       "    <tr>\n",
       "      <th>4</th>\n",
       "      <td>ID00426637202313170790466</td>\n",
       "      <td>0</td>\n",
       "      <td>2925</td>\n",
       "      <td>71.824968</td>\n",
       "      <td>73</td>\n",
       "      <td>Male</td>\n",
       "      <td>Never smoked</td>\n",
       "    </tr>\n",
       "  </tbody>\n",
       "</table>\n",
       "</div>"
      ],
      "text/plain": [
       "                     Patient  Weeks   FVC    Percent  Age   Sex SmokingStatus\n",
       "0  ID00419637202311204720264      6  3020  70.186855   73  Male     Ex-smoker\n",
       "1  ID00421637202311550012437     15  2739  82.045291   68  Male     Ex-smoker\n",
       "2  ID00422637202311677017371      6  1930  76.672493   73  Male     Ex-smoker\n",
       "3  ID00423637202312137826377     17  3294  79.258903   72  Male     Ex-smoker\n",
       "4  ID00426637202313170790466      0  2925  71.824968   73  Male  Never smoked"
      ]
     },
     "execution_count": 4,
     "metadata": {},
     "output_type": "execute_result"
    }
   ],
   "source": [
    "df_test.head()"
   ]
  },
  {
   "cell_type": "markdown",
   "metadata": {},
   "source": [
    "- Patient- a unique Id for each patient (also the name of the patient's DICOM folder)\n",
    "- Weeks- the relative number of weeks pre/post the baseline CT (may be negative)\n",
    "- FVC - the recorded lung capacity in ml\n",
    "- Percent- a computed field which approximates the patient's FVC as a percent of the - typical FVC for a person of similar characteristics\n",
    "- Age\n",
    "- Sex\n",
    "- SmokingStatus\n",
    "\n",
    "Comprobamos los valores disponibles por columna:"
   ]
  },
  {
   "cell_type": "code",
   "execution_count": 4,
   "metadata": {},
   "outputs": [
    {
     "name": "stdout",
     "output_type": "stream",
     "text": [
      "Valores únicos por columna:\n"
     ]
    },
    {
     "data": {
      "text/html": [
       "<div>\n",
       "<style scoped>\n",
       "    .dataframe tbody tr th:only-of-type {\n",
       "        vertical-align: middle;\n",
       "    }\n",
       "\n",
       "    .dataframe tbody tr th {\n",
       "        vertical-align: top;\n",
       "    }\n",
       "\n",
       "    .dataframe thead th {\n",
       "        text-align: right;\n",
       "    }\n",
       "</style>\n",
       "<table border=\"1\" class=\"dataframe\">\n",
       "  <thead>\n",
       "    <tr style=\"text-align: right;\">\n",
       "      <th></th>\n",
       "      <th>columns</th>\n",
       "      <th>unique_len</th>\n",
       "      <th>unique_values</th>\n",
       "    </tr>\n",
       "  </thead>\n",
       "  <tbody>\n",
       "    <tr>\n",
       "      <th>0</th>\n",
       "      <td>Patient</td>\n",
       "      <td>176</td>\n",
       "      <td>[ID00007637202177411956430, ID0000963720217743...</td>\n",
       "    </tr>\n",
       "    <tr>\n",
       "      <th>1</th>\n",
       "      <td>Weeks</td>\n",
       "      <td>112</td>\n",
       "      <td>[-4, 5, 7, 9, 11, 17, 29, 41, 57, 8, 13, 15, 2...</td>\n",
       "    </tr>\n",
       "    <tr>\n",
       "      <th>2</th>\n",
       "      <td>FVC</td>\n",
       "      <td>1202</td>\n",
       "      <td>[2315, 2214, 2061, 2144, 2069, 2101, 2000, 206...</td>\n",
       "    </tr>\n",
       "    <tr>\n",
       "      <th>3</th>\n",
       "      <td>Percent</td>\n",
       "      <td>1536</td>\n",
       "      <td>[58.2536487166583, 55.7121288374434, 51.862103...</td>\n",
       "    </tr>\n",
       "    <tr>\n",
       "      <th>4</th>\n",
       "      <td>Age</td>\n",
       "      <td>34</td>\n",
       "      <td>[79, 69, 60, 72, 65, 56, 71, 83, 66, 57, 73, 6...</td>\n",
       "    </tr>\n",
       "    <tr>\n",
       "      <th>5</th>\n",
       "      <td>Sex</td>\n",
       "      <td>2</td>\n",
       "      <td>[Male, Female]</td>\n",
       "    </tr>\n",
       "    <tr>\n",
       "      <th>6</th>\n",
       "      <td>SmokingStatus</td>\n",
       "      <td>3</td>\n",
       "      <td>[Ex-smoker, Never smoked, Currently smokes]</td>\n",
       "    </tr>\n",
       "  </tbody>\n",
       "</table>\n",
       "</div>"
      ],
      "text/plain": [
       "         columns  unique_len  \\\n",
       "0        Patient         176   \n",
       "1          Weeks         112   \n",
       "2            FVC        1202   \n",
       "3        Percent        1536   \n",
       "4            Age          34   \n",
       "5            Sex           2   \n",
       "6  SmokingStatus           3   \n",
       "\n",
       "                                       unique_values  \n",
       "0  [ID00007637202177411956430, ID0000963720217743...  \n",
       "1  [-4, 5, 7, 9, 11, 17, 29, 41, 57, 8, 13, 15, 2...  \n",
       "2  [2315, 2214, 2061, 2144, 2069, 2101, 2000, 206...  \n",
       "3  [58.2536487166583, 55.7121288374434, 51.862103...  \n",
       "4  [79, 69, 60, 72, 65, 56, 71, 83, 66, 57, 73, 6...  \n",
       "5                                     [Male, Female]  \n",
       "6        [Ex-smoker, Never smoked, Currently smokes]  "
      ]
     },
     "execution_count": 4,
     "metadata": {},
     "output_type": "execute_result"
    }
   ],
   "source": [
    "unique_values = {'columns': [], 'unique_len': [], 'unique_values': []}\n",
    "for key in df_train.keys():\n",
    "    unique_values['columns'].append(key)\n",
    "    items = df_train[key].unique()\n",
    "    unique_values['unique_values'].append(items)\n",
    "    unique_values['unique_len'].append(len(items))\n",
    "\n",
    "unique_df = pd.DataFrame(data=unique_values)\n",
    "print('Valores únicos por columna:')\n",
    "unique_df"
   ]
  },
  {
   "cell_type": "markdown",
   "metadata": {},
   "source": [
    "2. Comprobamos total de datos y datos únicos por paciente"
   ]
  },
  {
   "cell_type": "code",
   "execution_count": 18,
   "metadata": {
    "id": "Bl2rdqgYXzil",
    "outputId": "8486ae6d-833c-49e8-c31e-a1b81219721c"
   },
   "outputs": [
    {
     "name": "stdout",
     "output_type": "stream",
     "text": [
      "Len total datos entrenamiento 1549  de los cuales únicos  176\n",
      "\n",
      "Len total datos pruebas 5  de los cuales únicos  5\n"
     ]
    }
   ],
   "source": [
    "print('Len total datos entrenamiento', len(df_train), ' de los cuales únicos ', len(df_train['Patient'].unique()))\n",
    "print('\\nLen total datos pruebas', len(df_test), ' de los cuales únicos ', len(df_test['Patient'].unique()))"
   ]
  },
  {
   "cell_type": "markdown",
   "metadata": {},
   "source": [
    "3. Comprobamos datos no nulos"
   ]
  },
  {
   "cell_type": "code",
   "execution_count": 20,
   "metadata": {
    "id": "InugOoe1Xzim",
    "outputId": "f34bf57a-ddb9-48b4-97ce-cafa6d54d2a6"
   },
   "outputs": [
    {
     "data": {
      "text/plain": [
       "Patient          0\n",
       "Weeks            0\n",
       "FVC              0\n",
       "Percent          0\n",
       "Age              0\n",
       "Sex              0\n",
       "SmokingStatus    0\n",
       "dtype: int64"
      ]
     },
     "execution_count": 20,
     "metadata": {},
     "output_type": "execute_result"
    }
   ],
   "source": [
    "df_train.isnull().sum()"
   ]
  },
  {
   "cell_type": "code",
   "execution_count": 21,
   "metadata": {},
   "outputs": [
    {
     "data": {
      "text/plain": [
       "Patient          0\n",
       "Weeks            0\n",
       "FVC              0\n",
       "Percent          0\n",
       "Age              0\n",
       "Sex              0\n",
       "SmokingStatus    0\n",
       "dtype: int64"
      ]
     },
     "execution_count": 21,
     "metadata": {},
     "output_type": "execute_result"
    }
   ],
   "source": [
    "df_test.isnull().sum()"
   ]
  },
  {
   "cell_type": "markdown",
   "metadata": {},
   "source": [
    "4. Resumen datos entrenamiento"
   ]
  },
  {
   "cell_type": "code",
   "execution_count": 26,
   "metadata": {},
   "outputs": [
    {
     "data": {
      "text/html": [
       "<div>\n",
       "<style scoped>\n",
       "    .dataframe tbody tr th:only-of-type {\n",
       "        vertical-align: middle;\n",
       "    }\n",
       "\n",
       "    .dataframe tbody tr th {\n",
       "        vertical-align: top;\n",
       "    }\n",
       "\n",
       "    .dataframe thead th {\n",
       "        text-align: right;\n",
       "    }\n",
       "</style>\n",
       "<table border=\"1\" class=\"dataframe\">\n",
       "  <thead>\n",
       "    <tr style=\"text-align: right;\">\n",
       "      <th></th>\n",
       "      <th>Weeks</th>\n",
       "      <th>FVC</th>\n",
       "      <th>Percent</th>\n",
       "      <th>Age</th>\n",
       "    </tr>\n",
       "  </thead>\n",
       "  <tbody>\n",
       "    <tr>\n",
       "      <th>count</th>\n",
       "      <td>1549.000000</td>\n",
       "      <td>1549.000000</td>\n",
       "      <td>1549.000000</td>\n",
       "      <td>1549.000000</td>\n",
       "    </tr>\n",
       "    <tr>\n",
       "      <th>mean</th>\n",
       "      <td>31.861846</td>\n",
       "      <td>2690.479019</td>\n",
       "      <td>77.672654</td>\n",
       "      <td>67.188509</td>\n",
       "    </tr>\n",
       "    <tr>\n",
       "      <th>std</th>\n",
       "      <td>23.247550</td>\n",
       "      <td>832.770959</td>\n",
       "      <td>19.823261</td>\n",
       "      <td>7.057395</td>\n",
       "    </tr>\n",
       "    <tr>\n",
       "      <th>min</th>\n",
       "      <td>-5.000000</td>\n",
       "      <td>827.000000</td>\n",
       "      <td>28.877577</td>\n",
       "      <td>49.000000</td>\n",
       "    </tr>\n",
       "    <tr>\n",
       "      <th>25%</th>\n",
       "      <td>12.000000</td>\n",
       "      <td>2109.000000</td>\n",
       "      <td>62.832700</td>\n",
       "      <td>63.000000</td>\n",
       "    </tr>\n",
       "    <tr>\n",
       "      <th>50%</th>\n",
       "      <td>28.000000</td>\n",
       "      <td>2641.000000</td>\n",
       "      <td>75.676937</td>\n",
       "      <td>68.000000</td>\n",
       "    </tr>\n",
       "    <tr>\n",
       "      <th>75%</th>\n",
       "      <td>47.000000</td>\n",
       "      <td>3171.000000</td>\n",
       "      <td>88.621065</td>\n",
       "      <td>72.000000</td>\n",
       "    </tr>\n",
       "    <tr>\n",
       "      <th>max</th>\n",
       "      <td>133.000000</td>\n",
       "      <td>6399.000000</td>\n",
       "      <td>153.145378</td>\n",
       "      <td>88.000000</td>\n",
       "    </tr>\n",
       "  </tbody>\n",
       "</table>\n",
       "</div>"
      ],
      "text/plain": [
       "             Weeks          FVC      Percent          Age\n",
       "count  1549.000000  1549.000000  1549.000000  1549.000000\n",
       "mean     31.861846  2690.479019    77.672654    67.188509\n",
       "std      23.247550   832.770959    19.823261     7.057395\n",
       "min      -5.000000   827.000000    28.877577    49.000000\n",
       "25%      12.000000  2109.000000    62.832700    63.000000\n",
       "50%      28.000000  2641.000000    75.676937    68.000000\n",
       "75%      47.000000  3171.000000    88.621065    72.000000\n",
       "max     133.000000  6399.000000   153.145378    88.000000"
      ]
     },
     "execution_count": 26,
     "metadata": {},
     "output_type": "execute_result"
    }
   ],
   "source": [
    "df_train.describe()"
   ]
  },
  {
   "cell_type": "code",
   "execution_count": 6,
   "metadata": {},
   "outputs": [
    {
     "data": {
      "text/html": [
       "<div>\n",
       "<style scoped>\n",
       "    .dataframe tbody tr th:only-of-type {\n",
       "        vertical-align: middle;\n",
       "    }\n",
       "\n",
       "    .dataframe tbody tr th {\n",
       "        vertical-align: top;\n",
       "    }\n",
       "\n",
       "    .dataframe thead th {\n",
       "        text-align: right;\n",
       "    }\n",
       "</style>\n",
       "<table border=\"1\" class=\"dataframe\">\n",
       "  <thead>\n",
       "    <tr style=\"text-align: right;\">\n",
       "      <th></th>\n",
       "      <th>Weeks</th>\n",
       "      <th>FVC</th>\n",
       "      <th>Percent</th>\n",
       "      <th>Age</th>\n",
       "    </tr>\n",
       "  </thead>\n",
       "  <tbody>\n",
       "    <tr>\n",
       "      <th>count</th>\n",
       "      <td>5.000000</td>\n",
       "      <td>5.000000</td>\n",
       "      <td>5.000000</td>\n",
       "      <td>5.000000</td>\n",
       "    </tr>\n",
       "    <tr>\n",
       "      <th>mean</th>\n",
       "      <td>8.800000</td>\n",
       "      <td>2781.600000</td>\n",
       "      <td>75.997702</td>\n",
       "      <td>71.800000</td>\n",
       "    </tr>\n",
       "    <tr>\n",
       "      <th>std</th>\n",
       "      <td>7.049823</td>\n",
       "      <td>516.475846</td>\n",
       "      <td>4.970960</td>\n",
       "      <td>2.167948</td>\n",
       "    </tr>\n",
       "    <tr>\n",
       "      <th>min</th>\n",
       "      <td>0.000000</td>\n",
       "      <td>1930.000000</td>\n",
       "      <td>70.186855</td>\n",
       "      <td>68.000000</td>\n",
       "    </tr>\n",
       "    <tr>\n",
       "      <th>25%</th>\n",
       "      <td>6.000000</td>\n",
       "      <td>2739.000000</td>\n",
       "      <td>71.824968</td>\n",
       "      <td>72.000000</td>\n",
       "    </tr>\n",
       "    <tr>\n",
       "      <th>50%</th>\n",
       "      <td>6.000000</td>\n",
       "      <td>2925.000000</td>\n",
       "      <td>76.672493</td>\n",
       "      <td>73.000000</td>\n",
       "    </tr>\n",
       "    <tr>\n",
       "      <th>75%</th>\n",
       "      <td>15.000000</td>\n",
       "      <td>3020.000000</td>\n",
       "      <td>79.258903</td>\n",
       "      <td>73.000000</td>\n",
       "    </tr>\n",
       "    <tr>\n",
       "      <th>max</th>\n",
       "      <td>17.000000</td>\n",
       "      <td>3294.000000</td>\n",
       "      <td>82.045291</td>\n",
       "      <td>73.000000</td>\n",
       "    </tr>\n",
       "  </tbody>\n",
       "</table>\n",
       "</div>"
      ],
      "text/plain": [
       "           Weeks          FVC    Percent        Age\n",
       "count   5.000000     5.000000   5.000000   5.000000\n",
       "mean    8.800000  2781.600000  75.997702  71.800000\n",
       "std     7.049823   516.475846   4.970960   2.167948\n",
       "min     0.000000  1930.000000  70.186855  68.000000\n",
       "25%     6.000000  2739.000000  71.824968  72.000000\n",
       "50%     6.000000  2925.000000  76.672493  73.000000\n",
       "75%    15.000000  3020.000000  79.258903  73.000000\n",
       "max    17.000000  3294.000000  82.045291  73.000000"
      ]
     },
     "execution_count": 6,
     "metadata": {},
     "output_type": "execute_result"
    }
   ],
   "source": [
    "df_test.describe()"
   ]
  },
  {
   "cell_type": "markdown",
   "metadata": {},
   "source": [
    "## Factores riesgo train csv: Edad, Sexo, Estado de fumador\n",
    "\n",
    "### edad"
   ]
  },
  {
   "cell_type": "code",
   "execution_count": 6,
   "metadata": {},
   "outputs": [],
   "source": [
    "unique_patients = df_train.drop_duplicates(subset=['Patient'], keep='last')"
   ]
  },
  {
   "cell_type": "code",
   "execution_count": 7,
   "metadata": {
    "id": "aG9aEvuzXzim",
    "outputId": "6c525c43-f94d-481b-ac8d-1c70f9d4d2a3"
   },
   "outputs": [
    {
     "name": "stdout",
     "output_type": "stream",
     "text": [
      "Descripción datos por edad\n"
     ]
    },
    {
     "data": {
      "text/html": [
       "<div>\n",
       "<style scoped>\n",
       "    .dataframe tbody tr th:only-of-type {\n",
       "        vertical-align: middle;\n",
       "    }\n",
       "\n",
       "    .dataframe tbody tr th {\n",
       "        vertical-align: top;\n",
       "    }\n",
       "\n",
       "    .dataframe thead th {\n",
       "        text-align: right;\n",
       "    }\n",
       "</style>\n",
       "<table border=\"1\" class=\"dataframe\">\n",
       "  <thead>\n",
       "    <tr style=\"text-align: right;\">\n",
       "      <th></th>\n",
       "      <th>Age</th>\n",
       "    </tr>\n",
       "  </thead>\n",
       "  <tbody>\n",
       "    <tr>\n",
       "      <th>count</th>\n",
       "      <td>176.000000</td>\n",
       "    </tr>\n",
       "    <tr>\n",
       "      <th>mean</th>\n",
       "      <td>67.261364</td>\n",
       "    </tr>\n",
       "    <tr>\n",
       "      <th>std</th>\n",
       "      <td>7.088009</td>\n",
       "    </tr>\n",
       "    <tr>\n",
       "      <th>min</th>\n",
       "      <td>49.000000</td>\n",
       "    </tr>\n",
       "    <tr>\n",
       "      <th>25%</th>\n",
       "      <td>63.000000</td>\n",
       "    </tr>\n",
       "    <tr>\n",
       "      <th>50%</th>\n",
       "      <td>68.000000</td>\n",
       "    </tr>\n",
       "    <tr>\n",
       "      <th>75%</th>\n",
       "      <td>72.000000</td>\n",
       "    </tr>\n",
       "    <tr>\n",
       "      <th>max</th>\n",
       "      <td>88.000000</td>\n",
       "    </tr>\n",
       "  </tbody>\n",
       "</table>\n",
       "</div>"
      ],
      "text/plain": [
       "              Age\n",
       "count  176.000000\n",
       "mean    67.261364\n",
       "std      7.088009\n",
       "min     49.000000\n",
       "25%     63.000000\n",
       "50%     68.000000\n",
       "75%     72.000000\n",
       "max     88.000000"
      ]
     },
     "execution_count": 7,
     "metadata": {},
     "output_type": "execute_result"
    }
   ],
   "source": [
    "print('Descripción datos por edad')\n",
    "pd.DataFrame(data=unique_patients['Age'].describe())"
   ]
  },
  {
   "cell_type": "code",
   "execution_count": 25,
   "metadata": {
    "id": "hKPuJXt5Xzim",
    "outputId": "36cd4f6d-b40a-494c-cbd5-fc75b42e8f35"
   },
   "outputs": [
    {
     "data": {
      "text/plain": [
       "<seaborn.axisgrid.FacetGrid at 0x7fef0f3a69d0>"
      ]
     },
     "execution_count": 25,
     "metadata": {},
     "output_type": "execute_result"
    },
    {
     "data": {
      "image/png": "[encoded data removed]",
      "text/plain": [
       "<Figure size 360x360 with 1 Axes>"
      ]
     },
     "metadata": {
      "needs_background": "light"
     },
     "output_type": "display_data"
    }
   ],
   "source": [
    "import matplotlib.pyplot as plt\n",
    "import seaborn as sns\n",
    "\n",
    "sns.displot(data=unique_patients, x=\"Age\", color=\"#ea5611\", kde=True)\n",
    "\n"
   ]
  },
  {
   "cell_type": "markdown",
   "metadata": {},
   "source": [
    "### sexo"
   ]
  },
  {
   "cell_type": "code",
   "execution_count": 15,
   "metadata": {},
   "outputs": [
    {
     "name": "stdout",
     "output_type": "stream",
     "text": [
      "Total pacientes por género\n"
     ]
    },
    {
     "data": {
      "text/plain": [
       "Male      139\n",
       "Female     37\n",
       "Name: Sex, dtype: int64"
      ]
     },
     "execution_count": 15,
     "metadata": {},
     "output_type": "execute_result"
    }
   ],
   "source": [
    "unique_patients = df_train.drop_duplicates(subset=['Patient'], keep='last')\n",
    "\n",
    "print('Total pacientes por género')\n",
    "unique_patients['Sex'].value_counts()"
   ]
  },
  {
   "cell_type": "code",
   "execution_count": 19,
   "metadata": {},
   "outputs": [
    {
     "data": {
      "text/plain": [
       "78.97727272727273"
      ]
     },
     "execution_count": 19,
     "metadata": {},
     "output_type": "execute_result"
    }
   ],
   "source": [
    "unique_patients['Sex'].value_counts()['Male'] / len(df_train['Patient'].unique()) * 100"
   ]
  },
  {
   "cell_type": "code",
   "execution_count": 20,
   "metadata": {},
   "outputs": [
    {
     "data": {
      "text/plain": [
       "<seaborn.axisgrid.FacetGrid at 0x7fef11b77e90>"
      ]
     },
     "execution_count": 20,
     "metadata": {},
     "output_type": "execute_result"
    },
    {
     "data": {
      "image/png": "[encoded data removed]",
      "text/plain": [
       "<Figure size 360x360 with 1 Axes>"
      ]
     },
     "metadata": {
      "needs_background": "light"
     },
     "output_type": "display_data"
    }
   ],
   "source": [
    "sns.displot(data=unique_patients, x=\"Sex\", color=\"#ea5611\")\n"
   ]
  },
  {
   "cell_type": "markdown",
   "metadata": {},
   "source": [
    "### tabaquismo"
   ]
  },
  {
   "cell_type": "code",
   "execution_count": 21,
   "metadata": {},
   "outputs": [
    {
     "name": "stdout",
     "output_type": "stream",
     "text": [
      "Total pacientes por estado fumador\n"
     ]
    },
    {
     "data": {
      "text/plain": [
       "Ex-smoker           118\n",
       "Never smoked         49\n",
       "Currently smokes      9\n",
       "Name: SmokingStatus, dtype: int64"
      ]
     },
     "execution_count": 21,
     "metadata": {},
     "output_type": "execute_result"
    }
   ],
   "source": [
    "print('Total pacientes por estado fumador')\n",
    "unique_patients['SmokingStatus'].value_counts()"
   ]
  },
  {
   "cell_type": "code",
   "execution_count": 24,
   "metadata": {},
   "outputs": [
    {
     "data": {
      "text/plain": [
       "72.1590909090909"
      ]
     },
     "execution_count": 24,
     "metadata": {},
     "output_type": "execute_result"
    }
   ],
   "source": [
    "(unique_patients['SmokingStatus'].value_counts()['Ex-smoker'] + unique_patients['SmokingStatus'].value_counts()['Currently smokes']) / len(df_train['Patient'].unique()) * 100"
   ]
  },
  {
   "cell_type": "code",
   "execution_count": 22,
   "metadata": {},
   "outputs": [
    {
     "data": {
      "text/plain": [
       "<seaborn.axisgrid.FacetGrid at 0x7fef0f259090>"
      ]
     },
     "execution_count": 22,
     "metadata": {},
     "output_type": "execute_result"
    },
    {
     "data": {
      "image/png": "[encoded data removed]",
      "text/plain": [
       "<Figure size 360x360 with 1 Axes>"
      ]
     },
     "metadata": {
      "needs_background": "light"
     },
     "output_type": "display_data"
    }
   ],
   "source": [
    "sns.displot(data=unique_patients, x=\"SmokingStatus\", color=\"#ea5611\")"
   ]
  },
  {
   "cell_type": "markdown",
   "metadata": {},
   "source": [
    "### otros"
   ]
  },
  {
   "cell_type": "code",
   "execution_count": 27,
   "metadata": {},
   "outputs": [
    {
     "data": {
      "image/png": "[encoded data removed]",
      "text/plain": [
       "<Figure size 1440x504 with 2 Axes>"
      ]
     },
     "metadata": {
      "needs_background": "light"
     },
     "output_type": "display_data"
    }
   ],
   "source": [
    "fig, axs = plt.subplots(ncols=2, figsize=(20, 7))\n",
    "sns.kdeplot(data=unique_patients, x='Age', hue='Sex', shade=True, ax=axs[0]);\n",
    "sns.kdeplot(data=unique_patients, x='Age', hue='SmokingStatus', shade=True, ax=axs[1]);"
   ]
  },
  {
   "cell_type": "code",
   "execution_count": 29,
   "metadata": {},
   "outputs": [
    {
     "data": {
      "image/png": "[encoded data removed]",
      "text/plain": [
       "<Figure size 1440x504 with 3 Axes>"
      ]
     },
     "metadata": {
      "needs_background": "light"
     },
     "output_type": "display_data"
    }
   ],
   "source": [
    "fig, axs = plt.subplots(ncols=3, figsize=(20, 7))\n",
    "sns.countplot(x=\"SmokingStatus\", hue=\"Sex\", data=unique_patients, ax=axs[0]);\n",
    "sns.boxplot(x=\"SmokingStatus\", y=\"Percent\", hue=\"Sex\", data=unique_patients, ax=axs[1]);\n",
    "sns.swarmplot(x=\"SmokingStatus\", y=\"Percent\", hue=\"Sex\", data=unique_patients, ax=axs[2]);"
   ]
  }
 ],
 "metadata": {
  "colab": {
   "name": "datos_iniciales_1.ipynb",
   "provenance": []
  },
  "kernelspec": {
   "display_name": "Python 3",
   "language": "python",
   "name": "python3"
  },
  "language_info": {
   "codemirror_mode": {
    "name": "ipython",
    "version": 3
   },
   "file_extension": ".py",
   "mimetype": "text/x-python",
   "name": "python",
   "nbconvert_exporter": "python",
   "pygments_lexer": "ipython3",
   "version": "3.7.9"
  }
 },
 "nbformat": 4,
 "nbformat_minor": 4
}
