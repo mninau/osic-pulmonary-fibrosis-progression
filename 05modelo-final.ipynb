{
  "nbformat": 4,
  "nbformat_minor": 0,
  "metadata": {
    "kernelspec": {
      "display_name": "Python 3",
      "language": "python",
      "name": "python3"
    },
    "language_info": {
      "codemirror_mode": {
        "name": "ipython",
        "version": 3
      },
      "file_extension": ".py",
      "mimetype": "text/x-python",
      "name": "python",
      "nbconvert_exporter": "python",
      "pygments_lexer": "ipython3",
      "version": "3.7.9"
    },
    "papermill": {
      "duration": 628.92326,
      "end_time": "2020-09-06T02:35:15.112581",
      "environment_variables": {},
      "exception": null,
      "input_path": "__notebook__.ipynb",
      "output_path": "__notebook__.ipynb",
      "parameters": {},
      "start_time": "2020-09-06T02:24:46.189321",
      "version": "2.1.0"
    },
    "colab": {
      "name": "ModeloFinal.ipynb",
      "provenance": [],
      "collapsed_sections": [],
      "toc_visible": true
    },
    "accelerator": "GPU"
  },
  "cells": [
    {
      "cell_type": "markdown",
      "metadata": {
        "papermill": {
          "duration": 0.007812,
          "end_time": "2020-09-06T02:24:50.546583",
          "exception": false,
          "start_time": "2020-09-06T02:24:50.538771",
          "status": "completed"
        },
        "tags": [],
        "id": "XuLJ7H2N6GjD"
      },
      "source": [
        "# MODELO"
      ]
    },
    {
      "cell_type": "code",
      "metadata": {
        "colab": {
          "base_uri": "https://localhost:8080/"
        },
        "id": "GL_L9wGf6S13",
        "outputId": "5342a159-75c6-423a-e873-f36030c65a38"
      },
      "source": [
        "!pip install pydicom\n",
        "!pip install efficientnet"
      ],
      "execution_count": null,
      "outputs": [
        {
          "output_type": "stream",
          "text": [
            "Collecting pydicom\n",
            "\u001b[?25l  Downloading https://files.pythonhosted.org/packages/f4/15/df16546bc59bfca390cf072d473fb2c8acd4231636f64356593a63137e55/pydicom-2.1.2-py3-none-any.whl (1.9MB)\n",
            "\r\u001b[K     |▏                               | 10kB 24.7MB/s eta 0:00:01\r\u001b[K     |▍                               | 20kB 31.3MB/s eta 0:00:01\r\u001b[K     |▌                               | 30kB 23.1MB/s eta 0:00:01\r\u001b[K     |▊                               | 40kB 26.8MB/s eta 0:00:01\r\u001b[K     |▉                               | 51kB 25.1MB/s eta 0:00:01\r\u001b[K     |█                               | 61kB 27.8MB/s eta 0:00:01\r\u001b[K     |█▏                              | 71kB 18.5MB/s eta 0:00:01\r\u001b[K     |█▍                              | 81kB 19.7MB/s eta 0:00:01\r\u001b[K     |█▋                              | 92kB 18.6MB/s eta 0:00:01\r\u001b[K     |█▊                              | 102kB 18.5MB/s eta 0:00:01\r\u001b[K     |██                              | 112kB 18.5MB/s eta 0:00:01\r\u001b[K     |██                              | 122kB 18.5MB/s eta 0:00:01\r\u001b[K     |██▎                             | 133kB 18.5MB/s eta 0:00:01\r\u001b[K     |██▍                             | 143kB 18.5MB/s eta 0:00:01\r\u001b[K     |██▋                             | 153kB 18.5MB/s eta 0:00:01\r\u001b[K     |██▉                             | 163kB 18.5MB/s eta 0:00:01\r\u001b[K     |███                             | 174kB 18.5MB/s eta 0:00:01\r\u001b[K     |███▏                            | 184kB 18.5MB/s eta 0:00:01\r\u001b[K     |███▎                            | 194kB 18.5MB/s eta 0:00:01\r\u001b[K     |███▌                            | 204kB 18.5MB/s eta 0:00:01\r\u001b[K     |███▋                            | 215kB 18.5MB/s eta 0:00:01\r\u001b[K     |███▉                            | 225kB 18.5MB/s eta 0:00:01\r\u001b[K     |████                            | 235kB 18.5MB/s eta 0:00:01\r\u001b[K     |████▏                           | 245kB 18.5MB/s eta 0:00:01\r\u001b[K     |████▍                           | 256kB 18.5MB/s eta 0:00:01\r\u001b[K     |████▌                           | 266kB 18.5MB/s eta 0:00:01\r\u001b[K     |████▊                           | 276kB 18.5MB/s eta 0:00:01\r\u001b[K     |████▉                           | 286kB 18.5MB/s eta 0:00:01\r\u001b[K     |█████                           | 296kB 18.5MB/s eta 0:00:01\r\u001b[K     |█████▎                          | 307kB 18.5MB/s eta 0:00:01\r\u001b[K     |█████▍                          | 317kB 18.5MB/s eta 0:00:01\r\u001b[K     |█████▋                          | 327kB 18.5MB/s eta 0:00:01\r\u001b[K     |█████▊                          | 337kB 18.5MB/s eta 0:00:01\r\u001b[K     |██████                          | 348kB 18.5MB/s eta 0:00:01\r\u001b[K     |██████                          | 358kB 18.5MB/s eta 0:00:01\r\u001b[K     |██████▎                         | 368kB 18.5MB/s eta 0:00:01\r\u001b[K     |██████▌                         | 378kB 18.5MB/s eta 0:00:01\r\u001b[K     |██████▋                         | 389kB 18.5MB/s eta 0:00:01\r\u001b[K     |██████▉                         | 399kB 18.5MB/s eta 0:00:01\r\u001b[K     |███████                         | 409kB 18.5MB/s eta 0:00:01\r\u001b[K     |███████▏                        | 419kB 18.5MB/s eta 0:00:01\r\u001b[K     |███████▎                        | 430kB 18.5MB/s eta 0:00:01\r\u001b[K     |███████▌                        | 440kB 18.5MB/s eta 0:00:01\r\u001b[K     |███████▊                        | 450kB 18.5MB/s eta 0:00:01\r\u001b[K     |███████▉                        | 460kB 18.5MB/s eta 0:00:01\r\u001b[K     |████████                        | 471kB 18.5MB/s eta 0:00:01\r\u001b[K     |████████▏                       | 481kB 18.5MB/s eta 0:00:01\r\u001b[K     |████████▍                       | 491kB 18.5MB/s eta 0:00:01\r\u001b[K     |████████▌                       | 501kB 18.5MB/s eta 0:00:01\r\u001b[K     |████████▊                       | 512kB 18.5MB/s eta 0:00:01\r\u001b[K     |█████████                       | 522kB 18.5MB/s eta 0:00:01\r\u001b[K     |█████████                       | 532kB 18.5MB/s eta 0:00:01\r\u001b[K     |█████████▎                      | 542kB 18.5MB/s eta 0:00:01\r\u001b[K     |█████████▍                      | 552kB 18.5MB/s eta 0:00:01\r\u001b[K     |█████████▋                      | 563kB 18.5MB/s eta 0:00:01\r\u001b[K     |█████████▊                      | 573kB 18.5MB/s eta 0:00:01\r\u001b[K     |██████████                      | 583kB 18.5MB/s eta 0:00:01\r\u001b[K     |██████████▏                     | 593kB 18.5MB/s eta 0:00:01\r\u001b[K     |██████████▎                     | 604kB 18.5MB/s eta 0:00:01\r\u001b[K     |██████████▌                     | 614kB 18.5MB/s eta 0:00:01\r\u001b[K     |██████████▋                     | 624kB 18.5MB/s eta 0:00:01\r\u001b[K     |██████████▉                     | 634kB 18.5MB/s eta 0:00:01\r\u001b[K     |███████████                     | 645kB 18.5MB/s eta 0:00:01\r\u001b[K     |███████████▏                    | 655kB 18.5MB/s eta 0:00:01\r\u001b[K     |███████████▍                    | 665kB 18.5MB/s eta 0:00:01\r\u001b[K     |███████████▌                    | 675kB 18.5MB/s eta 0:00:01\r\u001b[K     |███████████▊                    | 686kB 18.5MB/s eta 0:00:01\r\u001b[K     |███████████▉                    | 696kB 18.5MB/s eta 0:00:01\r\u001b[K     |████████████                    | 706kB 18.5MB/s eta 0:00:01\r\u001b[K     |████████████▏                   | 716kB 18.5MB/s eta 0:00:01\r\u001b[K     |████████████▍                   | 727kB 18.5MB/s eta 0:00:01\r\u001b[K     |████████████▋                   | 737kB 18.5MB/s eta 0:00:01\r\u001b[K     |████████████▊                   | 747kB 18.5MB/s eta 0:00:01\r\u001b[K     |█████████████                   | 757kB 18.5MB/s eta 0:00:01\r\u001b[K     |█████████████                   | 768kB 18.5MB/s eta 0:00:01\r\u001b[K     |█████████████▎                  | 778kB 18.5MB/s eta 0:00:01\r\u001b[K     |█████████████▍                  | 788kB 18.5MB/s eta 0:00:01\r\u001b[K     |█████████████▋                  | 798kB 18.5MB/s eta 0:00:01\r\u001b[K     |█████████████▉                  | 808kB 18.5MB/s eta 0:00:01\r\u001b[K     |██████████████                  | 819kB 18.5MB/s eta 0:00:01\r\u001b[K     |██████████████▏                 | 829kB 18.5MB/s eta 0:00:01\r\u001b[K     |██████████████▎                 | 839kB 18.5MB/s eta 0:00:01\r\u001b[K     |██████████████▌                 | 849kB 18.5MB/s eta 0:00:01\r\u001b[K     |██████████████▋                 | 860kB 18.5MB/s eta 0:00:01\r\u001b[K     |██████████████▉                 | 870kB 18.5MB/s eta 0:00:01\r\u001b[K     |███████████████                 | 880kB 18.5MB/s eta 0:00:01\r\u001b[K     |███████████████▏                | 890kB 18.5MB/s eta 0:00:01\r\u001b[K     |███████████████▍                | 901kB 18.5MB/s eta 0:00:01\r\u001b[K     |███████████████▌                | 911kB 18.5MB/s eta 0:00:01\r\u001b[K     |███████████████▊                | 921kB 18.5MB/s eta 0:00:01\r\u001b[K     |███████████████▉                | 931kB 18.5MB/s eta 0:00:01\r\u001b[K     |████████████████                | 942kB 18.5MB/s eta 0:00:01\r\u001b[K     |████████████████▎               | 952kB 18.5MB/s eta 0:00:01\r\u001b[K     |████████████████▍               | 962kB 18.5MB/s eta 0:00:01\r\u001b[K     |████████████████▋               | 972kB 18.5MB/s eta 0:00:01\r\u001b[K     |████████████████▊               | 983kB 18.5MB/s eta 0:00:01\r\u001b[K     |█████████████████               | 993kB 18.5MB/s eta 0:00:01\r\u001b[K     |█████████████████               | 1.0MB 18.5MB/s eta 0:00:01\r\u001b[K     |█████████████████▎              | 1.0MB 18.5MB/s eta 0:00:01\r\u001b[K     |█████████████████▌              | 1.0MB 18.5MB/s eta 0:00:01\r\u001b[K     |█████████████████▋              | 1.0MB 18.5MB/s eta 0:00:01\r\u001b[K     |█████████████████▉              | 1.0MB 18.5MB/s eta 0:00:01\r\u001b[K     |██████████████████              | 1.1MB 18.5MB/s eta 0:00:01\r\u001b[K     |██████████████████▏             | 1.1MB 18.5MB/s eta 0:00:01\r\u001b[K     |██████████████████▎             | 1.1MB 18.5MB/s eta 0:00:01\r\u001b[K     |██████████████████▌             | 1.1MB 18.5MB/s eta 0:00:01\r\u001b[K     |██████████████████▊             | 1.1MB 18.5MB/s eta 0:00:01\r\u001b[K     |██████████████████▉             | 1.1MB 18.5MB/s eta 0:00:01\r\u001b[K     |███████████████████             | 1.1MB 18.5MB/s eta 0:00:01\r\u001b[K     |███████████████████▏            | 1.1MB 18.5MB/s eta 0:00:01\r\u001b[K     |███████████████████▍            | 1.1MB 18.5MB/s eta 0:00:01\r\u001b[K     |███████████████████▌            | 1.1MB 18.5MB/s eta 0:00:01\r\u001b[K     |███████████████████▊            | 1.2MB 18.5MB/s eta 0:00:01\r\u001b[K     |████████████████████            | 1.2MB 18.5MB/s eta 0:00:01\r\u001b[K     |████████████████████            | 1.2MB 18.5MB/s eta 0:00:01\r\u001b[K     |████████████████████▎           | 1.2MB 18.5MB/s eta 0:00:01\r\u001b[K     |████████████████████▍           | 1.2MB 18.5MB/s eta 0:00:01\r\u001b[K     |████████████████████▋           | 1.2MB 18.5MB/s eta 0:00:01\r\u001b[K     |████████████████████▊           | 1.2MB 18.5MB/s eta 0:00:01\r\u001b[K     |█████████████████████           | 1.2MB 18.5MB/s eta 0:00:01\r\u001b[K     |█████████████████████▏          | 1.2MB 18.5MB/s eta 0:00:01\r\u001b[K     |█████████████████████▎          | 1.2MB 18.5MB/s eta 0:00:01\r\u001b[K     |█████████████████████▌          | 1.3MB 18.5MB/s eta 0:00:01\r\u001b[K     |█████████████████████▋          | 1.3MB 18.5MB/s eta 0:00:01\r\u001b[K     |█████████████████████▉          | 1.3MB 18.5MB/s eta 0:00:01\r\u001b[K     |██████████████████████          | 1.3MB 18.5MB/s eta 0:00:01\r\u001b[K     |██████████████████████▏         | 1.3MB 18.5MB/s eta 0:00:01\r\u001b[K     |██████████████████████▍         | 1.3MB 18.5MB/s eta 0:00:01\r\u001b[K     |██████████████████████▌         | 1.3MB 18.5MB/s eta 0:00:01\r\u001b[K     |██████████████████████▊         | 1.3MB 18.5MB/s eta 0:00:01\r\u001b[K     |██████████████████████▉         | 1.3MB 18.5MB/s eta 0:00:01\r\u001b[K     |███████████████████████         | 1.4MB 18.5MB/s eta 0:00:01\r\u001b[K     |███████████████████████▏        | 1.4MB 18.5MB/s eta 0:00:01\r\u001b[K     |███████████████████████▍        | 1.4MB 18.5MB/s eta 0:00:01\r\u001b[K     |███████████████████████▋        | 1.4MB 18.5MB/s eta 0:00:01\r\u001b[K     |███████████████████████▊        | 1.4MB 18.5MB/s eta 0:00:01\r\u001b[K     |████████████████████████        | 1.4MB 18.5MB/s eta 0:00:01\r\u001b[K     |████████████████████████        | 1.4MB 18.5MB/s eta 0:00:01\r\u001b[K     |████████████████████████▎       | 1.4MB 18.5MB/s eta 0:00:01\r\u001b[K     |████████████████████████▍       | 1.4MB 18.5MB/s eta 0:00:01\r\u001b[K     |████████████████████████▋       | 1.4MB 18.5MB/s eta 0:00:01\r\u001b[K     |████████████████████████▉       | 1.5MB 18.5MB/s eta 0:00:01\r\u001b[K     |█████████████████████████       | 1.5MB 18.5MB/s eta 0:00:01\r\u001b[K     |█████████████████████████▏      | 1.5MB 18.5MB/s eta 0:00:01\r\u001b[K     |█████████████████████████▎      | 1.5MB 18.5MB/s eta 0:00:01\r\u001b[K     |█████████████████████████▌      | 1.5MB 18.5MB/s eta 0:00:01\r\u001b[K     |█████████████████████████▋      | 1.5MB 18.5MB/s eta 0:00:01\r\u001b[K     |█████████████████████████▉      | 1.5MB 18.5MB/s eta 0:00:01\r\u001b[K     |██████████████████████████      | 1.5MB 18.5MB/s eta 0:00:01\r\u001b[K     |██████████████████████████▏     | 1.5MB 18.5MB/s eta 0:00:01\r\u001b[K     |██████████████████████████▍     | 1.5MB 18.5MB/s eta 0:00:01\r\u001b[K     |██████████████████████████▌     | 1.6MB 18.5MB/s eta 0:00:01\r\u001b[K     |██████████████████████████▊     | 1.6MB 18.5MB/s eta 0:00:01\r\u001b[K     |██████████████████████████▉     | 1.6MB 18.5MB/s eta 0:00:01\r\u001b[K     |███████████████████████████     | 1.6MB 18.5MB/s eta 0:00:01\r\u001b[K     |███████████████████████████▎    | 1.6MB 18.5MB/s eta 0:00:01\r\u001b[K     |███████████████████████████▍    | 1.6MB 18.5MB/s eta 0:00:01\r\u001b[K     |███████████████████████████▋    | 1.6MB 18.5MB/s eta 0:00:01\r\u001b[K     |███████████████████████████▊    | 1.6MB 18.5MB/s eta 0:00:01\r\u001b[K     |████████████████████████████    | 1.6MB 18.5MB/s eta 0:00:01\r\u001b[K     |████████████████████████████    | 1.6MB 18.5MB/s eta 0:00:01\r\u001b[K     |████████████████████████████▎   | 1.7MB 18.5MB/s eta 0:00:01\r\u001b[K     |████████████████████████████▌   | 1.7MB 18.5MB/s eta 0:00:01\r\u001b[K     |████████████████████████████▋   | 1.7MB 18.5MB/s eta 0:00:01\r\u001b[K     |████████████████████████████▉   | 1.7MB 18.5MB/s eta 0:00:01\r\u001b[K     |█████████████████████████████   | 1.7MB 18.5MB/s eta 0:00:01\r\u001b[K     |█████████████████████████████▏  | 1.7MB 18.5MB/s eta 0:00:01\r\u001b[K     |█████████████████████████████▎  | 1.7MB 18.5MB/s eta 0:00:01\r\u001b[K     |█████████████████████████████▌  | 1.7MB 18.5MB/s eta 0:00:01\r\u001b[K     |█████████████████████████████▊  | 1.7MB 18.5MB/s eta 0:00:01\r\u001b[K     |█████████████████████████████▉  | 1.8MB 18.5MB/s eta 0:00:01\r\u001b[K     |██████████████████████████████  | 1.8MB 18.5MB/s eta 0:00:01\r\u001b[K     |██████████████████████████████▏ | 1.8MB 18.5MB/s eta 0:00:01\r\u001b[K     |██████████████████████████████▍ | 1.8MB 18.5MB/s eta 0:00:01\r\u001b[K     |██████████████████████████████▌ | 1.8MB 18.5MB/s eta 0:00:01\r\u001b[K     |██████████████████████████████▊ | 1.8MB 18.5MB/s eta 0:00:01\r\u001b[K     |███████████████████████████████ | 1.8MB 18.5MB/s eta 0:00:01\r\u001b[K     |███████████████████████████████ | 1.8MB 18.5MB/s eta 0:00:01\r\u001b[K     |███████████████████████████████▎| 1.8MB 18.5MB/s eta 0:00:01\r\u001b[K     |███████████████████████████████▍| 1.8MB 18.5MB/s eta 0:00:01\r\u001b[K     |███████████████████████████████▋| 1.9MB 18.5MB/s eta 0:00:01\r\u001b[K     |███████████████████████████████▊| 1.9MB 18.5MB/s eta 0:00:01\r\u001b[K     |████████████████████████████████| 1.9MB 18.5MB/s eta 0:00:01\r\u001b[K     |████████████████████████████████| 1.9MB 18.5MB/s \n",
            "\u001b[?25hInstalling collected packages: pydicom\n",
            "Successfully installed pydicom-2.1.2\n",
            "Collecting efficientnet\n",
            "  Downloading https://files.pythonhosted.org/packages/53/97/84f88e581d6ac86dcf1ab347c497c4c568c38784e3a2bd659b96912ab793/efficientnet-1.1.1-py3-none-any.whl\n",
            "Collecting keras-applications<=1.0.8,>=1.0.7\n",
            "\u001b[?25l  Downloading https://files.pythonhosted.org/packages/71/e3/19762fdfc62877ae9102edf6342d71b28fbfd9dea3d2f96a882ce099b03f/Keras_Applications-1.0.8-py3-none-any.whl (50kB)\n",
            "\u001b[K     |████████████████████████████████| 51kB 8.1MB/s \n",
            "\u001b[?25hRequirement already satisfied: scikit-image in /usr/local/lib/python3.7/dist-packages (from efficientnet) (0.16.2)\n",
            "Requirement already satisfied: numpy>=1.9.1 in /usr/local/lib/python3.7/dist-packages (from keras-applications<=1.0.8,>=1.0.7->efficientnet) (1.19.5)\n",
            "Requirement already satisfied: h5py in /usr/local/lib/python3.7/dist-packages (from keras-applications<=1.0.8,>=1.0.7->efficientnet) (2.10.0)\n",
            "Requirement already satisfied: imageio>=2.3.0 in /usr/local/lib/python3.7/dist-packages (from scikit-image->efficientnet) (2.4.1)\n",
            "Requirement already satisfied: networkx>=2.0 in /usr/local/lib/python3.7/dist-packages (from scikit-image->efficientnet) (2.5.1)\n",
            "Requirement already satisfied: pillow>=4.3.0 in /usr/local/lib/python3.7/dist-packages (from scikit-image->efficientnet) (7.1.2)\n",
            "Requirement already satisfied: scipy>=0.19.0 in /usr/local/lib/python3.7/dist-packages (from scikit-image->efficientnet) (1.4.1)\n",
            "Requirement already satisfied: matplotlib!=3.0.0,>=2.0.0 in /usr/local/lib/python3.7/dist-packages (from scikit-image->efficientnet) (3.2.2)\n",
            "Requirement already satisfied: PyWavelets>=0.4.0 in /usr/local/lib/python3.7/dist-packages (from scikit-image->efficientnet) (1.1.1)\n",
            "Requirement already satisfied: six in /usr/local/lib/python3.7/dist-packages (from h5py->keras-applications<=1.0.8,>=1.0.7->efficientnet) (1.15.0)\n",
            "Requirement already satisfied: decorator<5,>=4.3 in /usr/local/lib/python3.7/dist-packages (from networkx>=2.0->scikit-image->efficientnet) (4.4.2)\n",
            "Requirement already satisfied: kiwisolver>=1.0.1 in /usr/local/lib/python3.7/dist-packages (from matplotlib!=3.0.0,>=2.0.0->scikit-image->efficientnet) (1.3.1)\n",
            "Requirement already satisfied: python-dateutil>=2.1 in /usr/local/lib/python3.7/dist-packages (from matplotlib!=3.0.0,>=2.0.0->scikit-image->efficientnet) (2.8.1)\n",
            "Requirement already satisfied: cycler>=0.10 in /usr/local/lib/python3.7/dist-packages (from matplotlib!=3.0.0,>=2.0.0->scikit-image->efficientnet) (0.10.0)\n",
            "Requirement already satisfied: pyparsing!=2.0.4,!=2.1.2,!=2.1.6,>=2.0.1 in /usr/local/lib/python3.7/dist-packages (from matplotlib!=3.0.0,>=2.0.0->scikit-image->efficientnet) (2.4.7)\n",
            "Installing collected packages: keras-applications, efficientnet\n",
            "Successfully installed efficientnet-1.1.1 keras-applications-1.0.8\n"
          ],
          "name": "stdout"
        }
      ]
    },
    {
      "cell_type": "code",
      "metadata": {
        "_cell_guid": "79c7e3d0-c299-4dcb-8224-4455121ee9b0",
        "_uuid": "d629ff2d2480ee46fbb7e2d37f6b5fab8052498a",
        "papermill": {
          "duration": 6.510134,
          "end_time": "2020-09-06T02:25:18.185662",
          "exception": false,
          "start_time": "2020-09-06T02:25:11.675528",
          "status": "completed"
        },
        "tags": [],
        "id": "FCQnM_U76GjK"
      },
      "source": [
        "import os\n",
        "\n",
        "import cv2\n",
        "# import pydicom\n",
        "import pandas as pd\n",
        "import numpy as np \n",
        "# from PIL import Image\n",
        "\n",
        "import tensorflow as tf\n",
        "from tensorflow import keras\n",
        "from tqdm.notebook import tqdm \n",
        "from tensorflow.keras.layers import (\n",
        "    Dense, Dropout, Activation, Flatten, Input, BatchNormalization, GlobalAveragePooling2D,\n",
        "    Add, Conv2D, AveragePooling2D, Concatenate, GaussianNoise\n",
        ")\n",
        "from tensorflow.keras import Model\n",
        "from tensorflow.keras.utils import Sequence\n",
        "import tensorflow.keras.backend as K\n",
        "import tensorflow.keras.applications as tfa\n",
        "import efficientnet.tfkeras as efn\n",
        "from sklearn.model_selection import train_test_split, KFold\n",
        "\n",
        "from google.colab import drive"
      ],
      "execution_count": null,
      "outputs": []
    },
    {
      "cell_type": "code",
      "metadata": {
        "papermill": {
          "duration": 2.720155,
          "end_time": "2020-09-06T02:25:20.934848",
          "exception": false,
          "start_time": "2020-09-06T02:25:18.214693",
          "status": "completed"
        },
        "tags": [],
        "colab": {
          "base_uri": "https://localhost:8080/"
        },
        "id": "J35hO6tl6GjL",
        "outputId": "8cfa8fd9-ba95-4bda-c89a-68c26330377a"
      },
      "source": [
        "drive.mount('/content/drive')\n",
        "BASE_FOLDER = '/content/drive/My Drive/TFM/'\n",
        "BASE_CSV_DATA = BASE_FOLDER + 'osic-pulmonary-fibrosis-progression/'"
      ],
      "execution_count": null,
      "outputs": [
        {
          "output_type": "stream",
          "text": [
            "Mounted at /content/drive\n"
          ],
          "name": "stdout"
        }
      ]
    },
    {
      "cell_type": "markdown",
      "metadata": {
        "papermill": {
          "duration": 0.007766,
          "end_time": "2020-09-06T02:25:20.952946",
          "exception": false,
          "start_time": "2020-09-06T02:25:20.945180",
          "status": "completed"
        },
        "tags": [],
        "id": "oph-1A9c6GjL"
      },
      "source": [
        "# Training Parameters\n"
      ]
    },
    {
      "cell_type": "code",
      "metadata": {
        "papermill": {
          "duration": 0.029423,
          "end_time": "2020-09-06T02:25:21.016107",
          "exception": false,
          "start_time": "2020-09-06T02:25:20.986684",
          "status": "completed"
        },
        "tags": [],
        "colab": {
          "base_uri": "https://localhost:8080/",
          "height": 391
        },
        "id": "JaBf7eyu6GjM",
        "outputId": "22a5c432-a3e3-4b1f-98ad-ff4ff7aae937"
      },
      "source": [
        "train = pd.read_csv(BASE_CSV_DATA + 'train.csv')\n",
        "display(train.head())\n",
        "test = pd.read_csv(BASE_CSV_DATA + 'test.csv')\n",
        "display(test.head())"
      ],
      "execution_count": null,
      "outputs": [
        {
          "output_type": "display_data",
          "data": {
            "text/html": [
              "<div>\n",
              "<style scoped>\n",
              "    .dataframe tbody tr th:only-of-type {\n",
              "        vertical-align: middle;\n",
              "    }\n",
              "\n",
              "    .dataframe tbody tr th {\n",
              "        vertical-align: top;\n",
              "    }\n",
              "\n",
              "    .dataframe thead th {\n",
              "        text-align: right;\n",
              "    }\n",
              "</style>\n",
              "<table border=\"1\" class=\"dataframe\">\n",
              "  <thead>\n",
              "    <tr style=\"text-align: right;\">\n",
              "      <th></th>\n",
              "      <th>Patient</th>\n",
              "      <th>Weeks</th>\n",
              "      <th>FVC</th>\n",
              "      <th>Percent</th>\n",
              "      <th>Age</th>\n",
              "      <th>Sex</th>\n",
              "      <th>SmokingStatus</th>\n",
              "    </tr>\n",
              "  </thead>\n",
              "  <tbody>\n",
              "    <tr>\n",
              "      <th>0</th>\n",
              "      <td>ID00007637202177411956430</td>\n",
              "      <td>-4</td>\n",
              "      <td>2315</td>\n",
              "      <td>58.253649</td>\n",
              "      <td>79</td>\n",
              "      <td>Male</td>\n",
              "      <td>Ex-smoker</td>\n",
              "    </tr>\n",
              "    <tr>\n",
              "      <th>1</th>\n",
              "      <td>ID00007637202177411956430</td>\n",
              "      <td>5</td>\n",
              "      <td>2214</td>\n",
              "      <td>55.712129</td>\n",
              "      <td>79</td>\n",
              "      <td>Male</td>\n",
              "      <td>Ex-smoker</td>\n",
              "    </tr>\n",
              "    <tr>\n",
              "      <th>2</th>\n",
              "      <td>ID00007637202177411956430</td>\n",
              "      <td>7</td>\n",
              "      <td>2061</td>\n",
              "      <td>51.862104</td>\n",
              "      <td>79</td>\n",
              "      <td>Male</td>\n",
              "      <td>Ex-smoker</td>\n",
              "    </tr>\n",
              "    <tr>\n",
              "      <th>3</th>\n",
              "      <td>ID00007637202177411956430</td>\n",
              "      <td>9</td>\n",
              "      <td>2144</td>\n",
              "      <td>53.950679</td>\n",
              "      <td>79</td>\n",
              "      <td>Male</td>\n",
              "      <td>Ex-smoker</td>\n",
              "    </tr>\n",
              "    <tr>\n",
              "      <th>4</th>\n",
              "      <td>ID00007637202177411956430</td>\n",
              "      <td>11</td>\n",
              "      <td>2069</td>\n",
              "      <td>52.063412</td>\n",
              "      <td>79</td>\n",
              "      <td>Male</td>\n",
              "      <td>Ex-smoker</td>\n",
              "    </tr>\n",
              "  </tbody>\n",
              "</table>\n",
              "</div>"
            ],
            "text/plain": [
              "                     Patient  Weeks   FVC    Percent  Age   Sex SmokingStatus\n",
              "0  ID00007637202177411956430     -4  2315  58.253649   79  Male     Ex-smoker\n",
              "1  ID00007637202177411956430      5  2214  55.712129   79  Male     Ex-smoker\n",
              "2  ID00007637202177411956430      7  2061  51.862104   79  Male     Ex-smoker\n",
              "3  ID00007637202177411956430      9  2144  53.950679   79  Male     Ex-smoker\n",
              "4  ID00007637202177411956430     11  2069  52.063412   79  Male     Ex-smoker"
            ]
          },
          "metadata": {
            "tags": []
          }
        },
        {
          "output_type": "display_data",
          "data": {
            "text/html": [
              "<div>\n",
              "<style scoped>\n",
              "    .dataframe tbody tr th:only-of-type {\n",
              "        vertical-align: middle;\n",
              "    }\n",
              "\n",
              "    .dataframe tbody tr th {\n",
              "        vertical-align: top;\n",
              "    }\n",
              "\n",
              "    .dataframe thead th {\n",
              "        text-align: right;\n",
              "    }\n",
              "</style>\n",
              "<table border=\"1\" class=\"dataframe\">\n",
              "  <thead>\n",
              "    <tr style=\"text-align: right;\">\n",
              "      <th></th>\n",
              "      <th>Patient</th>\n",
              "      <th>Weeks</th>\n",
              "      <th>FVC</th>\n",
              "      <th>Percent</th>\n",
              "      <th>Age</th>\n",
              "      <th>Sex</th>\n",
              "      <th>SmokingStatus</th>\n",
              "    </tr>\n",
              "  </thead>\n",
              "  <tbody>\n",
              "    <tr>\n",
              "      <th>0</th>\n",
              "      <td>ID00419637202311204720264</td>\n",
              "      <td>6</td>\n",
              "      <td>3020</td>\n",
              "      <td>70.186855</td>\n",
              "      <td>73</td>\n",
              "      <td>Male</td>\n",
              "      <td>Ex-smoker</td>\n",
              "    </tr>\n",
              "    <tr>\n",
              "      <th>1</th>\n",
              "      <td>ID00421637202311550012437</td>\n",
              "      <td>15</td>\n",
              "      <td>2739</td>\n",
              "      <td>82.045291</td>\n",
              "      <td>68</td>\n",
              "      <td>Male</td>\n",
              "      <td>Ex-smoker</td>\n",
              "    </tr>\n",
              "    <tr>\n",
              "      <th>2</th>\n",
              "      <td>ID00422637202311677017371</td>\n",
              "      <td>6</td>\n",
              "      <td>1930</td>\n",
              "      <td>76.672493</td>\n",
              "      <td>73</td>\n",
              "      <td>Male</td>\n",
              "      <td>Ex-smoker</td>\n",
              "    </tr>\n",
              "    <tr>\n",
              "      <th>3</th>\n",
              "      <td>ID00423637202312137826377</td>\n",
              "      <td>17</td>\n",
              "      <td>3294</td>\n",
              "      <td>79.258903</td>\n",
              "      <td>72</td>\n",
              "      <td>Male</td>\n",
              "      <td>Ex-smoker</td>\n",
              "    </tr>\n",
              "    <tr>\n",
              "      <th>4</th>\n",
              "      <td>ID00426637202313170790466</td>\n",
              "      <td>0</td>\n",
              "      <td>2925</td>\n",
              "      <td>71.824968</td>\n",
              "      <td>73</td>\n",
              "      <td>Male</td>\n",
              "      <td>Never smoked</td>\n",
              "    </tr>\n",
              "  </tbody>\n",
              "</table>\n",
              "</div>"
            ],
            "text/plain": [
              "                     Patient  Weeks   FVC    Percent  Age   Sex SmokingStatus\n",
              "0  ID00419637202311204720264      6  3020  70.186855   73  Male     Ex-smoker\n",
              "1  ID00421637202311550012437     15  2739  82.045291   68  Male     Ex-smoker\n",
              "2  ID00422637202311677017371      6  1930  76.672493   73  Male     Ex-smoker\n",
              "3  ID00423637202312137826377     17  3294  79.258903   72  Male     Ex-smoker\n",
              "4  ID00426637202313170790466      0  2925  71.824968   73  Male  Never smoked"
            ]
          },
          "metadata": {
            "tags": []
          }
        }
      ]
    },
    {
      "cell_type": "code",
      "metadata": {
        "colab": {
          "base_uri": "https://localhost:8080/"
        },
        "id": "v9-5UasIcSnA",
        "outputId": "323cf65a-4cf8-4719-b0a4-6ac2fbb89590"
      },
      "source": [
        "print('len train', len(train))\n",
        "print('len test', len(test))"
      ],
      "execution_count": null,
      "outputs": [
        {
          "output_type": "stream",
          "text": [
            "len train 1549\n",
            "len test 5\n"
          ],
          "name": "stdout"
        }
      ]
    },
    {
      "cell_type": "markdown",
      "metadata": {
        "id": "Zee7FwYc7XGG"
      },
      "source": [
        "## Tratamiento csv\n",
        "\n",
        "- Añadir datos base\n",
        "- Codificar valores categóricos\n",
        "- Normalizar numéric"
      ]
    },
    {
      "cell_type": "code",
      "metadata": {
        "colab": {
          "base_uri": "https://localhost:8080/",
          "height": 399
        },
        "id": "aDuV5tgX6GjP",
        "outputId": "437e5b92-837d-4200-a4fe-7b17a08631cc"
      },
      "source": [
        "from sklearn.preprocessing import OrdinalEncoder, MinMaxScaler, OneHotEncoder\n",
        "\n",
        "oe = OrdinalEncoder()\n",
        "scaler = MinMaxScaler()\n",
        "oh = OneHotEncoder()\n",
        "\n",
        "train['df_type'] = 'train'\n",
        "test['df_type'] = 'test'\n",
        "new_df = train.append(test)\n",
        "\n",
        "new_df['Sex_M'] = [1 if item == 'male' else 0 for item in new_df['Sex']]\n",
        "new_df['Sex_F'] = [1 if item == 'female' else 0 for item in new_df['Sex']]\n",
        "new_df['SmokingStatus_Ex'] = [1 if item == 'Ex-smoker' else 0 for item in new_df['SmokingStatus']]\n",
        "new_df['SmokingStatus_N'] = [1 if item == 'Never smoked' else 0 for item in new_df['SmokingStatus']]\n",
        "new_df['SmokingStatus_S'] = [1 if item == 'Currently smokes' else 0 for item in new_df['SmokingStatus']]\n",
        "new_df['Patient_by_week'] = [item[0] + '_' + str(item[1]) for item in new_df.values]\n",
        "new_df['min_week'] = new_df['Weeks']\n",
        "new_df['min_week'] = new_df.groupby('Patient')['min_week'].transform('min')\n",
        "\n",
        "base = new_df.loc[new_df.Weeks == new_df.min_week]\n",
        "base = base[['Patient', 'FVC']].copy()\n",
        "base.columns = ['Patient', 'base_FVC']\n",
        "base['nb'] = 1\n",
        "base['nb'] = base.groupby('Patient')['nb'].transform('cumsum')\n",
        "base = base[base.nb==1]\n",
        "base.drop('nb', axis=1, inplace=True)\n",
        "\n",
        "new_df = new_df.merge(base, on='Patient', how='left')\n",
        "new_df['base_week'] = new_df['Weeks'] - new_df['min_week']\n",
        "\n",
        "new_df[['Percent', 'Age', 'base_FVC']] = scaler.fit_transform(new_df[['Percent', 'Age', 'base_FVC']])\n",
        "\n",
        "del new_df['Sex']\n",
        "del new_df['SmokingStatus']\n",
        "\n",
        "col = new_df[['Patient', 'Patient_by_week']]\n",
        "oe = OrdinalEncoder()\n",
        "oe.fit(col)\n",
        "new_df[['Patient', 'Patient_by_week']] = oe.transform(col)\n",
        "\n",
        "new_train = new_df.loc[new_df.df_type=='train']\n",
        "del new_train['df_type']\n",
        "display(new_train.head())\n",
        "new_test = new_df.loc[new_df.df_type=='test']\n",
        "del new_test['df_type']\n",
        "display(new_test.head())\n",
        "\n"
      ],
      "execution_count": null,
      "outputs": [
        {
          "output_type": "display_data",
          "data": {
            "text/html": [
              "<div>\n",
              "<style scoped>\n",
              "    .dataframe tbody tr th:only-of-type {\n",
              "        vertical-align: middle;\n",
              "    }\n",
              "\n",
              "    .dataframe tbody tr th {\n",
              "        vertical-align: top;\n",
              "    }\n",
              "\n",
              "    .dataframe thead th {\n",
              "        text-align: right;\n",
              "    }\n",
              "</style>\n",
              "<table border=\"1\" class=\"dataframe\">\n",
              "  <thead>\n",
              "    <tr style=\"text-align: right;\">\n",
              "      <th></th>\n",
              "      <th>Patient</th>\n",
              "      <th>Weeks</th>\n",
              "      <th>FVC</th>\n",
              "      <th>Percent</th>\n",
              "      <th>Age</th>\n",
              "      <th>Sex_M</th>\n",
              "      <th>Sex_F</th>\n",
              "      <th>SmokingStatus_Ex</th>\n",
              "      <th>SmokingStatus_N</th>\n",
              "      <th>SmokingStatus_S</th>\n",
              "      <th>Patient_by_week</th>\n",
              "      <th>min_week</th>\n",
              "      <th>base_FVC</th>\n",
              "      <th>base_week</th>\n",
              "    </tr>\n",
              "  </thead>\n",
              "  <tbody>\n",
              "    <tr>\n",
              "      <th>0</th>\n",
              "      <td>0.0</td>\n",
              "      <td>-4</td>\n",
              "      <td>2315</td>\n",
              "      <td>0.236393</td>\n",
              "      <td>0.769231</td>\n",
              "      <td>0</td>\n",
              "      <td>0</td>\n",
              "      <td>1</td>\n",
              "      <td>0</td>\n",
              "      <td>0</td>\n",
              "      <td>0.0</td>\n",
              "      <td>-4</td>\n",
              "      <td>0.241456</td>\n",
              "      <td>0</td>\n",
              "    </tr>\n",
              "    <tr>\n",
              "      <th>1</th>\n",
              "      <td>0.0</td>\n",
              "      <td>5</td>\n",
              "      <td>2214</td>\n",
              "      <td>0.215941</td>\n",
              "      <td>0.769231</td>\n",
              "      <td>0</td>\n",
              "      <td>0</td>\n",
              "      <td>1</td>\n",
              "      <td>0</td>\n",
              "      <td>0</td>\n",
              "      <td>5.0</td>\n",
              "      <td>-4</td>\n",
              "      <td>0.241456</td>\n",
              "      <td>9</td>\n",
              "    </tr>\n",
              "    <tr>\n",
              "      <th>2</th>\n",
              "      <td>0.0</td>\n",
              "      <td>7</td>\n",
              "      <td>2061</td>\n",
              "      <td>0.184960</td>\n",
              "      <td>0.769231</td>\n",
              "      <td>0</td>\n",
              "      <td>0</td>\n",
              "      <td>1</td>\n",
              "      <td>0</td>\n",
              "      <td>0</td>\n",
              "      <td>7.0</td>\n",
              "      <td>-4</td>\n",
              "      <td>0.241456</td>\n",
              "      <td>11</td>\n",
              "    </tr>\n",
              "    <tr>\n",
              "      <th>3</th>\n",
              "      <td>0.0</td>\n",
              "      <td>9</td>\n",
              "      <td>2144</td>\n",
              "      <td>0.201767</td>\n",
              "      <td>0.769231</td>\n",
              "      <td>0</td>\n",
              "      <td>0</td>\n",
              "      <td>1</td>\n",
              "      <td>0</td>\n",
              "      <td>0</td>\n",
              "      <td>8.0</td>\n",
              "      <td>-4</td>\n",
              "      <td>0.241456</td>\n",
              "      <td>13</td>\n",
              "    </tr>\n",
              "    <tr>\n",
              "      <th>4</th>\n",
              "      <td>0.0</td>\n",
              "      <td>11</td>\n",
              "      <td>2069</td>\n",
              "      <td>0.186580</td>\n",
              "      <td>0.769231</td>\n",
              "      <td>0</td>\n",
              "      <td>0</td>\n",
              "      <td>1</td>\n",
              "      <td>0</td>\n",
              "      <td>0</td>\n",
              "      <td>1.0</td>\n",
              "      <td>-4</td>\n",
              "      <td>0.241456</td>\n",
              "      <td>15</td>\n",
              "    </tr>\n",
              "  </tbody>\n",
              "</table>\n",
              "</div>"
            ],
            "text/plain": [
              "   Patient  Weeks   FVC  ...  min_week  base_FVC  base_week\n",
              "0      0.0     -4  2315  ...        -4  0.241456          0\n",
              "1      0.0      5  2214  ...        -4  0.241456          9\n",
              "2      0.0      7  2061  ...        -4  0.241456         11\n",
              "3      0.0      9  2144  ...        -4  0.241456         13\n",
              "4      0.0     11  2069  ...        -4  0.241456         15\n",
              "\n",
              "[5 rows x 14 columns]"
            ]
          },
          "metadata": {
            "tags": []
          }
        },
        {
          "output_type": "display_data",
          "data": {
            "text/html": [
              "<div>\n",
              "<style scoped>\n",
              "    .dataframe tbody tr th:only-of-type {\n",
              "        vertical-align: middle;\n",
              "    }\n",
              "\n",
              "    .dataframe tbody tr th {\n",
              "        vertical-align: top;\n",
              "    }\n",
              "\n",
              "    .dataframe thead th {\n",
              "        text-align: right;\n",
              "    }\n",
              "</style>\n",
              "<table border=\"1\" class=\"dataframe\">\n",
              "  <thead>\n",
              "    <tr style=\"text-align: right;\">\n",
              "      <th></th>\n",
              "      <th>Patient</th>\n",
              "      <th>Weeks</th>\n",
              "      <th>FVC</th>\n",
              "      <th>Percent</th>\n",
              "      <th>Age</th>\n",
              "      <th>Sex_M</th>\n",
              "      <th>Sex_F</th>\n",
              "      <th>SmokingStatus_Ex</th>\n",
              "      <th>SmokingStatus_N</th>\n",
              "      <th>SmokingStatus_S</th>\n",
              "      <th>Patient_by_week</th>\n",
              "      <th>min_week</th>\n",
              "      <th>base_FVC</th>\n",
              "      <th>base_week</th>\n",
              "    </tr>\n",
              "  </thead>\n",
              "  <tbody>\n",
              "    <tr>\n",
              "      <th>1549</th>\n",
              "      <td>171.0</td>\n",
              "      <td>6</td>\n",
              "      <td>3020</td>\n",
              "      <td>0.332421</td>\n",
              "      <td>0.615385</td>\n",
              "      <td>0</td>\n",
              "      <td>0</td>\n",
              "      <td>1</td>\n",
              "      <td>0</td>\n",
              "      <td>0</td>\n",
              "      <td>1504.0</td>\n",
              "      <td>6</td>\n",
              "      <td>0.372400</td>\n",
              "      <td>0</td>\n",
              "    </tr>\n",
              "    <tr>\n",
              "      <th>1550</th>\n",
              "      <td>172.0</td>\n",
              "      <td>15</td>\n",
              "      <td>2739</td>\n",
              "      <td>0.427848</td>\n",
              "      <td>0.487179</td>\n",
              "      <td>0</td>\n",
              "      <td>0</td>\n",
              "      <td>1</td>\n",
              "      <td>0</td>\n",
              "      <td>0</td>\n",
              "      <td>1507.0</td>\n",
              "      <td>15</td>\n",
              "      <td>0.320208</td>\n",
              "      <td>0</td>\n",
              "    </tr>\n",
              "    <tr>\n",
              "      <th>1551</th>\n",
              "      <td>173.0</td>\n",
              "      <td>6</td>\n",
              "      <td>1930</td>\n",
              "      <td>0.384612</td>\n",
              "      <td>0.615385</td>\n",
              "      <td>0</td>\n",
              "      <td>0</td>\n",
              "      <td>1</td>\n",
              "      <td>0</td>\n",
              "      <td>0</td>\n",
              "      <td>1523.0</td>\n",
              "      <td>6</td>\n",
              "      <td>0.169948</td>\n",
              "      <td>0</td>\n",
              "    </tr>\n",
              "    <tr>\n",
              "      <th>1552</th>\n",
              "      <td>174.0</td>\n",
              "      <td>17</td>\n",
              "      <td>3294</td>\n",
              "      <td>0.405425</td>\n",
              "      <td>0.589744</td>\n",
              "      <td>0</td>\n",
              "      <td>0</td>\n",
              "      <td>1</td>\n",
              "      <td>0</td>\n",
              "      <td>0</td>\n",
              "      <td>1524.0</td>\n",
              "      <td>17</td>\n",
              "      <td>0.423291</td>\n",
              "      <td>0</td>\n",
              "    </tr>\n",
              "    <tr>\n",
              "      <th>1553</th>\n",
              "      <td>175.0</td>\n",
              "      <td>0</td>\n",
              "      <td>2925</td>\n",
              "      <td>0.345604</td>\n",
              "      <td>0.615385</td>\n",
              "      <td>0</td>\n",
              "      <td>0</td>\n",
              "      <td>0</td>\n",
              "      <td>1</td>\n",
              "      <td>0</td>\n",
              "      <td>1533.0</td>\n",
              "      <td>0</td>\n",
              "      <td>0.354755</td>\n",
              "      <td>0</td>\n",
              "    </tr>\n",
              "  </tbody>\n",
              "</table>\n",
              "</div>"
            ],
            "text/plain": [
              "      Patient  Weeks   FVC  ...  min_week  base_FVC  base_week\n",
              "1549    171.0      6  3020  ...         6  0.372400          0\n",
              "1550    172.0     15  2739  ...        15  0.320208          0\n",
              "1551    173.0      6  1930  ...         6  0.169948          0\n",
              "1552    174.0     17  3294  ...        17  0.423291          0\n",
              "1553    175.0      0  2925  ...         0  0.354755          0\n",
              "\n",
              "[5 rows x 14 columns]"
            ]
          },
          "metadata": {
            "tags": []
          }
        }
      ]
    },
    {
      "cell_type": "code",
      "metadata": {
        "id": "rXiQH9rf6GjQ",
        "colab": {
          "base_uri": "https://localhost:8080/"
        },
        "outputId": "dde97e30-f131-4dbd-d717-91dd3a2a9cba"
      },
      "source": [
        "new_train.keys()"
      ],
      "execution_count": null,
      "outputs": [
        {
          "output_type": "execute_result",
          "data": {
            "text/plain": [
              "Index(['Patient', 'Weeks', 'FVC', 'Percent', 'Age', 'Sex_M', 'Sex_F',\n",
              "       'SmokingStatus_Ex', 'SmokingStatus_N', 'SmokingStatus_S',\n",
              "       'Patient_by_week', 'min_week', 'base_FVC', 'base_week'],\n",
              "      dtype='object')"
            ]
          },
          "metadata": {
            "tags": []
          },
          "execution_count": 10
        }
      ]
    },
    {
      "cell_type": "markdown",
      "metadata": {
        "id": "y5rzD15q7eX_"
      },
      "source": [
        "## Modelo multicapa"
      ]
    },
    {
      "cell_type": "code",
      "metadata": {
        "colab": {
          "base_uri": "https://localhost:8080/",
          "height": 445
        },
        "id": "AjoTD9B42ku0",
        "outputId": "3739361f-d2c7-481f-de67-e334bd730eb0"
      },
      "source": [
        "results = new_train['FVC'].values\n",
        "patientes_by_wwwwww = new_train[new_train.keys()].copy()\n",
        "del patientes_by_wwwwww['FVC']\n",
        "display(patientes_by_wwwwww)\n",
        "len(results)"
      ],
      "execution_count": null,
      "outputs": [
        {
          "output_type": "display_data",
          "data": {
            "text/html": [
              "<div>\n",
              "<style scoped>\n",
              "    .dataframe tbody tr th:only-of-type {\n",
              "        vertical-align: middle;\n",
              "    }\n",
              "\n",
              "    .dataframe tbody tr th {\n",
              "        vertical-align: top;\n",
              "    }\n",
              "\n",
              "    .dataframe thead th {\n",
              "        text-align: right;\n",
              "    }\n",
              "</style>\n",
              "<table border=\"1\" class=\"dataframe\">\n",
              "  <thead>\n",
              "    <tr style=\"text-align: right;\">\n",
              "      <th></th>\n",
              "      <th>Patient</th>\n",
              "      <th>Weeks</th>\n",
              "      <th>Percent</th>\n",
              "      <th>Age</th>\n",
              "      <th>Sex_M</th>\n",
              "      <th>Sex_F</th>\n",
              "      <th>SmokingStatus_Ex</th>\n",
              "      <th>SmokingStatus_N</th>\n",
              "      <th>SmokingStatus_S</th>\n",
              "      <th>Patient_by_week</th>\n",
              "      <th>min_week</th>\n",
              "      <th>base_FVC</th>\n",
              "      <th>base_week</th>\n",
              "    </tr>\n",
              "  </thead>\n",
              "  <tbody>\n",
              "    <tr>\n",
              "      <th>0</th>\n",
              "      <td>0.0</td>\n",
              "      <td>-4</td>\n",
              "      <td>0.236393</td>\n",
              "      <td>0.769231</td>\n",
              "      <td>0</td>\n",
              "      <td>0</td>\n",
              "      <td>1</td>\n",
              "      <td>0</td>\n",
              "      <td>0</td>\n",
              "      <td>0.0</td>\n",
              "      <td>-4</td>\n",
              "      <td>0.241456</td>\n",
              "      <td>0</td>\n",
              "    </tr>\n",
              "    <tr>\n",
              "      <th>1</th>\n",
              "      <td>0.0</td>\n",
              "      <td>5</td>\n",
              "      <td>0.215941</td>\n",
              "      <td>0.769231</td>\n",
              "      <td>0</td>\n",
              "      <td>0</td>\n",
              "      <td>1</td>\n",
              "      <td>0</td>\n",
              "      <td>0</td>\n",
              "      <td>5.0</td>\n",
              "      <td>-4</td>\n",
              "      <td>0.241456</td>\n",
              "      <td>9</td>\n",
              "    </tr>\n",
              "    <tr>\n",
              "      <th>2</th>\n",
              "      <td>0.0</td>\n",
              "      <td>7</td>\n",
              "      <td>0.184960</td>\n",
              "      <td>0.769231</td>\n",
              "      <td>0</td>\n",
              "      <td>0</td>\n",
              "      <td>1</td>\n",
              "      <td>0</td>\n",
              "      <td>0</td>\n",
              "      <td>7.0</td>\n",
              "      <td>-4</td>\n",
              "      <td>0.241456</td>\n",
              "      <td>11</td>\n",
              "    </tr>\n",
              "    <tr>\n",
              "      <th>3</th>\n",
              "      <td>0.0</td>\n",
              "      <td>9</td>\n",
              "      <td>0.201767</td>\n",
              "      <td>0.769231</td>\n",
              "      <td>0</td>\n",
              "      <td>0</td>\n",
              "      <td>1</td>\n",
              "      <td>0</td>\n",
              "      <td>0</td>\n",
              "      <td>8.0</td>\n",
              "      <td>-4</td>\n",
              "      <td>0.241456</td>\n",
              "      <td>13</td>\n",
              "    </tr>\n",
              "    <tr>\n",
              "      <th>4</th>\n",
              "      <td>0.0</td>\n",
              "      <td>11</td>\n",
              "      <td>0.186580</td>\n",
              "      <td>0.769231</td>\n",
              "      <td>0</td>\n",
              "      <td>0</td>\n",
              "      <td>1</td>\n",
              "      <td>0</td>\n",
              "      <td>0</td>\n",
              "      <td>1.0</td>\n",
              "      <td>-4</td>\n",
              "      <td>0.241456</td>\n",
              "      <td>15</td>\n",
              "    </tr>\n",
              "    <tr>\n",
              "      <th>...</th>\n",
              "      <td>...</td>\n",
              "      <td>...</td>\n",
              "      <td>...</td>\n",
              "      <td>...</td>\n",
              "      <td>...</td>\n",
              "      <td>...</td>\n",
              "      <td>...</td>\n",
              "      <td>...</td>\n",
              "      <td>...</td>\n",
              "      <td>...</td>\n",
              "      <td>...</td>\n",
              "      <td>...</td>\n",
              "      <td>...</td>\n",
              "    </tr>\n",
              "    <tr>\n",
              "      <th>1544</th>\n",
              "      <td>175.0</td>\n",
              "      <td>13</td>\n",
              "      <td>0.303514</td>\n",
              "      <td>0.615385</td>\n",
              "      <td>0</td>\n",
              "      <td>0</td>\n",
              "      <td>0</td>\n",
              "      <td>1</td>\n",
              "      <td>0</td>\n",
              "      <td>1535.0</td>\n",
              "      <td>0</td>\n",
              "      <td>0.354755</td>\n",
              "      <td>13</td>\n",
              "    </tr>\n",
              "    <tr>\n",
              "      <th>1545</th>\n",
              "      <td>175.0</td>\n",
              "      <td>19</td>\n",
              "      <td>0.356076</td>\n",
              "      <td>0.615385</td>\n",
              "      <td>0</td>\n",
              "      <td>0</td>\n",
              "      <td>0</td>\n",
              "      <td>1</td>\n",
              "      <td>0</td>\n",
              "      <td>1536.0</td>\n",
              "      <td>0</td>\n",
              "      <td>0.354755</td>\n",
              "      <td>19</td>\n",
              "    </tr>\n",
              "    <tr>\n",
              "      <th>1546</th>\n",
              "      <td>175.0</td>\n",
              "      <td>31</td>\n",
              "      <td>0.342244</td>\n",
              "      <td>0.615385</td>\n",
              "      <td>0</td>\n",
              "      <td>0</td>\n",
              "      <td>0</td>\n",
              "      <td>1</td>\n",
              "      <td>0</td>\n",
              "      <td>1537.0</td>\n",
              "      <td>0</td>\n",
              "      <td>0.354755</td>\n",
              "      <td>31</td>\n",
              "    </tr>\n",
              "    <tr>\n",
              "      <th>1547</th>\n",
              "      <td>175.0</td>\n",
              "      <td>43</td>\n",
              "      <td>0.355484</td>\n",
              "      <td>0.615385</td>\n",
              "      <td>0</td>\n",
              "      <td>0</td>\n",
              "      <td>0</td>\n",
              "      <td>1</td>\n",
              "      <td>0</td>\n",
              "      <td>1538.0</td>\n",
              "      <td>0</td>\n",
              "      <td>0.354755</td>\n",
              "      <td>43</td>\n",
              "    </tr>\n",
              "    <tr>\n",
              "      <th>1548</th>\n",
              "      <td>175.0</td>\n",
              "      <td>59</td>\n",
              "      <td>0.315766</td>\n",
              "      <td>0.615385</td>\n",
              "      <td>0</td>\n",
              "      <td>0</td>\n",
              "      <td>0</td>\n",
              "      <td>1</td>\n",
              "      <td>0</td>\n",
              "      <td>1539.0</td>\n",
              "      <td>0</td>\n",
              "      <td>0.354755</td>\n",
              "      <td>59</td>\n",
              "    </tr>\n",
              "  </tbody>\n",
              "</table>\n",
              "<p>1549 rows × 13 columns</p>\n",
              "</div>"
            ],
            "text/plain": [
              "      Patient  Weeks   Percent  ...  min_week  base_FVC  base_week\n",
              "0         0.0     -4  0.236393  ...        -4  0.241456          0\n",
              "1         0.0      5  0.215941  ...        -4  0.241456          9\n",
              "2         0.0      7  0.184960  ...        -4  0.241456         11\n",
              "3         0.0      9  0.201767  ...        -4  0.241456         13\n",
              "4         0.0     11  0.186580  ...        -4  0.241456         15\n",
              "...       ...    ...       ...  ...       ...       ...        ...\n",
              "1544    175.0     13  0.303514  ...         0  0.354755         13\n",
              "1545    175.0     19  0.356076  ...         0  0.354755         19\n",
              "1546    175.0     31  0.342244  ...         0  0.354755         31\n",
              "1547    175.0     43  0.355484  ...         0  0.354755         43\n",
              "1548    175.0     59  0.315766  ...         0  0.354755         59\n",
              "\n",
              "[1549 rows x 13 columns]"
            ]
          },
          "metadata": {
            "tags": []
          }
        },
        {
          "output_type": "execute_result",
          "data": {
            "text/plain": [
              "1549"
            ]
          },
          "metadata": {
            "tags": []
          },
          "execution_count": 5
        }
      ]
    },
    {
      "cell_type": "code",
      "metadata": {
        "colab": {
          "base_uri": "https://localhost:8080/"
        },
        "id": "te5pNzHMjxux",
        "outputId": "e5b2dabf-c28c-4f59-b717-84619f7bed33"
      },
      "source": [
        "inp2 = Input(shape=(13,), name='historial_medico')\n",
        "x2 = Dense(128,activation='relu')(inp2)\n",
        "x2 = Dense(64,activation='relu')(x2)\n",
        "x2 = Dense(1,activation='relu')(x2)\n",
        "model_solo_csv_base = Model(inp2 , x2)\n",
        "model_solo_csv_base.summary()"
      ],
      "execution_count": null,
      "outputs": [
        {
          "output_type": "stream",
          "text": [
            "Model: \"model_1\"\n",
            "_________________________________________________________________\n",
            "Layer (type)                 Output Shape              Param #   \n",
            "=================================================================\n",
            "historial_medico (InputLayer [(None, 13)]              0         \n",
            "_________________________________________________________________\n",
            "dense_4 (Dense)              (None, 128)               1792      \n",
            "_________________________________________________________________\n",
            "dense_5 (Dense)              (None, 64)                8256      \n",
            "_________________________________________________________________\n",
            "dense_6 (Dense)              (None, 1)                 65        \n",
            "=================================================================\n",
            "Total params: 10,113\n",
            "Trainable params: 10,113\n",
            "Non-trainable params: 0\n",
            "_________________________________________________________________\n"
          ],
          "name": "stdout"
        }
      ]
    },
    {
      "cell_type": "code",
      "metadata": {
        "colab": {
          "base_uri": "https://localhost:8080/",
          "height": 379
        },
        "id": "NQpfZeYQ2THy",
        "outputId": "be735e0e-1a17-47f0-adde-258def953ffc"
      },
      "source": [
        "inp2 = Input(shape=(13,), name='historial_medico')\n",
        "x2 = Dense(128,activation='relu')(inp2)\n",
        "x2 = Dense(64,activation='relu')(x2)\n",
        "x2 = Dense(1,activation='relu')(x2)\n",
        "model_solo_csv_base = Model(inp2 , x2)\n",
        "model_solo_csv_base.compile(optimizer='adam', loss=\"mae\")\n",
        "H1 = model_solo_csv_base.fit(patientes_by_wwwwww,\n",
        "                             results,\n",
        "                             epochs=50,\n",
        "                       validation_split=0.2,\n",
        "                       batch_size=8)"
      ],
      "execution_count": null,
      "outputs": [
        {
          "output_type": "error",
          "ename": "KeyboardInterrupt",
          "evalue": "ignored",
          "traceback": [
            "\u001b[0;31m---------------------------------------------------------------------------\u001b[0m",
            "\u001b[0;31mKeyboardInterrupt\u001b[0m                         Traceback (most recent call last)",
            "\u001b[0;32m<ipython-input-3-a68550cc1221>\u001b[0m in \u001b[0;36m<module>\u001b[0;34m()\u001b[0m\n\u001b[1;32m      1\u001b[0m \u001b[0minp2\u001b[0m \u001b[0;34m=\u001b[0m \u001b[0mInput\u001b[0m\u001b[0;34m(\u001b[0m\u001b[0mshape\u001b[0m\u001b[0;34m=\u001b[0m\u001b[0;34m(\u001b[0m\u001b[0;36m13\u001b[0m\u001b[0;34m,\u001b[0m\u001b[0;34m)\u001b[0m\u001b[0;34m,\u001b[0m \u001b[0mname\u001b[0m\u001b[0;34m=\u001b[0m\u001b[0;34m'historial_medico'\u001b[0m\u001b[0;34m)\u001b[0m\u001b[0;34m\u001b[0m\u001b[0;34m\u001b[0m\u001b[0m\n\u001b[0;32m----> 2\u001b[0;31m \u001b[0mx2\u001b[0m \u001b[0;34m=\u001b[0m \u001b[0mDense\u001b[0m\u001b[0;34m(\u001b[0m\u001b[0;36m128\u001b[0m\u001b[0;34m,\u001b[0m\u001b[0mactivation\u001b[0m\u001b[0;34m=\u001b[0m\u001b[0;34m'relu'\u001b[0m\u001b[0;34m)\u001b[0m\u001b[0;34m(\u001b[0m\u001b[0minp2\u001b[0m\u001b[0;34m)\u001b[0m\u001b[0;34m\u001b[0m\u001b[0;34m\u001b[0m\u001b[0m\n\u001b[0m\u001b[1;32m      3\u001b[0m \u001b[0mx2\u001b[0m \u001b[0;34m=\u001b[0m \u001b[0mDense\u001b[0m\u001b[0;34m(\u001b[0m\u001b[0;36m64\u001b[0m\u001b[0;34m,\u001b[0m\u001b[0mactivation\u001b[0m\u001b[0;34m=\u001b[0m\u001b[0;34m'relu'\u001b[0m\u001b[0;34m)\u001b[0m\u001b[0;34m(\u001b[0m\u001b[0mx2\u001b[0m\u001b[0;34m)\u001b[0m\u001b[0;34m\u001b[0m\u001b[0;34m\u001b[0m\u001b[0m\n\u001b[1;32m      4\u001b[0m \u001b[0mx2\u001b[0m \u001b[0;34m=\u001b[0m \u001b[0mDense\u001b[0m\u001b[0;34m(\u001b[0m\u001b[0;36m1\u001b[0m\u001b[0;34m,\u001b[0m\u001b[0mactivation\u001b[0m\u001b[0;34m=\u001b[0m\u001b[0;34m'relu'\u001b[0m\u001b[0;34m)\u001b[0m\u001b[0;34m(\u001b[0m\u001b[0mx2\u001b[0m\u001b[0;34m)\u001b[0m\u001b[0;34m\u001b[0m\u001b[0;34m\u001b[0m\u001b[0m\n\u001b[1;32m      5\u001b[0m \u001b[0mmodel_solo_csv_base\u001b[0m \u001b[0;34m=\u001b[0m \u001b[0mModel\u001b[0m\u001b[0;34m(\u001b[0m\u001b[0minp2\u001b[0m \u001b[0;34m,\u001b[0m \u001b[0mx2\u001b[0m\u001b[0;34m)\u001b[0m\u001b[0;34m\u001b[0m\u001b[0;34m\u001b[0m\u001b[0m\n",
            "\u001b[0;32m/usr/local/lib/python3.7/dist-packages/tensorflow/python/keras/engine/base_layer.py\u001b[0m in \u001b[0;36m__call__\u001b[0;34m(self, *args, **kwargs)\u001b[0m\n\u001b[1;32m    950\u001b[0m     \u001b[0;32mif\u001b[0m \u001b[0m_in_functional_construction_mode\u001b[0m\u001b[0;34m(\u001b[0m\u001b[0mself\u001b[0m\u001b[0;34m,\u001b[0m \u001b[0minputs\u001b[0m\u001b[0;34m,\u001b[0m \u001b[0margs\u001b[0m\u001b[0;34m,\u001b[0m \u001b[0mkwargs\u001b[0m\u001b[0;34m,\u001b[0m \u001b[0minput_list\u001b[0m\u001b[0;34m)\u001b[0m\u001b[0;34m:\u001b[0m\u001b[0;34m\u001b[0m\u001b[0;34m\u001b[0m\u001b[0m\n\u001b[1;32m    951\u001b[0m       return self._functional_construction_call(inputs, args, kwargs,\n\u001b[0;32m--> 952\u001b[0;31m                                                 input_list)\n\u001b[0m\u001b[1;32m    953\u001b[0m \u001b[0;34m\u001b[0m\u001b[0m\n\u001b[1;32m    954\u001b[0m     \u001b[0;31m# Maintains info about the `Layer.call` stack.\u001b[0m\u001b[0;34m\u001b[0m\u001b[0;34m\u001b[0m\u001b[0;34m\u001b[0m\u001b[0m\n",
            "\u001b[0;32m/usr/local/lib/python3.7/dist-packages/tensorflow/python/keras/engine/base_layer.py\u001b[0m in \u001b[0;36m_functional_construction_call\u001b[0;34m(self, inputs, args, kwargs, input_list)\u001b[0m\n\u001b[1;32m   1089\u001b[0m         \u001b[0;31m# Check input assumptions set after layer building, e.g. input shape.\u001b[0m\u001b[0;34m\u001b[0m\u001b[0;34m\u001b[0m\u001b[0;34m\u001b[0m\u001b[0m\n\u001b[1;32m   1090\u001b[0m         outputs = self._keras_tensor_symbolic_call(\n\u001b[0;32m-> 1091\u001b[0;31m             inputs, input_masks, args, kwargs)\n\u001b[0m\u001b[1;32m   1092\u001b[0m \u001b[0;34m\u001b[0m\u001b[0m\n\u001b[1;32m   1093\u001b[0m         \u001b[0;32mif\u001b[0m \u001b[0moutputs\u001b[0m \u001b[0;32mis\u001b[0m \u001b[0;32mNone\u001b[0m\u001b[0;34m:\u001b[0m\u001b[0;34m\u001b[0m\u001b[0;34m\u001b[0m\u001b[0m\n",
            "\u001b[0;32m/usr/local/lib/python3.7/dist-packages/tensorflow/python/keras/engine/base_layer.py\u001b[0m in \u001b[0;36m_keras_tensor_symbolic_call\u001b[0;34m(self, inputs, input_masks, args, kwargs)\u001b[0m\n\u001b[1;32m    820\u001b[0m       \u001b[0;32mreturn\u001b[0m \u001b[0mnest\u001b[0m\u001b[0;34m.\u001b[0m\u001b[0mmap_structure\u001b[0m\u001b[0;34m(\u001b[0m\u001b[0mkeras_tensor\u001b[0m\u001b[0;34m.\u001b[0m\u001b[0mKerasTensor\u001b[0m\u001b[0;34m,\u001b[0m \u001b[0moutput_signature\u001b[0m\u001b[0;34m)\u001b[0m\u001b[0;34m\u001b[0m\u001b[0;34m\u001b[0m\u001b[0m\n\u001b[1;32m    821\u001b[0m     \u001b[0;32melse\u001b[0m\u001b[0;34m:\u001b[0m\u001b[0;34m\u001b[0m\u001b[0;34m\u001b[0m\u001b[0m\n\u001b[0;32m--> 822\u001b[0;31m       \u001b[0;32mreturn\u001b[0m \u001b[0mself\u001b[0m\u001b[0;34m.\u001b[0m\u001b[0m_infer_output_signature\u001b[0m\u001b[0;34m(\u001b[0m\u001b[0minputs\u001b[0m\u001b[0;34m,\u001b[0m \u001b[0margs\u001b[0m\u001b[0;34m,\u001b[0m \u001b[0mkwargs\u001b[0m\u001b[0;34m,\u001b[0m \u001b[0minput_masks\u001b[0m\u001b[0;34m)\u001b[0m\u001b[0;34m\u001b[0m\u001b[0;34m\u001b[0m\u001b[0m\n\u001b[0m\u001b[1;32m    823\u001b[0m \u001b[0;34m\u001b[0m\u001b[0m\n\u001b[1;32m    824\u001b[0m   \u001b[0;32mdef\u001b[0m \u001b[0m_infer_output_signature\u001b[0m\u001b[0;34m(\u001b[0m\u001b[0mself\u001b[0m\u001b[0;34m,\u001b[0m \u001b[0minputs\u001b[0m\u001b[0;34m,\u001b[0m \u001b[0margs\u001b[0m\u001b[0;34m,\u001b[0m \u001b[0mkwargs\u001b[0m\u001b[0;34m,\u001b[0m \u001b[0minput_masks\u001b[0m\u001b[0;34m)\u001b[0m\u001b[0;34m:\u001b[0m\u001b[0;34m\u001b[0m\u001b[0;34m\u001b[0m\u001b[0m\n",
            "\u001b[0;32m/usr/local/lib/python3.7/dist-packages/tensorflow/python/keras/engine/base_layer.py\u001b[0m in \u001b[0;36m_infer_output_signature\u001b[0;34m(self, inputs, args, kwargs, input_masks)\u001b[0m\n\u001b[1;32m    860\u001b[0m           \u001b[0;31m# overridden).\u001b[0m\u001b[0;34m\u001b[0m\u001b[0;34m\u001b[0m\u001b[0;34m\u001b[0m\u001b[0m\n\u001b[1;32m    861\u001b[0m           \u001b[0;31m# TODO(kaftan): do we maybe_build here, or have we already done it?\u001b[0m\u001b[0;34m\u001b[0m\u001b[0;34m\u001b[0m\u001b[0;34m\u001b[0m\u001b[0m\n\u001b[0;32m--> 862\u001b[0;31m           \u001b[0mself\u001b[0m\u001b[0;34m.\u001b[0m\u001b[0m_maybe_build\u001b[0m\u001b[0;34m(\u001b[0m\u001b[0minputs\u001b[0m\u001b[0;34m)\u001b[0m\u001b[0;34m\u001b[0m\u001b[0;34m\u001b[0m\u001b[0m\n\u001b[0m\u001b[1;32m    863\u001b[0m           \u001b[0moutputs\u001b[0m \u001b[0;34m=\u001b[0m \u001b[0mcall_fn\u001b[0m\u001b[0;34m(\u001b[0m\u001b[0minputs\u001b[0m\u001b[0;34m,\u001b[0m \u001b[0;34m*\u001b[0m\u001b[0margs\u001b[0m\u001b[0;34m,\u001b[0m \u001b[0;34m**\u001b[0m\u001b[0mkwargs\u001b[0m\u001b[0;34m)\u001b[0m\u001b[0;34m\u001b[0m\u001b[0;34m\u001b[0m\u001b[0m\n\u001b[1;32m    864\u001b[0m \u001b[0;34m\u001b[0m\u001b[0m\n",
            "\u001b[0;32m/usr/local/lib/python3.7/dist-packages/tensorflow/python/keras/engine/base_layer.py\u001b[0m in \u001b[0;36m_maybe_build\u001b[0;34m(self, inputs)\u001b[0m\n\u001b[1;32m   2708\u001b[0m         \u001b[0;31m# operations.\u001b[0m\u001b[0;34m\u001b[0m\u001b[0;34m\u001b[0m\u001b[0;34m\u001b[0m\u001b[0m\n\u001b[1;32m   2709\u001b[0m         \u001b[0;32mwith\u001b[0m \u001b[0mtf_utils\u001b[0m\u001b[0;34m.\u001b[0m\u001b[0mmaybe_init_scope\u001b[0m\u001b[0;34m(\u001b[0m\u001b[0mself\u001b[0m\u001b[0;34m)\u001b[0m\u001b[0;34m:\u001b[0m\u001b[0;34m\u001b[0m\u001b[0;34m\u001b[0m\u001b[0m\n\u001b[0;32m-> 2710\u001b[0;31m           \u001b[0mself\u001b[0m\u001b[0;34m.\u001b[0m\u001b[0mbuild\u001b[0m\u001b[0;34m(\u001b[0m\u001b[0minput_shapes\u001b[0m\u001b[0;34m)\u001b[0m  \u001b[0;31m# pylint:disable=not-callable\u001b[0m\u001b[0;34m\u001b[0m\u001b[0;34m\u001b[0m\u001b[0m\n\u001b[0m\u001b[1;32m   2711\u001b[0m       \u001b[0;31m# We must set also ensure that the layer is marked as built, and the build\u001b[0m\u001b[0;34m\u001b[0m\u001b[0;34m\u001b[0m\u001b[0;34m\u001b[0m\u001b[0m\n\u001b[1;32m   2712\u001b[0m       \u001b[0;31m# shape is stored since user defined build functions may not be calling\u001b[0m\u001b[0;34m\u001b[0m\u001b[0;34m\u001b[0m\u001b[0;34m\u001b[0m\u001b[0m\n",
            "\u001b[0;32m/usr/local/lib/python3.7/dist-packages/tensorflow/python/keras/layers/core.py\u001b[0m in \u001b[0;36mbuild\u001b[0;34m(self, input_shape)\u001b[0m\n\u001b[1;32m   1190\u001b[0m         \u001b[0mconstraint\u001b[0m\u001b[0;34m=\u001b[0m\u001b[0mself\u001b[0m\u001b[0;34m.\u001b[0m\u001b[0mkernel_constraint\u001b[0m\u001b[0;34m,\u001b[0m\u001b[0;34m\u001b[0m\u001b[0;34m\u001b[0m\u001b[0m\n\u001b[1;32m   1191\u001b[0m         \u001b[0mdtype\u001b[0m\u001b[0;34m=\u001b[0m\u001b[0mself\u001b[0m\u001b[0;34m.\u001b[0m\u001b[0mdtype\u001b[0m\u001b[0;34m,\u001b[0m\u001b[0;34m\u001b[0m\u001b[0;34m\u001b[0m\u001b[0m\n\u001b[0;32m-> 1192\u001b[0;31m         trainable=True)\n\u001b[0m\u001b[1;32m   1193\u001b[0m     \u001b[0;32mif\u001b[0m \u001b[0mself\u001b[0m\u001b[0;34m.\u001b[0m\u001b[0muse_bias\u001b[0m\u001b[0;34m:\u001b[0m\u001b[0;34m\u001b[0m\u001b[0;34m\u001b[0m\u001b[0m\n\u001b[1;32m   1194\u001b[0m       self.bias = self.add_weight(\n",
            "\u001b[0;32m/usr/local/lib/python3.7/dist-packages/tensorflow/python/keras/engine/base_layer.py\u001b[0m in \u001b[0;36madd_weight\u001b[0;34m(self, name, shape, dtype, initializer, regularizer, trainable, constraint, use_resource, synchronization, aggregation, **kwargs)\u001b[0m\n\u001b[1;32m    637\u001b[0m         \u001b[0msynchronization\u001b[0m\u001b[0;34m=\u001b[0m\u001b[0msynchronization\u001b[0m\u001b[0;34m,\u001b[0m\u001b[0;34m\u001b[0m\u001b[0;34m\u001b[0m\u001b[0m\n\u001b[1;32m    638\u001b[0m         \u001b[0maggregation\u001b[0m\u001b[0;34m=\u001b[0m\u001b[0maggregation\u001b[0m\u001b[0;34m,\u001b[0m\u001b[0;34m\u001b[0m\u001b[0;34m\u001b[0m\u001b[0m\n\u001b[0;32m--> 639\u001b[0;31m         caching_device=caching_device)\n\u001b[0m\u001b[1;32m    640\u001b[0m     \u001b[0;32mif\u001b[0m \u001b[0mregularizer\u001b[0m \u001b[0;32mis\u001b[0m \u001b[0;32mnot\u001b[0m \u001b[0;32mNone\u001b[0m\u001b[0;34m:\u001b[0m\u001b[0;34m\u001b[0m\u001b[0;34m\u001b[0m\u001b[0m\n\u001b[1;32m    641\u001b[0m       \u001b[0;31m# TODO(fchollet): in the future, this should be handled at the\u001b[0m\u001b[0;34m\u001b[0m\u001b[0;34m\u001b[0m\u001b[0;34m\u001b[0m\u001b[0m\n",
            "\u001b[0;32m/usr/local/lib/python3.7/dist-packages/tensorflow/python/training/tracking/base.py\u001b[0m in \u001b[0;36m_add_variable_with_custom_getter\u001b[0;34m(self, name, shape, dtype, initializer, getter, overwrite, **kwargs_for_getter)\u001b[0m\n\u001b[1;32m    808\u001b[0m         \u001b[0mdtype\u001b[0m\u001b[0;34m=\u001b[0m\u001b[0mdtype\u001b[0m\u001b[0;34m,\u001b[0m\u001b[0;34m\u001b[0m\u001b[0;34m\u001b[0m\u001b[0m\n\u001b[1;32m    809\u001b[0m         \u001b[0minitializer\u001b[0m\u001b[0;34m=\u001b[0m\u001b[0minitializer\u001b[0m\u001b[0;34m,\u001b[0m\u001b[0;34m\u001b[0m\u001b[0;34m\u001b[0m\u001b[0m\n\u001b[0;32m--> 810\u001b[0;31m         **kwargs_for_getter)\n\u001b[0m\u001b[1;32m    811\u001b[0m \u001b[0;34m\u001b[0m\u001b[0m\n\u001b[1;32m    812\u001b[0m     \u001b[0;31m# If we set an initializer and the variable processed it, tracking will not\u001b[0m\u001b[0;34m\u001b[0m\u001b[0;34m\u001b[0m\u001b[0;34m\u001b[0m\u001b[0m\n",
            "\u001b[0;32m/usr/local/lib/python3.7/dist-packages/tensorflow/python/keras/engine/base_layer_utils.py\u001b[0m in \u001b[0;36mmake_variable\u001b[0;34m(name, shape, dtype, initializer, trainable, caching_device, validate_shape, constraint, use_resource, collections, synchronization, aggregation, partitioner)\u001b[0m\n\u001b[1;32m    140\u001b[0m       \u001b[0msynchronization\u001b[0m\u001b[0;34m=\u001b[0m\u001b[0msynchronization\u001b[0m\u001b[0;34m,\u001b[0m\u001b[0;34m\u001b[0m\u001b[0;34m\u001b[0m\u001b[0m\n\u001b[1;32m    141\u001b[0m       \u001b[0maggregation\u001b[0m\u001b[0;34m=\u001b[0m\u001b[0maggregation\u001b[0m\u001b[0;34m,\u001b[0m\u001b[0;34m\u001b[0m\u001b[0;34m\u001b[0m\u001b[0m\n\u001b[0;32m--> 142\u001b[0;31m       shape=variable_shape if variable_shape else None)\n\u001b[0m\u001b[1;32m    143\u001b[0m \u001b[0;34m\u001b[0m\u001b[0m\n\u001b[1;32m    144\u001b[0m \u001b[0;34m\u001b[0m\u001b[0m\n",
            "\u001b[0;32m/usr/local/lib/python3.7/dist-packages/tensorflow/python/ops/variables.py\u001b[0m in \u001b[0;36m__call__\u001b[0;34m(cls, *args, **kwargs)\u001b[0m\n\u001b[1;32m    258\u001b[0m   \u001b[0;32mdef\u001b[0m \u001b[0m__call__\u001b[0m\u001b[0;34m(\u001b[0m\u001b[0mcls\u001b[0m\u001b[0;34m,\u001b[0m \u001b[0;34m*\u001b[0m\u001b[0margs\u001b[0m\u001b[0;34m,\u001b[0m \u001b[0;34m**\u001b[0m\u001b[0mkwargs\u001b[0m\u001b[0;34m)\u001b[0m\u001b[0;34m:\u001b[0m\u001b[0;34m\u001b[0m\u001b[0;34m\u001b[0m\u001b[0m\n\u001b[1;32m    259\u001b[0m     \u001b[0;32mif\u001b[0m \u001b[0mcls\u001b[0m \u001b[0;32mis\u001b[0m \u001b[0mVariableV1\u001b[0m\u001b[0;34m:\u001b[0m\u001b[0;34m\u001b[0m\u001b[0;34m\u001b[0m\u001b[0m\n\u001b[0;32m--> 260\u001b[0;31m       \u001b[0;32mreturn\u001b[0m \u001b[0mcls\u001b[0m\u001b[0;34m.\u001b[0m\u001b[0m_variable_v1_call\u001b[0m\u001b[0;34m(\u001b[0m\u001b[0;34m*\u001b[0m\u001b[0margs\u001b[0m\u001b[0;34m,\u001b[0m \u001b[0;34m**\u001b[0m\u001b[0mkwargs\u001b[0m\u001b[0;34m)\u001b[0m\u001b[0;34m\u001b[0m\u001b[0;34m\u001b[0m\u001b[0m\n\u001b[0m\u001b[1;32m    261\u001b[0m     \u001b[0;32melif\u001b[0m \u001b[0mcls\u001b[0m \u001b[0;32mis\u001b[0m \u001b[0mVariable\u001b[0m\u001b[0;34m:\u001b[0m\u001b[0;34m\u001b[0m\u001b[0;34m\u001b[0m\u001b[0m\n\u001b[1;32m    262\u001b[0m       \u001b[0;32mreturn\u001b[0m \u001b[0mcls\u001b[0m\u001b[0;34m.\u001b[0m\u001b[0m_variable_v2_call\u001b[0m\u001b[0;34m(\u001b[0m\u001b[0;34m*\u001b[0m\u001b[0margs\u001b[0m\u001b[0;34m,\u001b[0m \u001b[0;34m**\u001b[0m\u001b[0mkwargs\u001b[0m\u001b[0;34m)\u001b[0m\u001b[0;34m\u001b[0m\u001b[0;34m\u001b[0m\u001b[0m\n",
            "\u001b[0;32m/usr/local/lib/python3.7/dist-packages/tensorflow/python/ops/variables.py\u001b[0m in \u001b[0;36m_variable_v1_call\u001b[0;34m(cls, initial_value, trainable, collections, validate_shape, caching_device, name, variable_def, dtype, expected_shape, import_scope, constraint, use_resource, synchronization, aggregation, shape)\u001b[0m\n\u001b[1;32m    219\u001b[0m         \u001b[0msynchronization\u001b[0m\u001b[0;34m=\u001b[0m\u001b[0msynchronization\u001b[0m\u001b[0;34m,\u001b[0m\u001b[0;34m\u001b[0m\u001b[0;34m\u001b[0m\u001b[0m\n\u001b[1;32m    220\u001b[0m         \u001b[0maggregation\u001b[0m\u001b[0;34m=\u001b[0m\u001b[0maggregation\u001b[0m\u001b[0;34m,\u001b[0m\u001b[0;34m\u001b[0m\u001b[0;34m\u001b[0m\u001b[0m\n\u001b[0;32m--> 221\u001b[0;31m         shape=shape)\n\u001b[0m\u001b[1;32m    222\u001b[0m \u001b[0;34m\u001b[0m\u001b[0m\n\u001b[1;32m    223\u001b[0m   def _variable_v2_call(cls,\n",
            "\u001b[0;32m/usr/local/lib/python3.7/dist-packages/tensorflow/python/ops/variables.py\u001b[0m in \u001b[0;36m<lambda>\u001b[0;34m(**kwargs)\u001b[0m\n\u001b[1;32m    197\u001b[0m                         shape=None):\n\u001b[1;32m    198\u001b[0m     \u001b[0;34m\"\"\"Call on Variable class. Useful to force the signature.\"\"\"\u001b[0m\u001b[0;34m\u001b[0m\u001b[0;34m\u001b[0m\u001b[0m\n\u001b[0;32m--> 199\u001b[0;31m     \u001b[0mprevious_getter\u001b[0m \u001b[0;34m=\u001b[0m \u001b[0;32mlambda\u001b[0m \u001b[0;34m**\u001b[0m\u001b[0mkwargs\u001b[0m\u001b[0;34m:\u001b[0m \u001b[0mdefault_variable_creator\u001b[0m\u001b[0;34m(\u001b[0m\u001b[0;32mNone\u001b[0m\u001b[0;34m,\u001b[0m \u001b[0;34m**\u001b[0m\u001b[0mkwargs\u001b[0m\u001b[0;34m)\u001b[0m\u001b[0;34m\u001b[0m\u001b[0;34m\u001b[0m\u001b[0m\n\u001b[0m\u001b[1;32m    200\u001b[0m     \u001b[0;32mfor\u001b[0m \u001b[0m_\u001b[0m\u001b[0;34m,\u001b[0m \u001b[0mgetter\u001b[0m \u001b[0;32min\u001b[0m \u001b[0mops\u001b[0m\u001b[0;34m.\u001b[0m\u001b[0mget_default_graph\u001b[0m\u001b[0;34m(\u001b[0m\u001b[0;34m)\u001b[0m\u001b[0;34m.\u001b[0m\u001b[0m_variable_creator_stack\u001b[0m\u001b[0;34m:\u001b[0m  \u001b[0;31m# pylint: disable=protected-access\u001b[0m\u001b[0;34m\u001b[0m\u001b[0;34m\u001b[0m\u001b[0m\n\u001b[1;32m    201\u001b[0m       \u001b[0mprevious_getter\u001b[0m \u001b[0;34m=\u001b[0m \u001b[0m_make_getter\u001b[0m\u001b[0;34m(\u001b[0m\u001b[0mgetter\u001b[0m\u001b[0;34m,\u001b[0m \u001b[0mprevious_getter\u001b[0m\u001b[0;34m)\u001b[0m\u001b[0;34m\u001b[0m\u001b[0;34m\u001b[0m\u001b[0m\n",
            "\u001b[0;32m/usr/local/lib/python3.7/dist-packages/tensorflow/python/ops/variable_scope.py\u001b[0m in \u001b[0;36mdefault_variable_creator\u001b[0;34m(next_creator, **kwargs)\u001b[0m\n\u001b[1;32m   2616\u001b[0m         \u001b[0msynchronization\u001b[0m\u001b[0;34m=\u001b[0m\u001b[0msynchronization\u001b[0m\u001b[0;34m,\u001b[0m\u001b[0;34m\u001b[0m\u001b[0;34m\u001b[0m\u001b[0m\n\u001b[1;32m   2617\u001b[0m         \u001b[0maggregation\u001b[0m\u001b[0;34m=\u001b[0m\u001b[0maggregation\u001b[0m\u001b[0;34m,\u001b[0m\u001b[0;34m\u001b[0m\u001b[0;34m\u001b[0m\u001b[0m\n\u001b[0;32m-> 2618\u001b[0;31m         shape=shape)\n\u001b[0m\u001b[1;32m   2619\u001b[0m   \u001b[0;32melse\u001b[0m\u001b[0;34m:\u001b[0m\u001b[0;34m\u001b[0m\u001b[0;34m\u001b[0m\u001b[0m\n\u001b[1;32m   2620\u001b[0m     return variables.RefVariable(\n",
            "\u001b[0;32m/usr/local/lib/python3.7/dist-packages/tensorflow/python/ops/variables.py\u001b[0m in \u001b[0;36m__call__\u001b[0;34m(cls, *args, **kwargs)\u001b[0m\n\u001b[1;32m    262\u001b[0m       \u001b[0;32mreturn\u001b[0m \u001b[0mcls\u001b[0m\u001b[0;34m.\u001b[0m\u001b[0m_variable_v2_call\u001b[0m\u001b[0;34m(\u001b[0m\u001b[0;34m*\u001b[0m\u001b[0margs\u001b[0m\u001b[0;34m,\u001b[0m \u001b[0;34m**\u001b[0m\u001b[0mkwargs\u001b[0m\u001b[0;34m)\u001b[0m\u001b[0;34m\u001b[0m\u001b[0;34m\u001b[0m\u001b[0m\n\u001b[1;32m    263\u001b[0m     \u001b[0;32melse\u001b[0m\u001b[0;34m:\u001b[0m\u001b[0;34m\u001b[0m\u001b[0;34m\u001b[0m\u001b[0m\n\u001b[0;32m--> 264\u001b[0;31m       \u001b[0;32mreturn\u001b[0m \u001b[0msuper\u001b[0m\u001b[0;34m(\u001b[0m\u001b[0mVariableMetaclass\u001b[0m\u001b[0;34m,\u001b[0m \u001b[0mcls\u001b[0m\u001b[0;34m)\u001b[0m\u001b[0;34m.\u001b[0m\u001b[0m__call__\u001b[0m\u001b[0;34m(\u001b[0m\u001b[0;34m*\u001b[0m\u001b[0margs\u001b[0m\u001b[0;34m,\u001b[0m \u001b[0;34m**\u001b[0m\u001b[0mkwargs\u001b[0m\u001b[0;34m)\u001b[0m\u001b[0;34m\u001b[0m\u001b[0;34m\u001b[0m\u001b[0m\n\u001b[0m\u001b[1;32m    265\u001b[0m \u001b[0;34m\u001b[0m\u001b[0m\n\u001b[1;32m    266\u001b[0m \u001b[0;34m\u001b[0m\u001b[0m\n",
            "\u001b[0;32m/usr/local/lib/python3.7/dist-packages/tensorflow/python/ops/resource_variable_ops.py\u001b[0m in \u001b[0;36m__init__\u001b[0;34m(self, initial_value, trainable, collections, validate_shape, caching_device, name, dtype, variable_def, import_scope, constraint, distribute_strategy, synchronization, aggregation, shape)\u001b[0m\n\u001b[1;32m   1583\u001b[0m           \u001b[0maggregation\u001b[0m\u001b[0;34m=\u001b[0m\u001b[0maggregation\u001b[0m\u001b[0;34m,\u001b[0m\u001b[0;34m\u001b[0m\u001b[0;34m\u001b[0m\u001b[0m\n\u001b[1;32m   1584\u001b[0m           \u001b[0mshape\u001b[0m\u001b[0;34m=\u001b[0m\u001b[0mshape\u001b[0m\u001b[0;34m,\u001b[0m\u001b[0;34m\u001b[0m\u001b[0;34m\u001b[0m\u001b[0m\n\u001b[0;32m-> 1585\u001b[0;31m           distribute_strategy=distribute_strategy)\n\u001b[0m\u001b[1;32m   1586\u001b[0m \u001b[0;34m\u001b[0m\u001b[0m\n\u001b[1;32m   1587\u001b[0m   def _init_from_args(self,\n",
            "\u001b[0;32m/usr/local/lib/python3.7/dist-packages/tensorflow/python/ops/resource_variable_ops.py\u001b[0m in \u001b[0;36m_init_from_args\u001b[0;34m(self, initial_value, trainable, collections, caching_device, name, dtype, constraint, synchronization, aggregation, distribute_strategy, shape)\u001b[0m\n\u001b[1;32m   1710\u001b[0m           \u001b[0;32mwith\u001b[0m \u001b[0mops\u001b[0m\u001b[0;34m.\u001b[0m\u001b[0mname_scope\u001b[0m\u001b[0;34m(\u001b[0m\u001b[0;34m\"Initializer\"\u001b[0m\u001b[0;34m)\u001b[0m\u001b[0;34m,\u001b[0m \u001b[0mdevice_context_manager\u001b[0m\u001b[0;34m(\u001b[0m\u001b[0;32mNone\u001b[0m\u001b[0;34m)\u001b[0m\u001b[0;34m:\u001b[0m\u001b[0;34m\u001b[0m\u001b[0;34m\u001b[0m\u001b[0m\n\u001b[1;32m   1711\u001b[0m             \u001b[0;32mif\u001b[0m \u001b[0minit_from_fn\u001b[0m\u001b[0;34m:\u001b[0m\u001b[0;34m\u001b[0m\u001b[0;34m\u001b[0m\u001b[0m\n\u001b[0;32m-> 1712\u001b[0;31m               \u001b[0minitial_value\u001b[0m \u001b[0;34m=\u001b[0m \u001b[0minitial_value\u001b[0m\u001b[0;34m(\u001b[0m\u001b[0;34m)\u001b[0m\u001b[0;34m\u001b[0m\u001b[0;34m\u001b[0m\u001b[0m\n\u001b[0m\u001b[1;32m   1713\u001b[0m             \u001b[0;32mif\u001b[0m \u001b[0misinstance\u001b[0m\u001b[0;34m(\u001b[0m\u001b[0minitial_value\u001b[0m\u001b[0;34m,\u001b[0m \u001b[0mtrackable\u001b[0m\u001b[0;34m.\u001b[0m\u001b[0mCheckpointInitialValue\u001b[0m\u001b[0;34m)\u001b[0m\u001b[0;34m:\u001b[0m\u001b[0;34m\u001b[0m\u001b[0;34m\u001b[0m\u001b[0m\n\u001b[1;32m   1714\u001b[0m               \u001b[0mself\u001b[0m\u001b[0;34m.\u001b[0m\u001b[0m_maybe_initialize_trackable\u001b[0m\u001b[0;34m(\u001b[0m\u001b[0;34m)\u001b[0m\u001b[0;34m\u001b[0m\u001b[0;34m\u001b[0m\u001b[0m\n",
            "\u001b[0;32m/usr/local/lib/python3.7/dist-packages/tensorflow/python/keras/initializers/initializers_v2.py\u001b[0m in \u001b[0;36m__call__\u001b[0;34m(self, shape, dtype, **kwargs)\u001b[0m\n\u001b[1;32m    408\u001b[0m     \"\"\"\n\u001b[1;32m    409\u001b[0m     return super(VarianceScaling, self).__call__(\n\u001b[0;32m--> 410\u001b[0;31m         shape, dtype=_get_dtype(dtype), **kwargs)\n\u001b[0m\u001b[1;32m    411\u001b[0m \u001b[0;34m\u001b[0m\u001b[0m\n\u001b[1;32m    412\u001b[0m \u001b[0;34m\u001b[0m\u001b[0m\n",
            "\u001b[0;32m/usr/local/lib/python3.7/dist-packages/tensorflow/python/ops/init_ops_v2.py\u001b[0m in \u001b[0;36m__call__\u001b[0;34m(self, shape, dtype, **kwargs)\u001b[0m\n\u001b[1;32m    598\u001b[0m     \u001b[0;32melse\u001b[0m\u001b[0;34m:\u001b[0m\u001b[0;34m\u001b[0m\u001b[0;34m\u001b[0m\u001b[0m\n\u001b[1;32m    599\u001b[0m       \u001b[0mlimit\u001b[0m \u001b[0;34m=\u001b[0m \u001b[0mmath\u001b[0m\u001b[0;34m.\u001b[0m\u001b[0msqrt\u001b[0m\u001b[0;34m(\u001b[0m\u001b[0;36m3.0\u001b[0m \u001b[0;34m*\u001b[0m \u001b[0mscale\u001b[0m\u001b[0;34m)\u001b[0m\u001b[0;34m\u001b[0m\u001b[0;34m\u001b[0m\u001b[0m\n\u001b[0;32m--> 600\u001b[0;31m       \u001b[0;32mreturn\u001b[0m \u001b[0mself\u001b[0m\u001b[0;34m.\u001b[0m\u001b[0m_random_generator\u001b[0m\u001b[0;34m.\u001b[0m\u001b[0mrandom_uniform\u001b[0m\u001b[0;34m(\u001b[0m\u001b[0mshape\u001b[0m\u001b[0;34m,\u001b[0m \u001b[0;34m-\u001b[0m\u001b[0mlimit\u001b[0m\u001b[0;34m,\u001b[0m \u001b[0mlimit\u001b[0m\u001b[0;34m,\u001b[0m \u001b[0mdtype\u001b[0m\u001b[0;34m)\u001b[0m\u001b[0;34m\u001b[0m\u001b[0;34m\u001b[0m\u001b[0m\n\u001b[0m\u001b[1;32m    601\u001b[0m \u001b[0;34m\u001b[0m\u001b[0m\n\u001b[1;32m    602\u001b[0m   \u001b[0;32mdef\u001b[0m \u001b[0mget_config\u001b[0m\u001b[0;34m(\u001b[0m\u001b[0mself\u001b[0m\u001b[0;34m)\u001b[0m\u001b[0;34m:\u001b[0m\u001b[0;34m\u001b[0m\u001b[0;34m\u001b[0m\u001b[0m\n",
            "\u001b[0;32m/usr/local/lib/python3.7/dist-packages/tensorflow/python/ops/init_ops_v2.py\u001b[0m in \u001b[0;36mrandom_uniform\u001b[0;34m(self, shape, minval, maxval, dtype)\u001b[0m\n\u001b[1;32m   1080\u001b[0m       \u001b[0mop\u001b[0m \u001b[0;34m=\u001b[0m \u001b[0mrandom_ops\u001b[0m\u001b[0;34m.\u001b[0m\u001b[0mrandom_uniform\u001b[0m\u001b[0;34m\u001b[0m\u001b[0;34m\u001b[0m\u001b[0m\n\u001b[1;32m   1081\u001b[0m     return op(\n\u001b[0;32m-> 1082\u001b[0;31m         shape=shape, minval=minval, maxval=maxval, dtype=dtype, seed=self.seed)\n\u001b[0m\u001b[1;32m   1083\u001b[0m \u001b[0;34m\u001b[0m\u001b[0m\n\u001b[1;32m   1084\u001b[0m   \u001b[0;32mdef\u001b[0m \u001b[0mtruncated_normal\u001b[0m\u001b[0;34m(\u001b[0m\u001b[0mself\u001b[0m\u001b[0;34m,\u001b[0m \u001b[0mshape\u001b[0m\u001b[0;34m,\u001b[0m \u001b[0mmean\u001b[0m\u001b[0;34m,\u001b[0m \u001b[0mstddev\u001b[0m\u001b[0;34m,\u001b[0m \u001b[0mdtype\u001b[0m\u001b[0;34m)\u001b[0m\u001b[0;34m:\u001b[0m\u001b[0;34m\u001b[0m\u001b[0;34m\u001b[0m\u001b[0m\n",
            "\u001b[0;32m/usr/local/lib/python3.7/dist-packages/tensorflow/python/util/dispatch.py\u001b[0m in \u001b[0;36mwrapper\u001b[0;34m(*args, **kwargs)\u001b[0m\n\u001b[1;32m    199\u001b[0m     \u001b[0;34m\"\"\"Call target, and fall back on dispatchers if there is a TypeError.\"\"\"\u001b[0m\u001b[0;34m\u001b[0m\u001b[0;34m\u001b[0m\u001b[0m\n\u001b[1;32m    200\u001b[0m     \u001b[0;32mtry\u001b[0m\u001b[0;34m:\u001b[0m\u001b[0;34m\u001b[0m\u001b[0;34m\u001b[0m\u001b[0m\n\u001b[0;32m--> 201\u001b[0;31m       \u001b[0;32mreturn\u001b[0m \u001b[0mtarget\u001b[0m\u001b[0;34m(\u001b[0m\u001b[0;34m*\u001b[0m\u001b[0margs\u001b[0m\u001b[0;34m,\u001b[0m \u001b[0;34m**\u001b[0m\u001b[0mkwargs\u001b[0m\u001b[0;34m)\u001b[0m\u001b[0;34m\u001b[0m\u001b[0;34m\u001b[0m\u001b[0m\n\u001b[0m\u001b[1;32m    202\u001b[0m     \u001b[0;32mexcept\u001b[0m \u001b[0;34m(\u001b[0m\u001b[0mTypeError\u001b[0m\u001b[0;34m,\u001b[0m \u001b[0mValueError\u001b[0m\u001b[0;34m)\u001b[0m\u001b[0;34m:\u001b[0m\u001b[0;34m\u001b[0m\u001b[0;34m\u001b[0m\u001b[0m\n\u001b[1;32m    203\u001b[0m       \u001b[0;31m# Note: convert_to_eager_tensor currently raises a ValueError, not a\u001b[0m\u001b[0;34m\u001b[0m\u001b[0;34m\u001b[0m\u001b[0;34m\u001b[0m\u001b[0m\n",
            "\u001b[0;32m/usr/local/lib/python3.7/dist-packages/tensorflow/python/ops/random_ops.py\u001b[0m in \u001b[0;36mrandom_uniform\u001b[0;34m(shape, minval, maxval, dtype, seed, name)\u001b[0m\n\u001b[1;32m    287\u001b[0m     \u001b[0mmaxval\u001b[0m \u001b[0;34m=\u001b[0m \u001b[0;36m1\u001b[0m\u001b[0;34m\u001b[0m\u001b[0;34m\u001b[0m\u001b[0m\n\u001b[1;32m    288\u001b[0m   \u001b[0;32mwith\u001b[0m \u001b[0mops\u001b[0m\u001b[0;34m.\u001b[0m\u001b[0mname_scope\u001b[0m\u001b[0;34m(\u001b[0m\u001b[0mname\u001b[0m\u001b[0;34m,\u001b[0m \u001b[0;34m\"random_uniform\"\u001b[0m\u001b[0;34m,\u001b[0m \u001b[0;34m[\u001b[0m\u001b[0mshape\u001b[0m\u001b[0;34m,\u001b[0m \u001b[0mminval\u001b[0m\u001b[0;34m,\u001b[0m \u001b[0mmaxval\u001b[0m\u001b[0;34m]\u001b[0m\u001b[0;34m)\u001b[0m \u001b[0;32mas\u001b[0m \u001b[0mname\u001b[0m\u001b[0;34m:\u001b[0m\u001b[0;34m\u001b[0m\u001b[0;34m\u001b[0m\u001b[0m\n\u001b[0;32m--> 289\u001b[0;31m     \u001b[0mshape\u001b[0m \u001b[0;34m=\u001b[0m \u001b[0mtensor_util\u001b[0m\u001b[0;34m.\u001b[0m\u001b[0mshape_tensor\u001b[0m\u001b[0;34m(\u001b[0m\u001b[0mshape\u001b[0m\u001b[0;34m)\u001b[0m\u001b[0;34m\u001b[0m\u001b[0;34m\u001b[0m\u001b[0m\n\u001b[0m\u001b[1;32m    290\u001b[0m     \u001b[0;31m# In case of [0,1) floating results, minval and maxval is unused. We do an\u001b[0m\u001b[0;34m\u001b[0m\u001b[0;34m\u001b[0m\u001b[0;34m\u001b[0m\u001b[0m\n\u001b[1;32m    291\u001b[0m     \u001b[0;31m# `is` comparison here since this is cheaper than isinstance or  __eq__.\u001b[0m\u001b[0;34m\u001b[0m\u001b[0;34m\u001b[0m\u001b[0;34m\u001b[0m\u001b[0m\n",
            "\u001b[0;32m/usr/local/lib/python3.7/dist-packages/tensorflow/python/framework/tensor_util.py\u001b[0m in \u001b[0;36mshape_tensor\u001b[0;34m(shape)\u001b[0m\n\u001b[1;32m   1033\u001b[0m       \u001b[0;31m# not convertible to Tensors because of mixed content.\u001b[0m\u001b[0;34m\u001b[0m\u001b[0;34m\u001b[0m\u001b[0;34m\u001b[0m\u001b[0m\n\u001b[1;32m   1034\u001b[0m       \u001b[0mshape\u001b[0m \u001b[0;34m=\u001b[0m \u001b[0mtuple\u001b[0m\u001b[0;34m(\u001b[0m\u001b[0mmap\u001b[0m\u001b[0;34m(\u001b[0m\u001b[0mtensor_shape\u001b[0m\u001b[0;34m.\u001b[0m\u001b[0mdimension_value\u001b[0m\u001b[0;34m,\u001b[0m \u001b[0mshape\u001b[0m\u001b[0;34m)\u001b[0m\u001b[0;34m)\u001b[0m\u001b[0;34m\u001b[0m\u001b[0;34m\u001b[0m\u001b[0m\n\u001b[0;32m-> 1035\u001b[0;31m   \u001b[0;32mreturn\u001b[0m \u001b[0mops\u001b[0m\u001b[0;34m.\u001b[0m\u001b[0mconvert_to_tensor\u001b[0m\u001b[0;34m(\u001b[0m\u001b[0mshape\u001b[0m\u001b[0;34m,\u001b[0m \u001b[0mdtype\u001b[0m\u001b[0;34m=\u001b[0m\u001b[0mdtype\u001b[0m\u001b[0;34m,\u001b[0m \u001b[0mname\u001b[0m\u001b[0;34m=\u001b[0m\u001b[0;34m\"shape\"\u001b[0m\u001b[0;34m)\u001b[0m\u001b[0;34m\u001b[0m\u001b[0;34m\u001b[0m\u001b[0m\n\u001b[0m\u001b[1;32m   1036\u001b[0m \u001b[0;34m\u001b[0m\u001b[0m\n\u001b[1;32m   1037\u001b[0m \u001b[0;34m\u001b[0m\u001b[0m\n",
            "\u001b[0;32m/usr/local/lib/python3.7/dist-packages/tensorflow/python/profiler/trace.py\u001b[0m in \u001b[0;36mwrapped\u001b[0;34m(*args, **kwargs)\u001b[0m\n\u001b[1;32m    161\u001b[0m         \u001b[0;32mwith\u001b[0m \u001b[0mTrace\u001b[0m\u001b[0;34m(\u001b[0m\u001b[0mtrace_name\u001b[0m\u001b[0;34m,\u001b[0m \u001b[0;34m**\u001b[0m\u001b[0mtrace_kwargs\u001b[0m\u001b[0;34m)\u001b[0m\u001b[0;34m:\u001b[0m\u001b[0;34m\u001b[0m\u001b[0;34m\u001b[0m\u001b[0m\n\u001b[1;32m    162\u001b[0m           \u001b[0;32mreturn\u001b[0m \u001b[0mfunc\u001b[0m\u001b[0;34m(\u001b[0m\u001b[0;34m*\u001b[0m\u001b[0margs\u001b[0m\u001b[0;34m,\u001b[0m \u001b[0;34m**\u001b[0m\u001b[0mkwargs\u001b[0m\u001b[0;34m)\u001b[0m\u001b[0;34m\u001b[0m\u001b[0;34m\u001b[0m\u001b[0m\n\u001b[0;32m--> 163\u001b[0;31m       \u001b[0;32mreturn\u001b[0m \u001b[0mfunc\u001b[0m\u001b[0;34m(\u001b[0m\u001b[0;34m*\u001b[0m\u001b[0margs\u001b[0m\u001b[0;34m,\u001b[0m \u001b[0;34m**\u001b[0m\u001b[0mkwargs\u001b[0m\u001b[0;34m)\u001b[0m\u001b[0;34m\u001b[0m\u001b[0;34m\u001b[0m\u001b[0m\n\u001b[0m\u001b[1;32m    164\u001b[0m \u001b[0;34m\u001b[0m\u001b[0m\n\u001b[1;32m    165\u001b[0m     \u001b[0;32mreturn\u001b[0m \u001b[0mwrapped\u001b[0m\u001b[0;34m\u001b[0m\u001b[0;34m\u001b[0m\u001b[0m\n",
            "\u001b[0;32m/usr/local/lib/python3.7/dist-packages/tensorflow/python/framework/ops.py\u001b[0m in \u001b[0;36mconvert_to_tensor\u001b[0;34m(value, dtype, name, as_ref, preferred_dtype, dtype_hint, ctx, accepted_result_types)\u001b[0m\n\u001b[1;32m   1538\u001b[0m \u001b[0;34m\u001b[0m\u001b[0m\n\u001b[1;32m   1539\u001b[0m     \u001b[0;32mif\u001b[0m \u001b[0mret\u001b[0m \u001b[0;32mis\u001b[0m \u001b[0;32mNone\u001b[0m\u001b[0;34m:\u001b[0m\u001b[0;34m\u001b[0m\u001b[0;34m\u001b[0m\u001b[0m\n\u001b[0;32m-> 1540\u001b[0;31m       \u001b[0mret\u001b[0m \u001b[0;34m=\u001b[0m \u001b[0mconversion_func\u001b[0m\u001b[0;34m(\u001b[0m\u001b[0mvalue\u001b[0m\u001b[0;34m,\u001b[0m \u001b[0mdtype\u001b[0m\u001b[0;34m=\u001b[0m\u001b[0mdtype\u001b[0m\u001b[0;34m,\u001b[0m \u001b[0mname\u001b[0m\u001b[0;34m=\u001b[0m\u001b[0mname\u001b[0m\u001b[0;34m,\u001b[0m \u001b[0mas_ref\u001b[0m\u001b[0;34m=\u001b[0m\u001b[0mas_ref\u001b[0m\u001b[0;34m)\u001b[0m\u001b[0;34m\u001b[0m\u001b[0;34m\u001b[0m\u001b[0m\n\u001b[0m\u001b[1;32m   1541\u001b[0m \u001b[0;34m\u001b[0m\u001b[0m\n\u001b[1;32m   1542\u001b[0m     \u001b[0;32mif\u001b[0m \u001b[0mret\u001b[0m \u001b[0;32mis\u001b[0m \u001b[0mNotImplemented\u001b[0m\u001b[0;34m:\u001b[0m\u001b[0;34m\u001b[0m\u001b[0;34m\u001b[0m\u001b[0m\n",
            "\u001b[0;32m/usr/local/lib/python3.7/dist-packages/tensorflow/python/framework/constant_op.py\u001b[0m in \u001b[0;36m_constant_tensor_conversion_function\u001b[0;34m(v, dtype, name, as_ref)\u001b[0m\n\u001b[1;32m    337\u001b[0m                                          as_ref=False):\n\u001b[1;32m    338\u001b[0m   \u001b[0m_\u001b[0m \u001b[0;34m=\u001b[0m \u001b[0mas_ref\u001b[0m\u001b[0;34m\u001b[0m\u001b[0;34m\u001b[0m\u001b[0m\n\u001b[0;32m--> 339\u001b[0;31m   \u001b[0;32mreturn\u001b[0m \u001b[0mconstant\u001b[0m\u001b[0;34m(\u001b[0m\u001b[0mv\u001b[0m\u001b[0;34m,\u001b[0m \u001b[0mdtype\u001b[0m\u001b[0;34m=\u001b[0m\u001b[0mdtype\u001b[0m\u001b[0;34m,\u001b[0m \u001b[0mname\u001b[0m\u001b[0;34m=\u001b[0m\u001b[0mname\u001b[0m\u001b[0;34m)\u001b[0m\u001b[0;34m\u001b[0m\u001b[0;34m\u001b[0m\u001b[0m\n\u001b[0m\u001b[1;32m    340\u001b[0m \u001b[0;34m\u001b[0m\u001b[0m\n\u001b[1;32m    341\u001b[0m \u001b[0;34m\u001b[0m\u001b[0m\n",
            "\u001b[0;32m/usr/local/lib/python3.7/dist-packages/tensorflow/python/framework/constant_op.py\u001b[0m in \u001b[0;36mconstant\u001b[0;34m(value, dtype, shape, name)\u001b[0m\n\u001b[1;32m    263\u001b[0m   \"\"\"\n\u001b[1;32m    264\u001b[0m   return _constant_impl(value, dtype, shape, name, verify_shape=False,\n\u001b[0;32m--> 265\u001b[0;31m                         allow_broadcast=True)\n\u001b[0m\u001b[1;32m    266\u001b[0m \u001b[0;34m\u001b[0m\u001b[0m\n\u001b[1;32m    267\u001b[0m \u001b[0;34m\u001b[0m\u001b[0m\n",
            "\u001b[0;32m/usr/local/lib/python3.7/dist-packages/tensorflow/python/framework/constant_op.py\u001b[0m in \u001b[0;36m_constant_impl\u001b[0;34m(value, dtype, shape, name, verify_shape, allow_broadcast)\u001b[0m\n\u001b[1;32m    274\u001b[0m       \u001b[0;32mwith\u001b[0m \u001b[0mtrace\u001b[0m\u001b[0;34m.\u001b[0m\u001b[0mTrace\u001b[0m\u001b[0;34m(\u001b[0m\u001b[0;34m\"tf.constant\"\u001b[0m\u001b[0;34m)\u001b[0m\u001b[0;34m:\u001b[0m\u001b[0;34m\u001b[0m\u001b[0;34m\u001b[0m\u001b[0m\n\u001b[1;32m    275\u001b[0m         \u001b[0;32mreturn\u001b[0m \u001b[0m_constant_eager_impl\u001b[0m\u001b[0;34m(\u001b[0m\u001b[0mctx\u001b[0m\u001b[0;34m,\u001b[0m \u001b[0mvalue\u001b[0m\u001b[0;34m,\u001b[0m \u001b[0mdtype\u001b[0m\u001b[0;34m,\u001b[0m \u001b[0mshape\u001b[0m\u001b[0;34m,\u001b[0m \u001b[0mverify_shape\u001b[0m\u001b[0;34m)\u001b[0m\u001b[0;34m\u001b[0m\u001b[0;34m\u001b[0m\u001b[0m\n\u001b[0;32m--> 276\u001b[0;31m     \u001b[0;32mreturn\u001b[0m \u001b[0m_constant_eager_impl\u001b[0m\u001b[0;34m(\u001b[0m\u001b[0mctx\u001b[0m\u001b[0;34m,\u001b[0m \u001b[0mvalue\u001b[0m\u001b[0;34m,\u001b[0m \u001b[0mdtype\u001b[0m\u001b[0;34m,\u001b[0m \u001b[0mshape\u001b[0m\u001b[0;34m,\u001b[0m \u001b[0mverify_shape\u001b[0m\u001b[0;34m)\u001b[0m\u001b[0;34m\u001b[0m\u001b[0;34m\u001b[0m\u001b[0m\n\u001b[0m\u001b[1;32m    277\u001b[0m \u001b[0;34m\u001b[0m\u001b[0m\n\u001b[1;32m    278\u001b[0m   \u001b[0mg\u001b[0m \u001b[0;34m=\u001b[0m \u001b[0mops\u001b[0m\u001b[0;34m.\u001b[0m\u001b[0mget_default_graph\u001b[0m\u001b[0;34m(\u001b[0m\u001b[0;34m)\u001b[0m\u001b[0;34m\u001b[0m\u001b[0;34m\u001b[0m\u001b[0m\n",
            "\u001b[0;32m/usr/local/lib/python3.7/dist-packages/tensorflow/python/framework/constant_op.py\u001b[0m in \u001b[0;36m_constant_eager_impl\u001b[0;34m(ctx, value, dtype, shape, verify_shape)\u001b[0m\n\u001b[1;32m    299\u001b[0m \u001b[0;32mdef\u001b[0m \u001b[0m_constant_eager_impl\u001b[0m\u001b[0;34m(\u001b[0m\u001b[0mctx\u001b[0m\u001b[0;34m,\u001b[0m \u001b[0mvalue\u001b[0m\u001b[0;34m,\u001b[0m \u001b[0mdtype\u001b[0m\u001b[0;34m,\u001b[0m \u001b[0mshape\u001b[0m\u001b[0;34m,\u001b[0m \u001b[0mverify_shape\u001b[0m\u001b[0;34m)\u001b[0m\u001b[0;34m:\u001b[0m\u001b[0;34m\u001b[0m\u001b[0;34m\u001b[0m\u001b[0m\n\u001b[1;32m    300\u001b[0m   \u001b[0;34m\"\"\"Implementation of eager constant.\"\"\"\u001b[0m\u001b[0;34m\u001b[0m\u001b[0;34m\u001b[0m\u001b[0m\n\u001b[0;32m--> 301\u001b[0;31m   \u001b[0mt\u001b[0m \u001b[0;34m=\u001b[0m \u001b[0mconvert_to_eager_tensor\u001b[0m\u001b[0;34m(\u001b[0m\u001b[0mvalue\u001b[0m\u001b[0;34m,\u001b[0m \u001b[0mctx\u001b[0m\u001b[0;34m,\u001b[0m \u001b[0mdtype\u001b[0m\u001b[0;34m)\u001b[0m\u001b[0;34m\u001b[0m\u001b[0;34m\u001b[0m\u001b[0m\n\u001b[0m\u001b[1;32m    302\u001b[0m   \u001b[0;32mif\u001b[0m \u001b[0mshape\u001b[0m \u001b[0;32mis\u001b[0m \u001b[0;32mNone\u001b[0m\u001b[0;34m:\u001b[0m\u001b[0;34m\u001b[0m\u001b[0;34m\u001b[0m\u001b[0m\n\u001b[1;32m    303\u001b[0m     \u001b[0;32mreturn\u001b[0m \u001b[0mt\u001b[0m\u001b[0;34m\u001b[0m\u001b[0;34m\u001b[0m\u001b[0m\n",
            "\u001b[0;32m/usr/local/lib/python3.7/dist-packages/tensorflow/python/framework/constant_op.py\u001b[0m in \u001b[0;36mconvert_to_eager_tensor\u001b[0;34m(value, ctx, dtype)\u001b[0m\n\u001b[1;32m     95\u001b[0m     \u001b[0;32mexcept\u001b[0m \u001b[0mAttributeError\u001b[0m\u001b[0;34m:\u001b[0m\u001b[0;34m\u001b[0m\u001b[0;34m\u001b[0m\u001b[0m\n\u001b[1;32m     96\u001b[0m       \u001b[0mdtype\u001b[0m \u001b[0;34m=\u001b[0m \u001b[0mdtypes\u001b[0m\u001b[0;34m.\u001b[0m\u001b[0mas_dtype\u001b[0m\u001b[0;34m(\u001b[0m\u001b[0mdtype\u001b[0m\u001b[0;34m)\u001b[0m\u001b[0;34m.\u001b[0m\u001b[0mas_datatype_enum\u001b[0m\u001b[0;34m\u001b[0m\u001b[0;34m\u001b[0m\u001b[0m\n\u001b[0;32m---> 97\u001b[0;31m   \u001b[0mctx\u001b[0m\u001b[0;34m.\u001b[0m\u001b[0mensure_initialized\u001b[0m\u001b[0;34m(\u001b[0m\u001b[0;34m)\u001b[0m\u001b[0;34m\u001b[0m\u001b[0;34m\u001b[0m\u001b[0m\n\u001b[0m\u001b[1;32m     98\u001b[0m   \u001b[0;32mreturn\u001b[0m \u001b[0mops\u001b[0m\u001b[0;34m.\u001b[0m\u001b[0mEagerTensor\u001b[0m\u001b[0;34m(\u001b[0m\u001b[0mvalue\u001b[0m\u001b[0;34m,\u001b[0m \u001b[0mctx\u001b[0m\u001b[0;34m.\u001b[0m\u001b[0mdevice_name\u001b[0m\u001b[0;34m,\u001b[0m \u001b[0mdtype\u001b[0m\u001b[0;34m)\u001b[0m\u001b[0;34m\u001b[0m\u001b[0;34m\u001b[0m\u001b[0m\n\u001b[1;32m     99\u001b[0m \u001b[0;34m\u001b[0m\u001b[0m\n",
            "\u001b[0;32m/usr/local/lib/python3.7/dist-packages/tensorflow/python/eager/context.py\u001b[0m in \u001b[0;36mensure_initialized\u001b[0;34m(self)\u001b[0m\n\u001b[1;32m    524\u001b[0m         \u001b[0;32mif\u001b[0m \u001b[0mself\u001b[0m\u001b[0;34m.\u001b[0m\u001b[0m_use_tfrt\u001b[0m \u001b[0;32mis\u001b[0m \u001b[0;32mnot\u001b[0m \u001b[0;32mNone\u001b[0m\u001b[0;34m:\u001b[0m\u001b[0;34m\u001b[0m\u001b[0;34m\u001b[0m\u001b[0m\n\u001b[1;32m    525\u001b[0m           \u001b[0mpywrap_tfe\u001b[0m\u001b[0;34m.\u001b[0m\u001b[0mTFE_ContextOptionsSetTfrt\u001b[0m\u001b[0;34m(\u001b[0m\u001b[0mopts\u001b[0m\u001b[0;34m,\u001b[0m \u001b[0mself\u001b[0m\u001b[0;34m.\u001b[0m\u001b[0m_use_tfrt\u001b[0m\u001b[0;34m)\u001b[0m\u001b[0;34m\u001b[0m\u001b[0;34m\u001b[0m\u001b[0m\n\u001b[0;32m--> 526\u001b[0;31m         \u001b[0mcontext_handle\u001b[0m \u001b[0;34m=\u001b[0m \u001b[0mpywrap_tfe\u001b[0m\u001b[0;34m.\u001b[0m\u001b[0mTFE_NewContext\u001b[0m\u001b[0;34m(\u001b[0m\u001b[0mopts\u001b[0m\u001b[0;34m)\u001b[0m\u001b[0;34m\u001b[0m\u001b[0;34m\u001b[0m\u001b[0m\n\u001b[0m\u001b[1;32m    527\u001b[0m       \u001b[0;32mfinally\u001b[0m\u001b[0;34m:\u001b[0m\u001b[0;34m\u001b[0m\u001b[0;34m\u001b[0m\u001b[0m\n\u001b[1;32m    528\u001b[0m         \u001b[0mpywrap_tfe\u001b[0m\u001b[0;34m.\u001b[0m\u001b[0mTFE_DeleteContextOptions\u001b[0m\u001b[0;34m(\u001b[0m\u001b[0mopts\u001b[0m\u001b[0;34m)\u001b[0m\u001b[0;34m\u001b[0m\u001b[0;34m\u001b[0m\u001b[0m\n",
            "\u001b[0;31mKeyboardInterrupt\u001b[0m: "
          ]
        }
      ]
    },
    {
      "cell_type": "code",
      "metadata": {
        "colab": {
          "base_uri": "https://localhost:8080/",
          "height": 316
        },
        "id": "vJOm68bV-3JX",
        "outputId": "8cb3e291-4a03-4938-8466-f8529fbc1404"
      },
      "source": [
        "import matplotlib.pyplot as plt\n",
        "# Muestro gráfica de accuracy y losses\n",
        "plt.style.use(\"ggplot\")\n",
        "plt.figure()\n",
        "plt.plot(np.arange(0, 50), H1.history[\"loss\"], label=\"train_loss\")\n",
        "plt.plot(np.arange(0, 50), H1.history[\"val_loss\"], label=\"val_loss\")\n",
        "plt.title(\"Training Loss and MSE\")\n",
        "plt.xlabel(\"Epoch #\")\n",
        "plt.ylabel(\"Loss/MSE\")\n",
        "plt.legend()"
      ],
      "execution_count": null,
      "outputs": [
        {
          "output_type": "execute_result",
          "data": {
            "text/plain": [
              "<matplotlib.legend.Legend at 0x7f8f583baad0>"
            ]
          },
          "metadata": {
            "tags": []
          },
          "execution_count": 7
        },
        {
          "output_type": "display_data",
          "data": {
            "image/png": "[encoded data removed]",
            "text/plain": [
              "<Figure size 432x288 with 1 Axes>"
            ]
          },
          "metadata": {
            "tags": []
          }
        }
      ]
    },
    {
      "cell_type": "markdown",
      "metadata": {
        "id": "iu0rK7FPHuii"
      },
      "source": [
        "# Modelo multicapa modificado"
      ]
    },
    {
      "cell_type": "code",
      "metadata": {
        "colab": {
          "base_uri": "https://localhost:8080/"
        },
        "id": "GkRZSamuj_nh",
        "outputId": "ee73e608-f5df-464c-92d0-a8608f1f25ba"
      },
      "source": [
        "inp2 = Input(shape=(13,), name='historial_medico')\n",
        "x2 = Dense(128,activation='relu')(inp2)\n",
        "x2 = BatchNormalization()(x2)\n",
        "x2 = Dropout(0.25)(x2)\n",
        "x2 = Dense(64,activation='relu')(x2)\n",
        "x2 = BatchNormalization()(x2)\n",
        "x2 = Dropout(0.5)(x2)\n",
        "x2 = Dense(1,activation='relu')(x2)\n",
        "model_solo_csv_over1 = Model(inp2 , x2)\n",
        "model_solo_csv_over1.summary()"
      ],
      "execution_count": null,
      "outputs": [
        {
          "output_type": "stream",
          "text": [
            "Model: \"model_2\"\n",
            "_________________________________________________________________\n",
            "Layer (type)                 Output Shape              Param #   \n",
            "=================================================================\n",
            "historial_medico (InputLayer [(None, 13)]              0         \n",
            "_________________________________________________________________\n",
            "dense_7 (Dense)              (None, 128)               1792      \n",
            "_________________________________________________________________\n",
            "batch_normalization (BatchNo (None, 128)               512       \n",
            "_________________________________________________________________\n",
            "dropout (Dropout)            (None, 128)               0         \n",
            "_________________________________________________________________\n",
            "dense_8 (Dense)              (None, 64)                8256      \n",
            "_________________________________________________________________\n",
            "batch_normalization_1 (Batch (None, 64)                256       \n",
            "_________________________________________________________________\n",
            "dropout_1 (Dropout)          (None, 64)                0         \n",
            "_________________________________________________________________\n",
            "dense_9 (Dense)              (None, 1)                 65        \n",
            "=================================================================\n",
            "Total params: 10,881\n",
            "Trainable params: 10,497\n",
            "Non-trainable params: 384\n",
            "_________________________________________________________________\n"
          ],
          "name": "stdout"
        }
      ]
    },
    {
      "cell_type": "code",
      "metadata": {
        "colab": {
          "base_uri": "https://localhost:8080/"
        },
        "id": "KjY_nrmtTmgM",
        "outputId": "aadef1ea-99c0-4143-f578-91aedbd63d2b"
      },
      "source": [
        "inp2 = Input(shape=(13,), name='historial_medico')\n",
        "x2 = Dense(128,activation='relu')(inp2)\n",
        "x2 = BatchNormalization()(x2)\n",
        "x2 = Dropout(0.25)(x2)\n",
        "x2 = Dense(64,activation='relu')(x2)\n",
        "x2 = BatchNormalization()(x2)\n",
        "x2 = Dropout(0.5)(x2)\n",
        "x2 = Dense(1,activation='relu')(x2)\n",
        "model_solo_csv_over1 = Model(inp2 , x2)\n",
        "model_solo_csv_over1.compile(optimizer='adam', loss=\"mae\")\n",
        "H5 = model_solo_csv_over1.fit(patientes_by_wwwwww,\n",
        "                             results,\n",
        "                             epochs=50,\n",
        "                       validation_split=0.2,\n",
        "                       batch_size=8)"
      ],
      "execution_count": null,
      "outputs": [
        {
          "output_type": "stream",
          "text": [
            "Epoch 1/50\n",
            "155/155 [==============================] - 1s 3ms/step - loss: 2673.7590 - val_loss: 2589.4021\n",
            "Epoch 2/50\n",
            "155/155 [==============================] - 0s 2ms/step - loss: 2682.4952 - val_loss: 2565.5134\n",
            "Epoch 3/50\n",
            "155/155 [==============================] - 0s 2ms/step - loss: 2651.9502 - val_loss: 2510.7161\n",
            "Epoch 4/50\n",
            "155/155 [==============================] - 0s 2ms/step - loss: 2668.2341 - val_loss: 2463.9546\n",
            "Epoch 5/50\n",
            "155/155 [==============================] - 0s 2ms/step - loss: 2631.3972 - val_loss: 2421.1521\n",
            "Epoch 6/50\n",
            "155/155 [==============================] - 0s 2ms/step - loss: 2575.6797 - val_loss: 2328.0627\n",
            "Epoch 7/50\n",
            "155/155 [==============================] - 0s 2ms/step - loss: 2521.0144 - val_loss: 2219.7544\n",
            "Epoch 8/50\n",
            "155/155 [==============================] - 0s 2ms/step - loss: 2554.9994 - val_loss: 2206.5327\n",
            "Epoch 9/50\n",
            "155/155 [==============================] - 0s 2ms/step - loss: 2419.0410 - val_loss: 2082.6592\n",
            "Epoch 10/50\n",
            "155/155 [==============================] - 0s 2ms/step - loss: 2443.2348 - val_loss: 2040.1241\n",
            "Epoch 11/50\n",
            "155/155 [==============================] - 0s 2ms/step - loss: 2354.2371 - val_loss: 1975.7617\n",
            "Epoch 12/50\n",
            "155/155 [==============================] - 0s 2ms/step - loss: 2250.5256 - val_loss: 1811.8923\n",
            "Epoch 13/50\n",
            "155/155 [==============================] - 0s 2ms/step - loss: 2176.4324 - val_loss: 1821.8641\n",
            "Epoch 14/50\n",
            "155/155 [==============================] - 0s 2ms/step - loss: 2058.1407 - val_loss: 1692.0200\n",
            "Epoch 15/50\n",
            "155/155 [==============================] - 0s 2ms/step - loss: 2017.4987 - val_loss: 1549.5148\n",
            "Epoch 16/50\n",
            "155/155 [==============================] - 0s 2ms/step - loss: 1898.0616 - val_loss: 1504.1205\n",
            "Epoch 17/50\n",
            "155/155 [==============================] - 0s 2ms/step - loss: 1820.8247 - val_loss: 1378.7773\n",
            "Epoch 18/50\n",
            "155/155 [==============================] - 0s 2ms/step - loss: 1758.8688 - val_loss: 1233.9525\n",
            "Epoch 19/50\n",
            "155/155 [==============================] - 0s 2ms/step - loss: 1680.4963 - val_loss: 1161.1855\n",
            "Epoch 20/50\n",
            "155/155 [==============================] - 0s 2ms/step - loss: 1541.1259 - val_loss: 1101.9757\n",
            "Epoch 21/50\n",
            "155/155 [==============================] - 0s 2ms/step - loss: 1408.0557 - val_loss: 999.0832\n",
            "Epoch 22/50\n",
            "155/155 [==============================] - 0s 2ms/step - loss: 1416.5711 - val_loss: 1131.7638\n",
            "Epoch 23/50\n",
            "155/155 [==============================] - 0s 2ms/step - loss: 1297.7173 - val_loss: 844.6191\n",
            "Epoch 24/50\n",
            "155/155 [==============================] - 0s 2ms/step - loss: 1307.1842 - val_loss: 852.4545\n",
            "Epoch 25/50\n",
            "155/155 [==============================] - 0s 2ms/step - loss: 1215.4328 - val_loss: 713.2372\n",
            "Epoch 26/50\n",
            "155/155 [==============================] - 0s 2ms/step - loss: 1125.6947 - val_loss: 879.1429\n",
            "Epoch 27/50\n",
            "155/155 [==============================] - 0s 2ms/step - loss: 1204.3335 - val_loss: 716.1539\n",
            "Epoch 28/50\n",
            "155/155 [==============================] - 0s 2ms/step - loss: 1158.6512 - val_loss: 747.1304\n",
            "Epoch 29/50\n",
            "155/155 [==============================] - 0s 2ms/step - loss: 1081.0774 - val_loss: 1028.3171\n",
            "Epoch 30/50\n",
            "155/155 [==============================] - 0s 2ms/step - loss: 1100.7507 - val_loss: 667.9689\n",
            "Epoch 31/50\n",
            "155/155 [==============================] - 0s 2ms/step - loss: 1029.4743 - val_loss: 622.7310\n",
            "Epoch 32/50\n",
            "155/155 [==============================] - 0s 2ms/step - loss: 1010.6023 - val_loss: 661.5334\n",
            "Epoch 33/50\n",
            "155/155 [==============================] - 0s 2ms/step - loss: 995.2806 - val_loss: 720.5484\n",
            "Epoch 34/50\n",
            "155/155 [==============================] - 0s 2ms/step - loss: 1006.1728 - val_loss: 727.0242\n",
            "Epoch 35/50\n",
            "155/155 [==============================] - 0s 2ms/step - loss: 996.4383 - val_loss: 714.3022\n",
            "Epoch 36/50\n",
            "155/155 [==============================] - 0s 2ms/step - loss: 965.6449 - val_loss: 835.7849\n",
            "Epoch 37/50\n",
            "155/155 [==============================] - 0s 2ms/step - loss: 978.6428 - val_loss: 759.9410\n",
            "Epoch 38/50\n",
            "155/155 [==============================] - 0s 2ms/step - loss: 944.4329 - val_loss: 800.8698\n",
            "Epoch 39/50\n",
            "155/155 [==============================] - 0s 2ms/step - loss: 874.2203 - val_loss: 605.8853\n",
            "Epoch 40/50\n",
            "155/155 [==============================] - 0s 2ms/step - loss: 918.1575 - val_loss: 752.1924\n",
            "Epoch 41/50\n",
            "155/155 [==============================] - 0s 2ms/step - loss: 805.1121 - val_loss: 913.4979\n",
            "Epoch 42/50\n",
            "155/155 [==============================] - 0s 2ms/step - loss: 793.6115 - val_loss: 875.7356\n",
            "Epoch 43/50\n",
            "155/155 [==============================] - 0s 2ms/step - loss: 812.2481 - val_loss: 566.1853\n",
            "Epoch 44/50\n",
            "155/155 [==============================] - 0s 2ms/step - loss: 750.3422 - val_loss: 523.7087\n",
            "Epoch 45/50\n",
            "155/155 [==============================] - 0s 2ms/step - loss: 705.1465 - val_loss: 493.1948\n",
            "Epoch 46/50\n",
            "155/155 [==============================] - 0s 2ms/step - loss: 739.1917 - val_loss: 1069.9266\n",
            "Epoch 47/50\n",
            "155/155 [==============================] - 0s 2ms/step - loss: 735.7082 - val_loss: 1115.7660\n",
            "Epoch 48/50\n",
            "155/155 [==============================] - 0s 2ms/step - loss: 737.0400 - val_loss: 1081.5818\n",
            "Epoch 49/50\n",
            "155/155 [==============================] - 0s 2ms/step - loss: 698.8565 - val_loss: 687.0768\n",
            "Epoch 50/50\n",
            "155/155 [==============================] - 0s 2ms/step - loss: 627.3383 - val_loss: 564.9735\n"
          ],
          "name": "stdout"
        }
      ]
    },
    {
      "cell_type": "code",
      "metadata": {
        "colab": {
          "base_uri": "https://localhost:8080/",
          "height": 316
        },
        "id": "KRn86YTeT2Mh",
        "outputId": "56b9a4c4-c8a0-440e-a08f-1cc6b387f9c2"
      },
      "source": [
        "import matplotlib.pyplot as plt\n",
        "# Muestro gráfica de accuracy y losses\n",
        "plt.style.use(\"ggplot\")\n",
        "plt.figure()\n",
        "plt.plot(np.arange(0, 50), H5.history[\"loss\"], label=\"train_loss\")\n",
        "plt.plot(np.arange(0, 50), H5.history[\"val_loss\"], label=\"val_loss\")\n",
        "plt.title(\"Training Loss and MSE\")\n",
        "plt.xlabel(\"Epoch #\")\n",
        "plt.ylabel(\"Loss/MSE\")\n",
        "plt.legend()"
      ],
      "execution_count": null,
      "outputs": [
        {
          "output_type": "execute_result",
          "data": {
            "text/plain": [
              "<matplotlib.legend.Legend at 0x7f8f54bac6d0>"
            ]
          },
          "metadata": {
            "tags": []
          },
          "execution_count": 9
        },
        {
          "output_type": "display_data",
          "data": {
            "image/png": "[encoded data removed]",
            "text/plain": [
              "<Figure size 432x288 with 1 Axes>"
            ]
          },
          "metadata": {
            "tags": []
          }
        }
      ]
    },
    {
      "cell_type": "markdown",
      "metadata": {
        "papermill": {
          "duration": 0.028741,
          "end_time": "2020-09-06T02:35:13.384344",
          "exception": false,
          "start_time": "2020-09-06T02:35:13.355603",
          "status": "completed"
        },
        "tags": [],
        "id": "aU5xMOtc6GjT"
      },
      "source": [
        "# CV Evaluation"
      ]
    },
    {
      "cell_type": "code",
      "metadata": {
        "colab": {
          "base_uri": "https://localhost:8080/",
          "height": 235
        },
        "id": "XoXX-egBXHt9",
        "outputId": "3c43ea10-557d-44bd-ce2c-19ad41bf78ff"
      },
      "source": [
        "results_by_text = new_test['FVC'].values\n",
        "patientes_by_test = new_test[new_test.keys()].copy()\n",
        "del patientes_by_test['FVC']\n",
        "display(patientes_by_test)\n",
        "len(results_by_text)"
      ],
      "execution_count": null,
      "outputs": [
        {
          "output_type": "display_data",
          "data": {
            "text/html": [
              "<div>\n",
              "<style scoped>\n",
              "    .dataframe tbody tr th:only-of-type {\n",
              "        vertical-align: middle;\n",
              "    }\n",
              "\n",
              "    .dataframe tbody tr th {\n",
              "        vertical-align: top;\n",
              "    }\n",
              "\n",
              "    .dataframe thead th {\n",
              "        text-align: right;\n",
              "    }\n",
              "</style>\n",
              "<table border=\"1\" class=\"dataframe\">\n",
              "  <thead>\n",
              "    <tr style=\"text-align: right;\">\n",
              "      <th></th>\n",
              "      <th>Patient</th>\n",
              "      <th>Weeks</th>\n",
              "      <th>Percent</th>\n",
              "      <th>Age</th>\n",
              "      <th>Sex_M</th>\n",
              "      <th>Sex_F</th>\n",
              "      <th>SmokingStatus_Ex</th>\n",
              "      <th>SmokingStatus_N</th>\n",
              "      <th>SmokingStatus_S</th>\n",
              "      <th>Patient_by_week</th>\n",
              "      <th>min_week</th>\n",
              "      <th>base_FVC</th>\n",
              "      <th>base_week</th>\n",
              "    </tr>\n",
              "  </thead>\n",
              "  <tbody>\n",
              "    <tr>\n",
              "      <th>1549</th>\n",
              "      <td>171.0</td>\n",
              "      <td>6</td>\n",
              "      <td>0.332421</td>\n",
              "      <td>0.615385</td>\n",
              "      <td>0</td>\n",
              "      <td>0</td>\n",
              "      <td>1</td>\n",
              "      <td>0</td>\n",
              "      <td>0</td>\n",
              "      <td>1504.0</td>\n",
              "      <td>6</td>\n",
              "      <td>0.372400</td>\n",
              "      <td>0</td>\n",
              "    </tr>\n",
              "    <tr>\n",
              "      <th>1550</th>\n",
              "      <td>172.0</td>\n",
              "      <td>15</td>\n",
              "      <td>0.427848</td>\n",
              "      <td>0.487179</td>\n",
              "      <td>0</td>\n",
              "      <td>0</td>\n",
              "      <td>1</td>\n",
              "      <td>0</td>\n",
              "      <td>0</td>\n",
              "      <td>1507.0</td>\n",
              "      <td>15</td>\n",
              "      <td>0.320208</td>\n",
              "      <td>0</td>\n",
              "    </tr>\n",
              "    <tr>\n",
              "      <th>1551</th>\n",
              "      <td>173.0</td>\n",
              "      <td>6</td>\n",
              "      <td>0.384612</td>\n",
              "      <td>0.615385</td>\n",
              "      <td>0</td>\n",
              "      <td>0</td>\n",
              "      <td>1</td>\n",
              "      <td>0</td>\n",
              "      <td>0</td>\n",
              "      <td>1523.0</td>\n",
              "      <td>6</td>\n",
              "      <td>0.169948</td>\n",
              "      <td>0</td>\n",
              "    </tr>\n",
              "    <tr>\n",
              "      <th>1552</th>\n",
              "      <td>174.0</td>\n",
              "      <td>17</td>\n",
              "      <td>0.405425</td>\n",
              "      <td>0.589744</td>\n",
              "      <td>0</td>\n",
              "      <td>0</td>\n",
              "      <td>1</td>\n",
              "      <td>0</td>\n",
              "      <td>0</td>\n",
              "      <td>1524.0</td>\n",
              "      <td>17</td>\n",
              "      <td>0.423291</td>\n",
              "      <td>0</td>\n",
              "    </tr>\n",
              "    <tr>\n",
              "      <th>1553</th>\n",
              "      <td>175.0</td>\n",
              "      <td>0</td>\n",
              "      <td>0.345604</td>\n",
              "      <td>0.615385</td>\n",
              "      <td>0</td>\n",
              "      <td>0</td>\n",
              "      <td>0</td>\n",
              "      <td>1</td>\n",
              "      <td>0</td>\n",
              "      <td>1533.0</td>\n",
              "      <td>0</td>\n",
              "      <td>0.354755</td>\n",
              "      <td>0</td>\n",
              "    </tr>\n",
              "  </tbody>\n",
              "</table>\n",
              "</div>"
            ],
            "text/plain": [
              "      Patient  Weeks   Percent  ...  min_week  base_FVC  base_week\n",
              "1549    171.0      6  0.332421  ...         6  0.372400          0\n",
              "1550    172.0     15  0.427848  ...        15  0.320208          0\n",
              "1551    173.0      6  0.384612  ...         6  0.169948          0\n",
              "1552    174.0     17  0.405425  ...        17  0.423291          0\n",
              "1553    175.0      0  0.345604  ...         0  0.354755          0\n",
              "\n",
              "[5 rows x 13 columns]"
            ]
          },
          "metadata": {
            "tags": []
          }
        },
        {
          "output_type": "execute_result",
          "data": {
            "text/plain": [
              "5"
            ]
          },
          "metadata": {
            "tags": []
          },
          "execution_count": 10
        }
      ]
    },
    {
      "cell_type": "markdown",
      "metadata": {
        "id": "RSngD1iZIAgm"
      },
      "source": [
        "### Modelo inicial\n",
        "\n",
        "---\n",
        "\n"
      ]
    },
    {
      "cell_type": "code",
      "metadata": {
        "colab": {
          "base_uri": "https://localhost:8080/"
        },
        "id": "BwpWoS-nYIbb",
        "outputId": "e67bcee1-047c-444d-d8c3-cf5722fefb50"
      },
      "source": [
        "predictions = model_solo_csv_base.predict(patientes_by_test)\n",
        "print(predictions)"
      ],
      "execution_count": null,
      "outputs": [
        {
          "output_type": "stream",
          "text": [
            "[[2666.9631]\n",
            " [2663.7952]\n",
            " [2298.953 ]\n",
            " [2873.9106]\n",
            " [2382.9377]]\n"
          ],
          "name": "stdout"
        }
      ]
    },
    {
      "cell_type": "code",
      "metadata": {
        "colab": {
          "base_uri": "https://localhost:8080/"
        },
        "id": "IOfp4YJyYVt_",
        "outputId": "f11bbe68-dc85-49f2-aed6-98985be397d4"
      },
      "source": [
        "model_solo_csv_base.evaluate(patientes_by_test, results_by_text)"
      ],
      "execution_count": null,
      "outputs": [
        {
          "output_type": "stream",
          "text": [
            "1/1 [==============================] - 0s 15ms/step - loss: 351.8692\n"
          ],
          "name": "stdout"
        },
        {
          "output_type": "execute_result",
          "data": {
            "text/plain": [
              "351.8692321777344"
            ]
          },
          "metadata": {
            "tags": []
          },
          "execution_count": 14
        }
      ]
    },
    {
      "cell_type": "code",
      "metadata": {
        "colab": {
          "base_uri": "https://localhost:8080/"
        },
        "id": "iEx9O-vHYewV",
        "outputId": "d5a1531e-bf1a-4626-93a5-c329ea6d79a9"
      },
      "source": [
        "for i in list(range(0, 5)):\n",
        "  print(predictions[i], results_by_text[i], predictions[i] - results_by_text[i])"
      ],
      "execution_count": null,
      "outputs": [
        {
          "output_type": "stream",
          "text": [
            "[2666.9631] 3020 [-353.03687]\n",
            "[2663.7952] 2739 [-75.204834]\n",
            "[2298.953] 1930 [368.95288]\n",
            "[2873.9106] 3294 [-420.08936]\n",
            "[2382.9377] 2925 [-542.06226]\n"
          ],
          "name": "stdout"
        }
      ]
    },
    {
      "cell_type": "markdown",
      "metadata": {
        "id": "Qgn_tPH6IF16"
      },
      "source": [
        "### Modelo modificado\n",
        "\n",
        "---\n",
        "\n"
      ]
    },
    {
      "cell_type": "code",
      "metadata": {
        "colab": {
          "base_uri": "https://localhost:8080/"
        },
        "id": "iMpFCdk0Yzv5",
        "outputId": "d1202128-db0e-4a21-fdd1-e6d34bc2a52f"
      },
      "source": [
        "predictions2 = model_solo_csv_over1.predict(patientes_by_test)\n",
        "print(predictions2)"
      ],
      "execution_count": null,
      "outputs": [
        {
          "output_type": "stream",
          "text": [
            "[[2457.1838]\n",
            " [2444.9072]\n",
            " [2363.186 ]\n",
            " [2498.1567]\n",
            " [2185.163 ]]\n"
          ],
          "name": "stdout"
        }
      ]
    },
    {
      "cell_type": "code",
      "metadata": {
        "colab": {
          "base_uri": "https://localhost:8080/"
        },
        "id": "P0buL7QrY8Xx",
        "outputId": "6dfe5a2c-e033-4909-a008-e89fe75cdc33"
      },
      "source": [
        "model_solo_csv_over1.evaluate(patientes_by_test, results_by_text)"
      ],
      "execution_count": null,
      "outputs": [
        {
          "output_type": "stream",
          "text": [
            "1/1 [==============================] - 0s 16ms/step - loss: 565.1550\n"
          ],
          "name": "stdout"
        },
        {
          "output_type": "execute_result",
          "data": {
            "text/plain": [
              "565.155029296875"
            ]
          },
          "metadata": {
            "tags": []
          },
          "execution_count": 17
        }
      ]
    },
    {
      "cell_type": "code",
      "metadata": {
        "colab": {
          "base_uri": "https://localhost:8080/"
        },
        "id": "u0bUhUF0ZAXS",
        "outputId": "7913fa7d-544e-4240-f7ec-f99b5dbdd262"
      },
      "source": [
        "for i in list(range(0, 5)):\n",
        "  print(predictions2[i], results_by_text[i], predictions2[i] - results_by_text[i])"
      ],
      "execution_count": null,
      "outputs": [
        {
          "output_type": "stream",
          "text": [
            "[2457.1838] 3020 [-562.81616]\n",
            "[2444.9072] 2739 [-294.09277]\n",
            "[2363.186] 1930 [433.18604]\n",
            "[2498.1567] 3294 [-795.84326]\n",
            "[2185.163] 2925 [-739.8369]\n"
          ],
          "name": "stdout"
        }
      ]
    },
    {
      "cell_type": "markdown",
      "metadata": {
        "id": "NK8q4MQAx1kI"
      },
      "source": [
        "# Modelo2, red combinada con CNN\n",
        "\n",
        "\n",
        "Elegimos 10 clientes aleatorios entre los que tengamos previamente guardadas sus imágenes ya procesadas"
      ]
    },
    {
      "cell_type": "code",
      "metadata": {
        "colab": {
          "base_uri": "https://localhost:8080/",
          "height": 302
        },
        "id": "9H_bV6MVx1kI",
        "outputId": "efb899ff-df83-4f32-b233-c2c37247eb43"
      },
      "source": [
        "train = pd.read_csv(BASE_CSV_DATA + 'train.csv')\n",
        "patients_in_dir = os.listdir(BASE_FOLDER + 'train-scans/')\n",
        "test = pd.read_csv(BASE_CSV_DATA + 'test.csv')\n",
        "display(test.head())\n",
        "random_patients = np.random.choice(patients_in_dir, size = 10)\n",
        "random_patients = [item.split('.')[0] for item in random_patients]\n",
        "np.array(random_patients)"
      ],
      "execution_count": null,
      "outputs": [
        {
          "output_type": "display_data",
          "data": {
            "text/html": [
              "<div>\n",
              "<style scoped>\n",
              "    .dataframe tbody tr th:only-of-type {\n",
              "        vertical-align: middle;\n",
              "    }\n",
              "\n",
              "    .dataframe tbody tr th {\n",
              "        vertical-align: top;\n",
              "    }\n",
              "\n",
              "    .dataframe thead th {\n",
              "        text-align: right;\n",
              "    }\n",
              "</style>\n",
              "<table border=\"1\" class=\"dataframe\">\n",
              "  <thead>\n",
              "    <tr style=\"text-align: right;\">\n",
              "      <th></th>\n",
              "      <th>Patient</th>\n",
              "      <th>Weeks</th>\n",
              "      <th>FVC</th>\n",
              "      <th>Percent</th>\n",
              "      <th>Age</th>\n",
              "      <th>Sex</th>\n",
              "      <th>SmokingStatus</th>\n",
              "    </tr>\n",
              "  </thead>\n",
              "  <tbody>\n",
              "    <tr>\n",
              "      <th>0</th>\n",
              "      <td>ID00419637202311204720264</td>\n",
              "      <td>6</td>\n",
              "      <td>3020</td>\n",
              "      <td>70.186855</td>\n",
              "      <td>73</td>\n",
              "      <td>Male</td>\n",
              "      <td>Ex-smoker</td>\n",
              "    </tr>\n",
              "    <tr>\n",
              "      <th>1</th>\n",
              "      <td>ID00421637202311550012437</td>\n",
              "      <td>15</td>\n",
              "      <td>2739</td>\n",
              "      <td>82.045291</td>\n",
              "      <td>68</td>\n",
              "      <td>Male</td>\n",
              "      <td>Ex-smoker</td>\n",
              "    </tr>\n",
              "    <tr>\n",
              "      <th>2</th>\n",
              "      <td>ID00422637202311677017371</td>\n",
              "      <td>6</td>\n",
              "      <td>1930</td>\n",
              "      <td>76.672493</td>\n",
              "      <td>73</td>\n",
              "      <td>Male</td>\n",
              "      <td>Ex-smoker</td>\n",
              "    </tr>\n",
              "    <tr>\n",
              "      <th>3</th>\n",
              "      <td>ID00423637202312137826377</td>\n",
              "      <td>17</td>\n",
              "      <td>3294</td>\n",
              "      <td>79.258903</td>\n",
              "      <td>72</td>\n",
              "      <td>Male</td>\n",
              "      <td>Ex-smoker</td>\n",
              "    </tr>\n",
              "    <tr>\n",
              "      <th>4</th>\n",
              "      <td>ID00426637202313170790466</td>\n",
              "      <td>0</td>\n",
              "      <td>2925</td>\n",
              "      <td>71.824968</td>\n",
              "      <td>73</td>\n",
              "      <td>Male</td>\n",
              "      <td>Never smoked</td>\n",
              "    </tr>\n",
              "  </tbody>\n",
              "</table>\n",
              "</div>"
            ],
            "text/plain": [
              "                     Patient  Weeks   FVC    Percent  Age   Sex SmokingStatus\n",
              "0  ID00419637202311204720264      6  3020  70.186855   73  Male     Ex-smoker\n",
              "1  ID00421637202311550012437     15  2739  82.045291   68  Male     Ex-smoker\n",
              "2  ID00422637202311677017371      6  1930  76.672493   73  Male     Ex-smoker\n",
              "3  ID00423637202312137826377     17  3294  79.258903   72  Male     Ex-smoker\n",
              "4  ID00426637202313170790466      0  2925  71.824968   73  Male  Never smoked"
            ]
          },
          "metadata": {
            "tags": []
          }
        },
        {
          "output_type": "execute_result",
          "data": {
            "text/plain": [
              "array(['ID00248637202266698862378', 'ID00060637202187965290703',\n",
              "       'ID00365637202296085035729', 'ID00023637202179104603099',\n",
              "       'ID00216637202257988213445', 'ID00370637202296737666151',\n",
              "       'ID00279637202272164826258', 'ID00073637202198167792918',\n",
              "       'ID00125637202218590429387', 'ID00128637202219474716089'],\n",
              "      dtype='<U25')"
            ]
          },
          "metadata": {
            "tags": []
          },
          "execution_count": 108
        }
      ]
    },
    {
      "cell_type": "code",
      "metadata": {
        "colab": {
          "base_uri": "https://localhost:8080/"
        },
        "id": "A579sIMzx1kJ",
        "outputId": "9ed5cfbe-c51d-4330-e7af-583ec39a6d93"
      },
      "source": [
        "train['Patient'].isin(random_patients)"
      ],
      "execution_count": null,
      "outputs": [
        {
          "output_type": "execute_result",
          "data": {
            "text/plain": [
              "0       False\n",
              "1       False\n",
              "2       False\n",
              "3       False\n",
              "4       False\n",
              "        ...  \n",
              "1544    False\n",
              "1545    False\n",
              "1546    False\n",
              "1547    False\n",
              "1548    False\n",
              "Name: Patient, Length: 1549, dtype: bool"
            ]
          },
          "metadata": {
            "tags": []
          },
          "execution_count": 96
        }
      ]
    },
    {
      "cell_type": "code",
      "metadata": {
        "colab": {
          "base_uri": "https://localhost:8080/"
        },
        "id": "EH1MNBdcx1kJ",
        "outputId": "ecc44433-92ae-4d19-f938-d82164c31584"
      },
      "source": [
        "print('len pre', len(train))\n",
        "train = train[train['Patient'].isin(random_patients)]\n",
        "print('final len', len(train))"
      ],
      "execution_count": null,
      "outputs": [
        {
          "output_type": "stream",
          "text": [
            "len pre 1549\n",
            "final len 85\n"
          ],
          "name": "stdout"
        }
      ]
    },
    {
      "cell_type": "code",
      "metadata": {
        "colab": {
          "base_uri": "https://localhost:8080/"
        },
        "id": "78d2WkmZx1kJ",
        "outputId": "e00da170-63b2-4bb8-b26d-33cb17efdd2b"
      },
      "source": [
        "train.Patient.unique()"
      ],
      "execution_count": null,
      "outputs": [
        {
          "output_type": "execute_result",
          "data": {
            "text/plain": [
              "array(['ID00023637202179104603099', 'ID00060637202187965290703',\n",
              "       'ID00073637202198167792918', 'ID00125637202218590429387',\n",
              "       'ID00128637202219474716089', 'ID00216637202257988213445',\n",
              "       'ID00248637202266698862378', 'ID00279637202272164826258',\n",
              "       'ID00365637202296085035729', 'ID00370637202296737666151'],\n",
              "      dtype=object)"
            ]
          },
          "metadata": {
            "tags": []
          },
          "execution_count": 110
        }
      ]
    },
    {
      "cell_type": "code",
      "metadata": {
        "id": "C3e7ZZoYx1kJ"
      },
      "source": [
        "from sklearn.preprocessing import OrdinalEncoder, MinMaxScaler, OneHotEncoder\n",
        "\n",
        "oe = OrdinalEncoder()\n",
        "scaler = MinMaxScaler()\n",
        "oh = OneHotEncoder()\n",
        "\n",
        "train['df_type'] = 'train'\n",
        "test['df_type'] = 'test'\n",
        "new_df = train.append(test)\n",
        "\n",
        "new_df['Sex_M'] = [1 if item == 'male' else 0 for item in new_df['Sex']]\n",
        "new_df['Sex_F'] = [1 if item == 'female' else 0 for item in new_df['Sex']]\n",
        "new_df['SmokingStatus_Ex'] = [1 if item == 'Ex-smoker' else 0 for item in new_df['SmokingStatus']]\n",
        "new_df['SmokingStatus_N'] = [1 if item == 'Never smoked' else 0 for item in new_df['SmokingStatus']]\n",
        "new_df['SmokingStatus_S'] = [1 if item == 'Currently smokes' else 0 for item in new_df['SmokingStatus']]\n",
        "new_df['Patient_by_week'] = [item[0] + '_' + str(item[1]) for item in new_df.values]\n",
        "new_df['min_week'] = new_df['Weeks']\n",
        "new_df['min_week'] = new_df.groupby('Patient')['min_week'].transform('min')\n",
        "\n",
        "base = new_df.loc[new_df.Weeks == new_df.min_week]\n",
        "base = base[['Patient', 'FVC']].copy()\n",
        "base.columns = ['Patient', 'base_FVC']\n",
        "base['nb'] = 1\n",
        "base['nb'] = base.groupby('Patient')['nb'].transform('cumsum')\n",
        "base = base[base.nb==1]\n",
        "base.drop('nb', axis=1, inplace=True)\n",
        "\n",
        "new_df = new_df.merge(base, on='Patient', how='left')\n",
        "new_df['base_week'] = new_df['Weeks'] - new_df['min_week']\n",
        "\n",
        "new_df[['Percent', 'Age', 'base_FVC']] = scaler.fit_transform(new_df[['Percent', 'Age', 'base_FVC']])\n",
        "\n",
        "del new_df['Sex']\n",
        "del new_df['SmokingStatus']"
      ],
      "execution_count": null,
      "outputs": []
    },
    {
      "cell_type": "code",
      "metadata": {
        "colab": {
          "base_uri": "https://localhost:8080/"
        },
        "id": "wVfrpfd6x1kK",
        "outputId": "0cc99509-d163-47e5-dd62-2fde38ab0495"
      },
      "source": [
        "random_images = []\n",
        "last_img = None\n",
        "last_id = None\n",
        "for patient in new_df.loc[new_df.df_type=='train'].values:\n",
        "    new_id = patient[0]\n",
        "    if new_id == last_id:\n",
        "      i = np.random.choice(len(last_img), size=1)[0]\n",
        "      random_images.append(last_img[i])\n",
        "    else:\n",
        "      last_img = np.load(BASE_FOLDER + 'train-scans/' + new_id + '.npy')\n",
        "      print(len(last_img))\n",
        "      i = np.random.choice(len(last_img), size=1)[0]\n",
        "      random_images.append(last_img[i])\n",
        "      last_id = new_id"
      ],
      "execution_count": null,
      "outputs": [
        {
          "output_type": "stream",
          "text": [
            "27\n",
            "275\n",
            "355\n",
            "22\n",
            "48\n",
            "21\n",
            "16\n",
            "30\n",
            "66\n",
            "217\n"
          ],
          "name": "stdout"
        }
      ]
    },
    {
      "cell_type": "code",
      "metadata": {
        "id": "UdbP87Vjx1kK"
      },
      "source": [
        "np.save(BASE_FOLDER + 'random_images', random_images)"
      ],
      "execution_count": null,
      "outputs": []
    },
    {
      "cell_type": "code",
      "metadata": {
        "id": "30Kdka1lx1kK"
      },
      "source": [
        "random_images = np.load(BASE_FOLDER + 'random_images.npy')"
      ],
      "execution_count": null,
      "outputs": []
    },
    {
      "cell_type": "code",
      "metadata": {
        "colab": {
          "base_uri": "https://localhost:8080/"
        },
        "id": "UtBO3Uf4x1kK",
        "outputId": "fccf5fef-f27d-46b0-fa06-227aeda1c7cf"
      },
      "source": [
        "random_images_test = []\n",
        "last_img = None\n",
        "last_id = None\n",
        "for patient in new_df.loc[new_df.df_type=='test'].values:\n",
        "    new_id = patient[0]\n",
        "    if new_id == last_id:\n",
        "      i = np.random.choice(len(last_img), size=1)[0]\n",
        "      random_images_test.append(last_img[i])\n",
        "    else:\n",
        "      last_img = np.load(BASE_FOLDER + 'test_pre/' + new_id + '.npy')\n",
        "      print(len(last_img))\n",
        "      i = np.random.choice(len(last_img), size=1)[0]\n",
        "      random_images_test.append(last_img[i])\n",
        "      last_id = new_id"
      ],
      "execution_count": null,
      "outputs": [
        {
          "output_type": "stream",
          "text": [
            "28\n",
            "62\n",
            "473\n",
            "290\n",
            "408\n"
          ],
          "name": "stdout"
        }
      ]
    },
    {
      "cell_type": "code",
      "metadata": {
        "colab": {
          "base_uri": "https://localhost:8080/",
          "height": 399
        },
        "id": "FhYDp61sx1kL",
        "outputId": "1de92cff-3204-4c1f-94c1-bb62989cd59f"
      },
      "source": [
        "col = new_df[['Patient', 'Patient_by_week']]\n",
        "oe = OrdinalEncoder()\n",
        "oe.fit(col)\n",
        "new_df[['Patient', 'Patient_by_week']] = oe.transform(col)\n",
        "\n",
        "new_train = new_df.loc[new_df.df_type=='train']\n",
        "del new_train['df_type']\n",
        "display(new_train.head())\n",
        "new_test = new_df.loc[new_df.df_type=='test']\n",
        "del new_test['df_type']\n",
        "display(new_test.head())"
      ],
      "execution_count": null,
      "outputs": [
        {
          "output_type": "display_data",
          "data": {
            "text/html": [
              "<div>\n",
              "<style scoped>\n",
              "    .dataframe tbody tr th:only-of-type {\n",
              "        vertical-align: middle;\n",
              "    }\n",
              "\n",
              "    .dataframe tbody tr th {\n",
              "        vertical-align: top;\n",
              "    }\n",
              "\n",
              "    .dataframe thead th {\n",
              "        text-align: right;\n",
              "    }\n",
              "</style>\n",
              "<table border=\"1\" class=\"dataframe\">\n",
              "  <thead>\n",
              "    <tr style=\"text-align: right;\">\n",
              "      <th></th>\n",
              "      <th>Patient</th>\n",
              "      <th>Weeks</th>\n",
              "      <th>FVC</th>\n",
              "      <th>Percent</th>\n",
              "      <th>Age</th>\n",
              "      <th>Sex_M</th>\n",
              "      <th>Sex_F</th>\n",
              "      <th>SmokingStatus_Ex</th>\n",
              "      <th>SmokingStatus_N</th>\n",
              "      <th>SmokingStatus_S</th>\n",
              "      <th>Patient_by_week</th>\n",
              "      <th>min_week</th>\n",
              "      <th>base_FVC</th>\n",
              "      <th>base_week</th>\n",
              "    </tr>\n",
              "  </thead>\n",
              "  <tbody>\n",
              "    <tr>\n",
              "      <th>0</th>\n",
              "      <td>0.0</td>\n",
              "      <td>-3</td>\n",
              "      <td>1536</td>\n",
              "      <td>0.398010</td>\n",
              "      <td>0.333333</td>\n",
              "      <td>0</td>\n",
              "      <td>0</td>\n",
              "      <td>1</td>\n",
              "      <td>0</td>\n",
              "      <td>0</td>\n",
              "      <td>0.0</td>\n",
              "      <td>-3</td>\n",
              "      <td>0.092018</td>\n",
              "      <td>0</td>\n",
              "    </tr>\n",
              "    <tr>\n",
              "      <th>1</th>\n",
              "      <td>0.0</td>\n",
              "      <td>3</td>\n",
              "      <td>1368</td>\n",
              "      <td>0.271459</td>\n",
              "      <td>0.333333</td>\n",
              "      <td>0</td>\n",
              "      <td>0</td>\n",
              "      <td>1</td>\n",
              "      <td>0</td>\n",
              "      <td>0</td>\n",
              "      <td>3.0</td>\n",
              "      <td>-3</td>\n",
              "      <td>0.092018</td>\n",
              "      <td>6</td>\n",
              "    </tr>\n",
              "    <tr>\n",
              "      <th>2</th>\n",
              "      <td>0.0</td>\n",
              "      <td>5</td>\n",
              "      <td>1361</td>\n",
              "      <td>0.266186</td>\n",
              "      <td>0.333333</td>\n",
              "      <td>0</td>\n",
              "      <td>0</td>\n",
              "      <td>1</td>\n",
              "      <td>0</td>\n",
              "      <td>0</td>\n",
              "      <td>5.0</td>\n",
              "      <td>-3</td>\n",
              "      <td>0.092018</td>\n",
              "      <td>8</td>\n",
              "    </tr>\n",
              "    <tr>\n",
              "      <th>3</th>\n",
              "      <td>0.0</td>\n",
              "      <td>7</td>\n",
              "      <td>1465</td>\n",
              "      <td>0.344527</td>\n",
              "      <td>0.333333</td>\n",
              "      <td>0</td>\n",
              "      <td>0</td>\n",
              "      <td>1</td>\n",
              "      <td>0</td>\n",
              "      <td>0</td>\n",
              "      <td>7.0</td>\n",
              "      <td>-3</td>\n",
              "      <td>0.092018</td>\n",
              "      <td>10</td>\n",
              "    </tr>\n",
              "    <tr>\n",
              "      <th>4</th>\n",
              "      <td>0.0</td>\n",
              "      <td>9</td>\n",
              "      <td>1681</td>\n",
              "      <td>0.507235</td>\n",
              "      <td>0.333333</td>\n",
              "      <td>0</td>\n",
              "      <td>0</td>\n",
              "      <td>1</td>\n",
              "      <td>0</td>\n",
              "      <td>0</td>\n",
              "      <td>8.0</td>\n",
              "      <td>-3</td>\n",
              "      <td>0.092018</td>\n",
              "      <td>12</td>\n",
              "    </tr>\n",
              "  </tbody>\n",
              "</table>\n",
              "</div>"
            ],
            "text/plain": [
              "   Patient  Weeks   FVC  ...  min_week  base_FVC  base_week\n",
              "0      0.0     -3  1536  ...        -3  0.092018          0\n",
              "1      0.0      3  1368  ...        -3  0.092018          6\n",
              "2      0.0      5  1361  ...        -3  0.092018          8\n",
              "3      0.0      7  1465  ...        -3  0.092018         10\n",
              "4      0.0      9  1681  ...        -3  0.092018         12\n",
              "\n",
              "[5 rows x 14 columns]"
            ]
          },
          "metadata": {
            "tags": []
          }
        },
        {
          "output_type": "display_data",
          "data": {
            "text/html": [
              "<div>\n",
              "<style scoped>\n",
              "    .dataframe tbody tr th:only-of-type {\n",
              "        vertical-align: middle;\n",
              "    }\n",
              "\n",
              "    .dataframe tbody tr th {\n",
              "        vertical-align: top;\n",
              "    }\n",
              "\n",
              "    .dataframe thead th {\n",
              "        text-align: right;\n",
              "    }\n",
              "</style>\n",
              "<table border=\"1\" class=\"dataframe\">\n",
              "  <thead>\n",
              "    <tr style=\"text-align: right;\">\n",
              "      <th></th>\n",
              "      <th>Patient</th>\n",
              "      <th>Weeks</th>\n",
              "      <th>FVC</th>\n",
              "      <th>Percent</th>\n",
              "      <th>Age</th>\n",
              "      <th>Sex_M</th>\n",
              "      <th>Sex_F</th>\n",
              "      <th>SmokingStatus_Ex</th>\n",
              "      <th>SmokingStatus_N</th>\n",
              "      <th>SmokingStatus_S</th>\n",
              "      <th>Patient_by_week</th>\n",
              "      <th>min_week</th>\n",
              "      <th>base_FVC</th>\n",
              "      <th>base_week</th>\n",
              "    </tr>\n",
              "  </thead>\n",
              "  <tbody>\n",
              "    <tr>\n",
              "      <th>85</th>\n",
              "      <td>10.0</td>\n",
              "      <td>6</td>\n",
              "      <td>3020</td>\n",
              "      <td>0.484482</td>\n",
              "      <td>0.416667</td>\n",
              "      <td>0</td>\n",
              "      <td>0</td>\n",
              "      <td>1</td>\n",
              "      <td>0</td>\n",
              "      <td>0</td>\n",
              "      <td>84.0</td>\n",
              "      <td>6</td>\n",
              "      <td>0.609272</td>\n",
              "      <td>0</td>\n",
              "    </tr>\n",
              "    <tr>\n",
              "      <th>86</th>\n",
              "      <td>11.0</td>\n",
              "      <td>15</td>\n",
              "      <td>2739</td>\n",
              "      <td>0.694580</td>\n",
              "      <td>0.208333</td>\n",
              "      <td>0</td>\n",
              "      <td>0</td>\n",
              "      <td>1</td>\n",
              "      <td>0</td>\n",
              "      <td>0</td>\n",
              "      <td>85.0</td>\n",
              "      <td>15</td>\n",
              "      <td>0.511328</td>\n",
              "      <td>0</td>\n",
              "    </tr>\n",
              "    <tr>\n",
              "      <th>87</th>\n",
              "      <td>12.0</td>\n",
              "      <td>6</td>\n",
              "      <td>1930</td>\n",
              "      <td>0.599389</td>\n",
              "      <td>0.416667</td>\n",
              "      <td>0</td>\n",
              "      <td>0</td>\n",
              "      <td>1</td>\n",
              "      <td>0</td>\n",
              "      <td>0</td>\n",
              "      <td>86.0</td>\n",
              "      <td>6</td>\n",
              "      <td>0.229348</td>\n",
              "      <td>0</td>\n",
              "    </tr>\n",
              "    <tr>\n",
              "      <th>88</th>\n",
              "      <td>13.0</td>\n",
              "      <td>17</td>\n",
              "      <td>3294</td>\n",
              "      <td>0.645213</td>\n",
              "      <td>0.375000</td>\n",
              "      <td>0</td>\n",
              "      <td>0</td>\n",
              "      <td>1</td>\n",
              "      <td>0</td>\n",
              "      <td>0</td>\n",
              "      <td>87.0</td>\n",
              "      <td>17</td>\n",
              "      <td>0.704775</td>\n",
              "      <td>0</td>\n",
              "    </tr>\n",
              "    <tr>\n",
              "      <th>89</th>\n",
              "      <td>14.0</td>\n",
              "      <td>0</td>\n",
              "      <td>2925</td>\n",
              "      <td>0.513505</td>\n",
              "      <td>0.416667</td>\n",
              "      <td>0</td>\n",
              "      <td>0</td>\n",
              "      <td>0</td>\n",
              "      <td>1</td>\n",
              "      <td>0</td>\n",
              "      <td>88.0</td>\n",
              "      <td>0</td>\n",
              "      <td>0.576159</td>\n",
              "      <td>0</td>\n",
              "    </tr>\n",
              "  </tbody>\n",
              "</table>\n",
              "</div>"
            ],
            "text/plain": [
              "    Patient  Weeks   FVC  ...  min_week  base_FVC  base_week\n",
              "85     10.0      6  3020  ...         6  0.609272          0\n",
              "86     11.0     15  2739  ...        15  0.511328          0\n",
              "87     12.0      6  1930  ...         6  0.229348          0\n",
              "88     13.0     17  3294  ...        17  0.704775          0\n",
              "89     14.0      0  2925  ...         0  0.576159          0\n",
              "\n",
              "[5 rows x 14 columns]"
            ]
          },
          "metadata": {
            "tags": []
          }
        }
      ]
    },
    {
      "cell_type": "code",
      "metadata": {
        "colab": {
          "base_uri": "https://localhost:8080/",
          "height": 235
        },
        "id": "UNwloGodx1kL",
        "outputId": "5e69aa78-177a-4eef-9109-5ad0733fcdea"
      },
      "source": [
        "results = new_train['FVC'].values\n",
        "patientes_by_wwwwww = new_train[new_train.keys()].copy()\n",
        "del patientes_by_wwwwww['FVC']\n",
        "display(patientes_by_wwwwww.head())\n",
        "len(results)"
      ],
      "execution_count": null,
      "outputs": [
        {
          "output_type": "display_data",
          "data": {
            "text/html": [
              "<div>\n",
              "<style scoped>\n",
              "    .dataframe tbody tr th:only-of-type {\n",
              "        vertical-align: middle;\n",
              "    }\n",
              "\n",
              "    .dataframe tbody tr th {\n",
              "        vertical-align: top;\n",
              "    }\n",
              "\n",
              "    .dataframe thead th {\n",
              "        text-align: right;\n",
              "    }\n",
              "</style>\n",
              "<table border=\"1\" class=\"dataframe\">\n",
              "  <thead>\n",
              "    <tr style=\"text-align: right;\">\n",
              "      <th></th>\n",
              "      <th>Patient</th>\n",
              "      <th>Weeks</th>\n",
              "      <th>Percent</th>\n",
              "      <th>Age</th>\n",
              "      <th>Sex_M</th>\n",
              "      <th>Sex_F</th>\n",
              "      <th>SmokingStatus_Ex</th>\n",
              "      <th>SmokingStatus_N</th>\n",
              "      <th>SmokingStatus_S</th>\n",
              "      <th>Patient_by_week</th>\n",
              "      <th>min_week</th>\n",
              "      <th>base_FVC</th>\n",
              "      <th>base_week</th>\n",
              "    </tr>\n",
              "  </thead>\n",
              "  <tbody>\n",
              "    <tr>\n",
              "      <th>0</th>\n",
              "      <td>0.0</td>\n",
              "      <td>-3</td>\n",
              "      <td>0.398010</td>\n",
              "      <td>0.333333</td>\n",
              "      <td>0</td>\n",
              "      <td>0</td>\n",
              "      <td>1</td>\n",
              "      <td>0</td>\n",
              "      <td>0</td>\n",
              "      <td>0.0</td>\n",
              "      <td>-3</td>\n",
              "      <td>0.092018</td>\n",
              "      <td>0</td>\n",
              "    </tr>\n",
              "    <tr>\n",
              "      <th>1</th>\n",
              "      <td>0.0</td>\n",
              "      <td>3</td>\n",
              "      <td>0.271459</td>\n",
              "      <td>0.333333</td>\n",
              "      <td>0</td>\n",
              "      <td>0</td>\n",
              "      <td>1</td>\n",
              "      <td>0</td>\n",
              "      <td>0</td>\n",
              "      <td>3.0</td>\n",
              "      <td>-3</td>\n",
              "      <td>0.092018</td>\n",
              "      <td>6</td>\n",
              "    </tr>\n",
              "    <tr>\n",
              "      <th>2</th>\n",
              "      <td>0.0</td>\n",
              "      <td>5</td>\n",
              "      <td>0.266186</td>\n",
              "      <td>0.333333</td>\n",
              "      <td>0</td>\n",
              "      <td>0</td>\n",
              "      <td>1</td>\n",
              "      <td>0</td>\n",
              "      <td>0</td>\n",
              "      <td>5.0</td>\n",
              "      <td>-3</td>\n",
              "      <td>0.092018</td>\n",
              "      <td>8</td>\n",
              "    </tr>\n",
              "    <tr>\n",
              "      <th>3</th>\n",
              "      <td>0.0</td>\n",
              "      <td>7</td>\n",
              "      <td>0.344527</td>\n",
              "      <td>0.333333</td>\n",
              "      <td>0</td>\n",
              "      <td>0</td>\n",
              "      <td>1</td>\n",
              "      <td>0</td>\n",
              "      <td>0</td>\n",
              "      <td>7.0</td>\n",
              "      <td>-3</td>\n",
              "      <td>0.092018</td>\n",
              "      <td>10</td>\n",
              "    </tr>\n",
              "    <tr>\n",
              "      <th>4</th>\n",
              "      <td>0.0</td>\n",
              "      <td>9</td>\n",
              "      <td>0.507235</td>\n",
              "      <td>0.333333</td>\n",
              "      <td>0</td>\n",
              "      <td>0</td>\n",
              "      <td>1</td>\n",
              "      <td>0</td>\n",
              "      <td>0</td>\n",
              "      <td>8.0</td>\n",
              "      <td>-3</td>\n",
              "      <td>0.092018</td>\n",
              "      <td>12</td>\n",
              "    </tr>\n",
              "  </tbody>\n",
              "</table>\n",
              "</div>"
            ],
            "text/plain": [
              "   Patient  Weeks   Percent  ...  min_week  base_FVC  base_week\n",
              "0      0.0     -3  0.398010  ...        -3  0.092018          0\n",
              "1      0.0      3  0.271459  ...        -3  0.092018          6\n",
              "2      0.0      5  0.266186  ...        -3  0.092018          8\n",
              "3      0.0      7  0.344527  ...        -3  0.092018         10\n",
              "4      0.0      9  0.507235  ...        -3  0.092018         12\n",
              "\n",
              "[5 rows x 13 columns]"
            ]
          },
          "metadata": {
            "tags": []
          }
        },
        {
          "output_type": "execute_result",
          "data": {
            "text/plain": [
              "85"
            ]
          },
          "metadata": {
            "tags": []
          },
          "execution_count": 115
        }
      ]
    },
    {
      "cell_type": "code",
      "metadata": {
        "colab": {
          "base_uri": "https://localhost:8080/"
        },
        "id": "fc64qnuHx1kL",
        "outputId": "9cc3278b-c8fb-4e40-e077-5ddff0b7fa21"
      },
      "source": [
        "random_images = np.expand_dims(random_images, axis=-1)\n",
        "print(len(random_images))\n",
        "print(random_images[0].shape)"
      ],
      "execution_count": null,
      "outputs": [
        {
          "output_type": "stream",
          "text": [
            "85\n",
            "(512, 512, 1)\n"
          ],
          "name": "stdout"
        }
      ]
    },
    {
      "cell_type": "markdown",
      "metadata": {
        "id": "oxxFBhe9Ig9g"
      },
      "source": [
        "Validación creación del modelo cnn por separado"
      ]
    },
    {
      "cell_type": "code",
      "metadata": {
        "colab": {
          "base_uri": "https://localhost:8080/",
          "height": 500
        },
        "id": "PD3hrQOWx1kL",
        "outputId": "ae35cdcb-f114-4d4f-f39c-22e67009e681"
      },
      "source": [
        "inp1 = Input(shape=random_images[0].shape)\n",
        "out1 = efn.EfficientNetB1(input_shape=random_images[0].shape, weights=None, include_top=True)(inp1)\n",
        "model_cnn = Model(inp1, out1)\n",
        "model_cnn.compile(optimizer='adam', loss=\"mae\")\n",
        "model_cnn.fit(random_images,\n",
        "                    results,\n",
        "                    epochs=50,\n",
        "                    batch_size=8,\n",
        "                    validation_split=0.2)"
      ],
      "execution_count": null,
      "outputs": [
        {
          "output_type": "stream",
          "text": [
            "Epoch 1/50\n",
            "9/9 [==============================] - 142s 14s/step - loss: 2412.4406 - val_loss: 2293.4116\n",
            "Epoch 2/50\n",
            "9/9 [==============================] - 124s 14s/step - loss: 2434.1169 - val_loss: 2293.4116\n",
            "Epoch 3/50\n",
            "9/9 [==============================] - 123s 14s/step - loss: 2385.8662 - val_loss: 2293.4116\n",
            "Epoch 4/50\n",
            "3/9 [=========>....................] - ETA: 1:39 - loss: 2086.7150"
          ],
          "name": "stdout"
        },
        {
          "output_type": "error",
          "ename": "KeyboardInterrupt",
          "evalue": "ignored",
          "traceback": [
            "\u001b[0;31m---------------------------------------------------------------------------\u001b[0m",
            "\u001b[0;31mKeyboardInterrupt\u001b[0m                         Traceback (most recent call last)",
            "\u001b[0;32m<ipython-input-117-f2f62f813adf>\u001b[0m in \u001b[0;36m<module>\u001b[0;34m()\u001b[0m\n\u001b[1;32m      7\u001b[0m                     \u001b[0mepochs\u001b[0m\u001b[0;34m=\u001b[0m\u001b[0;36m50\u001b[0m\u001b[0;34m,\u001b[0m\u001b[0;34m\u001b[0m\u001b[0;34m\u001b[0m\u001b[0m\n\u001b[1;32m      8\u001b[0m                     \u001b[0mbatch_size\u001b[0m\u001b[0;34m=\u001b[0m\u001b[0;36m8\u001b[0m\u001b[0;34m,\u001b[0m\u001b[0;34m\u001b[0m\u001b[0;34m\u001b[0m\u001b[0m\n\u001b[0;32m----> 9\u001b[0;31m                     validation_split=0.2)\n\u001b[0m",
            "\u001b[0;32m/usr/local/lib/python3.7/dist-packages/tensorflow/python/keras/engine/training.py\u001b[0m in \u001b[0;36mfit\u001b[0;34m(self, x, y, batch_size, epochs, verbose, callbacks, validation_split, validation_data, shuffle, class_weight, sample_weight, initial_epoch, steps_per_epoch, validation_steps, validation_batch_size, validation_freq, max_queue_size, workers, use_multiprocessing)\u001b[0m\n\u001b[1;32m   1098\u001b[0m                 _r=1):\n\u001b[1;32m   1099\u001b[0m               \u001b[0mcallbacks\u001b[0m\u001b[0;34m.\u001b[0m\u001b[0mon_train_batch_begin\u001b[0m\u001b[0;34m(\u001b[0m\u001b[0mstep\u001b[0m\u001b[0;34m)\u001b[0m\u001b[0;34m\u001b[0m\u001b[0;34m\u001b[0m\u001b[0m\n\u001b[0;32m-> 1100\u001b[0;31m               \u001b[0mtmp_logs\u001b[0m \u001b[0;34m=\u001b[0m \u001b[0mself\u001b[0m\u001b[0;34m.\u001b[0m\u001b[0mtrain_function\u001b[0m\u001b[0;34m(\u001b[0m\u001b[0miterator\u001b[0m\u001b[0;34m)\u001b[0m\u001b[0;34m\u001b[0m\u001b[0;34m\u001b[0m\u001b[0m\n\u001b[0m\u001b[1;32m   1101\u001b[0m               \u001b[0;32mif\u001b[0m \u001b[0mdata_handler\u001b[0m\u001b[0;34m.\u001b[0m\u001b[0mshould_sync\u001b[0m\u001b[0;34m:\u001b[0m\u001b[0;34m\u001b[0m\u001b[0;34m\u001b[0m\u001b[0m\n\u001b[1;32m   1102\u001b[0m                 \u001b[0mcontext\u001b[0m\u001b[0;34m.\u001b[0m\u001b[0masync_wait\u001b[0m\u001b[0;34m(\u001b[0m\u001b[0;34m)\u001b[0m\u001b[0;34m\u001b[0m\u001b[0;34m\u001b[0m\u001b[0m\n",
            "\u001b[0;32m/usr/local/lib/python3.7/dist-packages/tensorflow/python/eager/def_function.py\u001b[0m in \u001b[0;36m__call__\u001b[0;34m(self, *args, **kwds)\u001b[0m\n\u001b[1;32m    826\u001b[0m     \u001b[0mtracing_count\u001b[0m \u001b[0;34m=\u001b[0m \u001b[0mself\u001b[0m\u001b[0;34m.\u001b[0m\u001b[0mexperimental_get_tracing_count\u001b[0m\u001b[0;34m(\u001b[0m\u001b[0;34m)\u001b[0m\u001b[0;34m\u001b[0m\u001b[0;34m\u001b[0m\u001b[0m\n\u001b[1;32m    827\u001b[0m     \u001b[0;32mwith\u001b[0m \u001b[0mtrace\u001b[0m\u001b[0;34m.\u001b[0m\u001b[0mTrace\u001b[0m\u001b[0;34m(\u001b[0m\u001b[0mself\u001b[0m\u001b[0;34m.\u001b[0m\u001b[0m_name\u001b[0m\u001b[0;34m)\u001b[0m \u001b[0;32mas\u001b[0m \u001b[0mtm\u001b[0m\u001b[0;34m:\u001b[0m\u001b[0;34m\u001b[0m\u001b[0;34m\u001b[0m\u001b[0m\n\u001b[0;32m--> 828\u001b[0;31m       \u001b[0mresult\u001b[0m \u001b[0;34m=\u001b[0m \u001b[0mself\u001b[0m\u001b[0;34m.\u001b[0m\u001b[0m_call\u001b[0m\u001b[0;34m(\u001b[0m\u001b[0;34m*\u001b[0m\u001b[0margs\u001b[0m\u001b[0;34m,\u001b[0m \u001b[0;34m**\u001b[0m\u001b[0mkwds\u001b[0m\u001b[0;34m)\u001b[0m\u001b[0;34m\u001b[0m\u001b[0;34m\u001b[0m\u001b[0m\n\u001b[0m\u001b[1;32m    829\u001b[0m       \u001b[0mcompiler\u001b[0m \u001b[0;34m=\u001b[0m \u001b[0;34m\"xla\"\u001b[0m \u001b[0;32mif\u001b[0m \u001b[0mself\u001b[0m\u001b[0;34m.\u001b[0m\u001b[0m_experimental_compile\u001b[0m \u001b[0;32melse\u001b[0m \u001b[0;34m\"nonXla\"\u001b[0m\u001b[0;34m\u001b[0m\u001b[0;34m\u001b[0m\u001b[0m\n\u001b[1;32m    830\u001b[0m       \u001b[0mnew_tracing_count\u001b[0m \u001b[0;34m=\u001b[0m \u001b[0mself\u001b[0m\u001b[0;34m.\u001b[0m\u001b[0mexperimental_get_tracing_count\u001b[0m\u001b[0;34m(\u001b[0m\u001b[0;34m)\u001b[0m\u001b[0;34m\u001b[0m\u001b[0;34m\u001b[0m\u001b[0m\n",
            "\u001b[0;32m/usr/local/lib/python3.7/dist-packages/tensorflow/python/eager/def_function.py\u001b[0m in \u001b[0;36m_call\u001b[0;34m(self, *args, **kwds)\u001b[0m\n\u001b[1;32m    853\u001b[0m       \u001b[0;31m# In this case we have created variables on the first call, so we run the\u001b[0m\u001b[0;34m\u001b[0m\u001b[0;34m\u001b[0m\u001b[0;34m\u001b[0m\u001b[0m\n\u001b[1;32m    854\u001b[0m       \u001b[0;31m# defunned version which is guaranteed to never create variables.\u001b[0m\u001b[0;34m\u001b[0m\u001b[0;34m\u001b[0m\u001b[0;34m\u001b[0m\u001b[0m\n\u001b[0;32m--> 855\u001b[0;31m       \u001b[0;32mreturn\u001b[0m \u001b[0mself\u001b[0m\u001b[0;34m.\u001b[0m\u001b[0m_stateless_fn\u001b[0m\u001b[0;34m(\u001b[0m\u001b[0;34m*\u001b[0m\u001b[0margs\u001b[0m\u001b[0;34m,\u001b[0m \u001b[0;34m**\u001b[0m\u001b[0mkwds\u001b[0m\u001b[0;34m)\u001b[0m  \u001b[0;31m# pylint: disable=not-callable\u001b[0m\u001b[0;34m\u001b[0m\u001b[0;34m\u001b[0m\u001b[0m\n\u001b[0m\u001b[1;32m    856\u001b[0m     \u001b[0;32melif\u001b[0m \u001b[0mself\u001b[0m\u001b[0;34m.\u001b[0m\u001b[0m_stateful_fn\u001b[0m \u001b[0;32mis\u001b[0m \u001b[0;32mnot\u001b[0m \u001b[0;32mNone\u001b[0m\u001b[0;34m:\u001b[0m\u001b[0;34m\u001b[0m\u001b[0;34m\u001b[0m\u001b[0m\n\u001b[1;32m    857\u001b[0m       \u001b[0;31m# Release the lock early so that multiple threads can perform the call\u001b[0m\u001b[0;34m\u001b[0m\u001b[0;34m\u001b[0m\u001b[0;34m\u001b[0m\u001b[0m\n",
            "\u001b[0;32m/usr/local/lib/python3.7/dist-packages/tensorflow/python/eager/function.py\u001b[0m in \u001b[0;36m__call__\u001b[0;34m(self, *args, **kwargs)\u001b[0m\n\u001b[1;32m   2941\u001b[0m        filtered_flat_args) = self._maybe_define_function(args, kwargs)\n\u001b[1;32m   2942\u001b[0m     return graph_function._call_flat(\n\u001b[0;32m-> 2943\u001b[0;31m         filtered_flat_args, captured_inputs=graph_function.captured_inputs)  # pylint: disable=protected-access\n\u001b[0m\u001b[1;32m   2944\u001b[0m \u001b[0;34m\u001b[0m\u001b[0m\n\u001b[1;32m   2945\u001b[0m   \u001b[0;34m@\u001b[0m\u001b[0mproperty\u001b[0m\u001b[0;34m\u001b[0m\u001b[0;34m\u001b[0m\u001b[0m\n",
            "\u001b[0;32m/usr/local/lib/python3.7/dist-packages/tensorflow/python/eager/function.py\u001b[0m in \u001b[0;36m_call_flat\u001b[0;34m(self, args, captured_inputs, cancellation_manager)\u001b[0m\n\u001b[1;32m   1917\u001b[0m       \u001b[0;31m# No tape is watching; skip to running the function.\u001b[0m\u001b[0;34m\u001b[0m\u001b[0;34m\u001b[0m\u001b[0;34m\u001b[0m\u001b[0m\n\u001b[1;32m   1918\u001b[0m       return self._build_call_outputs(self._inference_function.call(\n\u001b[0;32m-> 1919\u001b[0;31m           ctx, args, cancellation_manager=cancellation_manager))\n\u001b[0m\u001b[1;32m   1920\u001b[0m     forward_backward = self._select_forward_and_backward_functions(\n\u001b[1;32m   1921\u001b[0m         \u001b[0margs\u001b[0m\u001b[0;34m,\u001b[0m\u001b[0;34m\u001b[0m\u001b[0;34m\u001b[0m\u001b[0m\n",
            "\u001b[0;32m/usr/local/lib/python3.7/dist-packages/tensorflow/python/eager/function.py\u001b[0m in \u001b[0;36mcall\u001b[0;34m(self, ctx, args, cancellation_manager)\u001b[0m\n\u001b[1;32m    558\u001b[0m               \u001b[0minputs\u001b[0m\u001b[0;34m=\u001b[0m\u001b[0margs\u001b[0m\u001b[0;34m,\u001b[0m\u001b[0;34m\u001b[0m\u001b[0;34m\u001b[0m\u001b[0m\n\u001b[1;32m    559\u001b[0m               \u001b[0mattrs\u001b[0m\u001b[0;34m=\u001b[0m\u001b[0mattrs\u001b[0m\u001b[0;34m,\u001b[0m\u001b[0;34m\u001b[0m\u001b[0;34m\u001b[0m\u001b[0m\n\u001b[0;32m--> 560\u001b[0;31m               ctx=ctx)\n\u001b[0m\u001b[1;32m    561\u001b[0m         \u001b[0;32melse\u001b[0m\u001b[0;34m:\u001b[0m\u001b[0;34m\u001b[0m\u001b[0;34m\u001b[0m\u001b[0m\n\u001b[1;32m    562\u001b[0m           outputs = execute.execute_with_cancellation(\n",
            "\u001b[0;32m/usr/local/lib/python3.7/dist-packages/tensorflow/python/eager/execute.py\u001b[0m in \u001b[0;36mquick_execute\u001b[0;34m(op_name, num_outputs, inputs, attrs, ctx, name)\u001b[0m\n\u001b[1;32m     58\u001b[0m     \u001b[0mctx\u001b[0m\u001b[0;34m.\u001b[0m\u001b[0mensure_initialized\u001b[0m\u001b[0;34m(\u001b[0m\u001b[0;34m)\u001b[0m\u001b[0;34m\u001b[0m\u001b[0;34m\u001b[0m\u001b[0m\n\u001b[1;32m     59\u001b[0m     tensors = pywrap_tfe.TFE_Py_Execute(ctx._handle, device_name, op_name,\n\u001b[0;32m---> 60\u001b[0;31m                                         inputs, attrs, num_outputs)\n\u001b[0m\u001b[1;32m     61\u001b[0m   \u001b[0;32mexcept\u001b[0m \u001b[0mcore\u001b[0m\u001b[0;34m.\u001b[0m\u001b[0m_NotOkStatusException\u001b[0m \u001b[0;32mas\u001b[0m \u001b[0me\u001b[0m\u001b[0;34m:\u001b[0m\u001b[0;34m\u001b[0m\u001b[0;34m\u001b[0m\u001b[0m\n\u001b[1;32m     62\u001b[0m     \u001b[0;32mif\u001b[0m \u001b[0mname\u001b[0m \u001b[0;32mis\u001b[0m \u001b[0;32mnot\u001b[0m \u001b[0;32mNone\u001b[0m\u001b[0;34m:\u001b[0m\u001b[0;34m\u001b[0m\u001b[0;34m\u001b[0m\u001b[0m\n",
            "\u001b[0;31mKeyboardInterrupt\u001b[0m: "
          ]
        }
      ]
    },
    {
      "cell_type": "markdown",
      "metadata": {
        "id": "s9oOLo_TItjK"
      },
      "source": [
        "Creamos red combinada mediante concatenación"
      ]
    },
    {
      "cell_type": "code",
      "metadata": {
        "colab": {
          "base_uri": "https://localhost:8080/"
        },
        "id": "9OI-jFc-kcDz",
        "outputId": "1e74f27b-e775-4521-9fb8-2ef45f93ffb5"
      },
      "source": [
        "inp1 = Input(shape=(512, 512, 1))\n",
        "out1 = efn.EfficientNetB1(input_shape=(512, 512, 1), weights=None, include_top=True)(inp1)\n",
        "model_cnn = Model(inp1, out1)\n",
        "\n",
        "inp2 = Input(shape=(13,), name='historial_medico_2')\n",
        "x2 = Dense(128,activation='relu')(inp2)\n",
        "x2 = Dense(64,activation='relu')(x2)\n",
        "x2 = Dense(1,activation='relu')(x2)\n",
        "model_solo_csv_base_2 = Model(inp2 , x2)\n",
        "\n",
        "model_concat = tf.keras.layers.concatenate([model_cnn.output, model_solo_csv_base_2.output])\n",
        "x = Dense(1,activation='relu')(model_concat)\n",
        "\n",
        "model_combinado = Model([model_cnn.input, model_solo_csv_base_2.input], outputs=x)\n",
        "model_combinado.summary()"
      ],
      "execution_count": null,
      "outputs": [
        {
          "output_type": "stream",
          "text": [
            "Model: \"model_5\"\n",
            "__________________________________________________________________________________________________\n",
            "Layer (type)                    Output Shape         Param #     Connected to                     \n",
            "==================================================================================================\n",
            "historial_medico_2 (InputLayer) [(None, 13)]         0                                            \n",
            "__________________________________________________________________________________________________\n",
            "dense_10 (Dense)                (None, 128)          1792        historial_medico_2[0][0]         \n",
            "__________________________________________________________________________________________________\n",
            "input_2 (InputLayer)            [(None, 512, 512, 1) 0                                            \n",
            "__________________________________________________________________________________________________\n",
            "dense_11 (Dense)                (None, 64)           8256        dense_10[0][0]                   \n",
            "__________________________________________________________________________________________________\n",
            "efficientnet-b1 (Functional)    (None, 1000)         7855656     input_2[0][0]                    \n",
            "__________________________________________________________________________________________________\n",
            "dense_12 (Dense)                (None, 1)            65          dense_11[0][0]                   \n",
            "__________________________________________________________________________________________________\n",
            "concatenate (Concatenate)       (None, 1001)         0           efficientnet-b1[0][0]            \n",
            "                                                                 dense_12[0][0]                   \n",
            "__________________________________________________________________________________________________\n",
            "dense_13 (Dense)                (None, 1)            1002        concatenate[0][0]                \n",
            "==================================================================================================\n",
            "Total params: 7,866,771\n",
            "Trainable params: 7,804,723\n",
            "Non-trainable params: 62,048\n",
            "__________________________________________________________________________________________________\n"
          ],
          "name": "stdout"
        }
      ]
    },
    {
      "cell_type": "code",
      "metadata": {
        "colab": {
          "base_uri": "https://localhost:8080/"
        },
        "id": "eV2i4QWw0gZl",
        "outputId": "4e4e1aef-ffee-4f23-e46a-6e1ce8570ff1"
      },
      "source": [
        "inp1 = Input(shape=random_images[0].shape)\n",
        "out1 = efn.EfficientNetB1(input_shape=random_images[0].shape, weights=None, include_top=True)(inp1)\n",
        "model_cnn = Model(inp1, out1)\n",
        "\n",
        "inp2 = Input(shape=(13,), name='historial_medico_2')\n",
        "x2 = Dense(128,activation='relu')(inp2)\n",
        "x2 = Dense(64,activation='relu')(x2)\n",
        "x2 = Dense(1,activation='relu')(x2)\n",
        "model_solo_csv_base_2 = Model(inp2 , x2)\n",
        "\n",
        "model_concat = tf.keras.layers.concatenate([model_cnn.output, model_solo_csv_base_2.output])\n",
        "x = Dense(1,activation='relu')(model_concat)\n",
        "\n",
        "model_combinado = Model([model_cnn.input, model_solo_csv_base_2.input], outputs=x)\n",
        "model_combinado.compile(optimizer='adam', loss=\"mae\")\n",
        "HFinal = model_combinado.fit([random_images, patientes_by_wwwwww],\n",
        "                    results,\n",
        "                    epochs=50,\n",
        "                    batch_size=8,\n",
        "                    validation_split=0.2)"
      ],
      "execution_count": null,
      "outputs": [
        {
          "output_type": "stream",
          "text": [
            "Epoch 1/50\n",
            "9/9 [==============================] - 139s 14s/step - loss: 2362.2650 - val_loss: 2290.4011\n",
            "Epoch 2/50\n",
            "9/9 [==============================] - 123s 14s/step - loss: 2266.5218 - val_loss: 2286.8069\n",
            "Epoch 3/50\n",
            "9/9 [==============================] - 123s 14s/step - loss: 2247.3310 - val_loss: 2281.3801\n",
            "Epoch 4/50\n",
            "9/9 [==============================] - 131s 15s/step - loss: 2360.8063 - val_loss: 2272.5476\n",
            "Epoch 5/50\n",
            "9/9 [==============================] - 124s 14s/step - loss: 2384.2601 - val_loss: 2258.1465\n",
            "Epoch 6/50\n",
            "9/9 [==============================] - 122s 14s/step - loss: 2340.2523 - val_loss: 2235.3245\n",
            "Epoch 7/50\n",
            "9/9 [==============================] - 125s 14s/step - loss: 2434.8182 - val_loss: 2199.1350\n",
            "Epoch 8/50\n",
            "9/9 [==============================] - 122s 14s/step - loss: 2306.5723 - val_loss: 2144.4412\n",
            "Epoch 9/50\n",
            "9/9 [==============================] - 129s 14s/step - loss: 2273.2091 - val_loss: 2061.7100\n",
            "Epoch 10/50\n",
            "9/9 [==============================] - 123s 13s/step - loss: 2221.0848 - val_loss: 1941.4294\n",
            "Epoch 11/50\n",
            "9/9 [==============================] - 122s 14s/step - loss: 2167.1889 - val_loss: 1772.0635\n",
            "Epoch 12/50\n",
            "9/9 [==============================] - 122s 14s/step - loss: 2084.3995 - val_loss: 1537.5940\n",
            "Epoch 13/50\n",
            "9/9 [==============================] - 123s 14s/step - loss: 1872.8869 - val_loss: 1225.4204\n",
            "Epoch 14/50\n",
            "9/9 [==============================] - 133s 15s/step - loss: 1754.4992 - val_loss: 807.5334\n",
            "Epoch 15/50\n",
            "9/9 [==============================] - 124s 14s/step - loss: 1341.2728 - val_loss: 490.1094\n",
            "Epoch 16/50\n",
            "9/9 [==============================] - 121s 13s/step - loss: 1378.2695 - val_loss: 463.1405\n",
            "Epoch 17/50\n",
            "9/9 [==============================] - 121s 13s/step - loss: 1115.3111 - val_loss: 705.2767\n",
            "Epoch 18/50\n",
            "9/9 [==============================] - 121s 13s/step - loss: 1138.2530 - val_loss: 964.0894\n",
            "Epoch 19/50\n",
            "9/9 [==============================] - 127s 14s/step - loss: 1057.7247 - val_loss: 1029.2213\n",
            "Epoch 20/50\n",
            "9/9 [==============================] - 127s 13s/step - loss: 964.4389 - val_loss: 1042.8162\n",
            "Epoch 21/50\n",
            "9/9 [==============================] - 122s 14s/step - loss: 1104.0472 - val_loss: 1001.0466\n",
            "Epoch 22/50\n",
            "9/9 [==============================] - 122s 14s/step - loss: 944.0728 - val_loss: 975.8828\n",
            "Epoch 23/50\n",
            "9/9 [==============================] - 123s 14s/step - loss: 1013.5618 - val_loss: 991.8885\n",
            "Epoch 24/50\n",
            "9/9 [==============================] - 127s 14s/step - loss: 979.1146 - val_loss: 1054.8646\n",
            "Epoch 25/50\n",
            "9/9 [==============================] - 126s 13s/step - loss: 932.9888 - val_loss: 1133.5186\n",
            "Epoch 26/50\n",
            "9/9 [==============================] - 120s 13s/step - loss: 1084.2543 - val_loss: 1096.5469\n",
            "Epoch 27/50\n",
            "9/9 [==============================] - 123s 13s/step - loss: 1068.1336 - val_loss: 1140.2667\n",
            "Epoch 28/50\n",
            "9/9 [==============================] - 121s 13s/step - loss: 1080.8217 - val_loss: 1156.2681\n",
            "Epoch 29/50\n",
            "9/9 [==============================] - 123s 14s/step - loss: 891.8148 - val_loss: 1072.9956\n",
            "Epoch 30/50\n",
            "9/9 [==============================] - 130s 14s/step - loss: 916.0364 - val_loss: 1142.1294\n",
            "Epoch 31/50\n",
            "9/9 [==============================] - 121s 13s/step - loss: 932.6021 - val_loss: 1211.5391\n",
            "Epoch 32/50\n",
            "9/9 [==============================] - 121s 13s/step - loss: 1016.7355 - val_loss: 1241.8335\n",
            "Epoch 33/50\n",
            "9/9 [==============================] - 121s 13s/step - loss: 1011.0646 - val_loss: 1361.2131\n",
            "Epoch 34/50\n",
            "9/9 [==============================] - 125s 14s/step - loss: 1051.9675 - val_loss: 1369.5876\n",
            "Epoch 35/50\n",
            "9/9 [==============================] - 130s 14s/step - loss: 935.0425 - val_loss: 1304.0234\n",
            "Epoch 36/50\n",
            "9/9 [==============================] - 122s 14s/step - loss: 1019.3174 - val_loss: 1295.0299\n",
            "Epoch 37/50\n",
            "9/9 [==============================] - 122s 14s/step - loss: 1017.9485 - val_loss: 1339.6615\n",
            "Epoch 38/50\n",
            "9/9 [==============================] - 122s 14s/step - loss: 1034.8284 - val_loss: 1335.7606\n",
            "Epoch 39/50\n",
            "9/9 [==============================] - 126s 14s/step - loss: 1046.2720 - val_loss: 1354.5535\n",
            "Epoch 40/50\n",
            "9/9 [==============================] - 129s 14s/step - loss: 1055.5765 - val_loss: 1469.2073\n",
            "Epoch 41/50\n",
            "9/9 [==============================] - 122s 14s/step - loss: 1029.5662 - val_loss: 1407.3762\n",
            "Epoch 42/50\n",
            "9/9 [==============================] - 121s 13s/step - loss: 961.4714 - val_loss: 1427.9828\n",
            "Epoch 43/50\n",
            "9/9 [==============================] - 121s 13s/step - loss: 936.8188 - val_loss: 1412.4763\n",
            "Epoch 44/50\n",
            "9/9 [==============================] - 129s 14s/step - loss: 945.4987 - val_loss: 1444.3591\n",
            "Epoch 45/50\n",
            "9/9 [==============================] - 124s 14s/step - loss: 943.0481 - val_loss: 1548.4078\n",
            "Epoch 46/50\n",
            "9/9 [==============================] - 121s 13s/step - loss: 983.7086 - val_loss: 1571.0455\n",
            "Epoch 47/50\n",
            "9/9 [==============================] - 121s 13s/step - loss: 945.4249 - val_loss: 1476.8633\n",
            "Epoch 48/50\n",
            "9/9 [==============================] - 121s 13s/step - loss: 982.6709 - val_loss: 1456.0776\n",
            "Epoch 49/50\n",
            "9/9 [==============================] - 122s 14s/step - loss: 891.1697 - val_loss: 1516.3796\n",
            "Epoch 50/50\n",
            "9/9 [==============================] - 131s 14s/step - loss: 941.7506 - val_loss: 1515.8690\n"
          ],
          "name": "stdout"
        }
      ]
    },
    {
      "cell_type": "markdown",
      "metadata": {
        "id": "vrCG9-cPI3gH"
      },
      "source": [
        "### Resultados"
      ]
    },
    {
      "cell_type": "code",
      "metadata": {
        "colab": {
          "base_uri": "https://localhost:8080/",
          "height": 316
        },
        "id": "wmNBe01bx1kM",
        "outputId": "ff454544-2a2d-441f-8a68-83898697ff47"
      },
      "source": [
        "import matplotlib.pyplot as plt\n",
        "# Muestro gráfica de accuracy y losses\n",
        "plt.style.use(\"ggplot\")\n",
        "plt.figure()\n",
        "plt.plot(np.arange(0, 50), HFinal.history[\"loss\"], label=\"train_loss\")\n",
        "plt.plot(np.arange(0, 50), HFinal.history[\"val_loss\"], label=\"val_loss\")\n",
        "plt.title(\"Training Loss and MSE\")\n",
        "plt.xlabel(\"Epoch #\")\n",
        "plt.ylabel(\"Loss/MSE\")\n",
        "plt.legend()"
      ],
      "execution_count": null,
      "outputs": [
        {
          "output_type": "execute_result",
          "data": {
            "text/plain": [
              "<matplotlib.legend.Legend at 0x7f819b0527d0>"
            ]
          },
          "metadata": {
            "tags": []
          },
          "execution_count": 122
        },
        {
          "output_type": "display_data",
          "data": {
            "image/png": "[encoded data removed]",
            "text/plain": [
              "<Figure size 432x288 with 1 Axes>"
            ]
          },
          "metadata": {
            "tags": []
          }
        }
      ]
    },
    {
      "cell_type": "code",
      "metadata": {
        "colab": {
          "base_uri": "https://localhost:8080/",
          "height": 235
        },
        "id": "gmlh0TUqx1kM",
        "outputId": "8a0a79b4-42c8-4473-bae0-9f2083f3b4d7"
      },
      "source": [
        "results_by_test = new_test['FVC'].values\n",
        "patientes_by_test = new_test[new_test.keys()].copy()\n",
        "del patientes_by_test['FVC']\n",
        "display(patientes_by_test)\n",
        "len(results_by_test)"
      ],
      "execution_count": null,
      "outputs": [
        {
          "output_type": "display_data",
          "data": {
            "text/html": [
              "<div>\n",
              "<style scoped>\n",
              "    .dataframe tbody tr th:only-of-type {\n",
              "        vertical-align: middle;\n",
              "    }\n",
              "\n",
              "    .dataframe tbody tr th {\n",
              "        vertical-align: top;\n",
              "    }\n",
              "\n",
              "    .dataframe thead th {\n",
              "        text-align: right;\n",
              "    }\n",
              "</style>\n",
              "<table border=\"1\" class=\"dataframe\">\n",
              "  <thead>\n",
              "    <tr style=\"text-align: right;\">\n",
              "      <th></th>\n",
              "      <th>Patient</th>\n",
              "      <th>Weeks</th>\n",
              "      <th>Percent</th>\n",
              "      <th>Age</th>\n",
              "      <th>Sex_M</th>\n",
              "      <th>Sex_F</th>\n",
              "      <th>SmokingStatus_Ex</th>\n",
              "      <th>SmokingStatus_N</th>\n",
              "      <th>SmokingStatus_S</th>\n",
              "      <th>Patient_by_week</th>\n",
              "      <th>min_week</th>\n",
              "      <th>base_FVC</th>\n",
              "      <th>base_week</th>\n",
              "    </tr>\n",
              "  </thead>\n",
              "  <tbody>\n",
              "    <tr>\n",
              "      <th>85</th>\n",
              "      <td>10.0</td>\n",
              "      <td>6</td>\n",
              "      <td>0.484482</td>\n",
              "      <td>0.416667</td>\n",
              "      <td>0</td>\n",
              "      <td>0</td>\n",
              "      <td>1</td>\n",
              "      <td>0</td>\n",
              "      <td>0</td>\n",
              "      <td>84.0</td>\n",
              "      <td>6</td>\n",
              "      <td>0.609272</td>\n",
              "      <td>0</td>\n",
              "    </tr>\n",
              "    <tr>\n",
              "      <th>86</th>\n",
              "      <td>11.0</td>\n",
              "      <td>15</td>\n",
              "      <td>0.694580</td>\n",
              "      <td>0.208333</td>\n",
              "      <td>0</td>\n",
              "      <td>0</td>\n",
              "      <td>1</td>\n",
              "      <td>0</td>\n",
              "      <td>0</td>\n",
              "      <td>85.0</td>\n",
              "      <td>15</td>\n",
              "      <td>0.511328</td>\n",
              "      <td>0</td>\n",
              "    </tr>\n",
              "    <tr>\n",
              "      <th>87</th>\n",
              "      <td>12.0</td>\n",
              "      <td>6</td>\n",
              "      <td>0.599389</td>\n",
              "      <td>0.416667</td>\n",
              "      <td>0</td>\n",
              "      <td>0</td>\n",
              "      <td>1</td>\n",
              "      <td>0</td>\n",
              "      <td>0</td>\n",
              "      <td>86.0</td>\n",
              "      <td>6</td>\n",
              "      <td>0.229348</td>\n",
              "      <td>0</td>\n",
              "    </tr>\n",
              "    <tr>\n",
              "      <th>88</th>\n",
              "      <td>13.0</td>\n",
              "      <td>17</td>\n",
              "      <td>0.645213</td>\n",
              "      <td>0.375000</td>\n",
              "      <td>0</td>\n",
              "      <td>0</td>\n",
              "      <td>1</td>\n",
              "      <td>0</td>\n",
              "      <td>0</td>\n",
              "      <td>87.0</td>\n",
              "      <td>17</td>\n",
              "      <td>0.704775</td>\n",
              "      <td>0</td>\n",
              "    </tr>\n",
              "    <tr>\n",
              "      <th>89</th>\n",
              "      <td>14.0</td>\n",
              "      <td>0</td>\n",
              "      <td>0.513505</td>\n",
              "      <td>0.416667</td>\n",
              "      <td>0</td>\n",
              "      <td>0</td>\n",
              "      <td>0</td>\n",
              "      <td>1</td>\n",
              "      <td>0</td>\n",
              "      <td>88.0</td>\n",
              "      <td>0</td>\n",
              "      <td>0.576159</td>\n",
              "      <td>0</td>\n",
              "    </tr>\n",
              "  </tbody>\n",
              "</table>\n",
              "</div>"
            ],
            "text/plain": [
              "    Patient  Weeks   Percent  ...  min_week  base_FVC  base_week\n",
              "85     10.0      6  0.484482  ...         6  0.609272          0\n",
              "86     11.0     15  0.694580  ...        15  0.511328          0\n",
              "87     12.0      6  0.599389  ...         6  0.229348          0\n",
              "88     13.0     17  0.645213  ...        17  0.704775          0\n",
              "89     14.0      0  0.513505  ...         0  0.576159          0\n",
              "\n",
              "[5 rows x 13 columns]"
            ]
          },
          "metadata": {
            "tags": []
          }
        },
        {
          "output_type": "execute_result",
          "data": {
            "text/plain": [
              "5"
            ]
          },
          "metadata": {
            "tags": []
          },
          "execution_count": 123
        }
      ]
    },
    {
      "cell_type": "code",
      "metadata": {
        "colab": {
          "base_uri": "https://localhost:8080/"
        },
        "id": "RwZxS5zFx1kO",
        "outputId": "cc4dd260-3790-42e9-b69f-d3a2b1161efb"
      },
      "source": [
        "random_images_test = np.expand_dims(random_images_test, axis=-1)\n",
        "predictions_final = model_combinado.predict([random_images_test, patientes_by_test])\n",
        "print(predictions_final)"
      ],
      "execution_count": null,
      "outputs": [
        {
          "output_type": "stream",
          "text": [
            "[[3400.3423]\n",
            " [3674.0413]\n",
            " [3503.3447]\n",
            " [3852.2488]\n",
            " [3451.549 ]]\n"
          ],
          "name": "stdout"
        }
      ]
    },
    {
      "cell_type": "code",
      "metadata": {
        "colab": {
          "base_uri": "https://localhost:8080/"
        },
        "id": "TF5g3PvzOSfs",
        "outputId": "a46b6fe8-053c-407e-b06a-809765d170c1"
      },
      "source": [
        "model_combinado.evaluate([random_images_test, patientes_by_test], results_by_test)"
      ],
      "execution_count": null,
      "outputs": [
        {
          "output_type": "stream",
          "text": [
            "1/1 [==============================] - 2s 2s/step - loss: 794.7052\n"
          ],
          "name": "stdout"
        },
        {
          "output_type": "execute_result",
          "data": {
            "text/plain": [
              "794.7052001953125"
            ]
          },
          "metadata": {
            "tags": []
          },
          "execution_count": 130
        }
      ]
    },
    {
      "cell_type": "code",
      "metadata": {
        "colab": {
          "base_uri": "https://localhost:8080/"
        },
        "id": "EWcr1toQOfy_",
        "outputId": "cd63fc3e-7a20-4aed-ebe7-7a532da32f1f"
      },
      "source": [
        "for i in list(range(0, 5)):\n",
        "  print(predictions_final[i], results_by_test[i], predictions_final[i] - results_by_test[i])"
      ],
      "execution_count": null,
      "outputs": [
        {
          "output_type": "stream",
          "text": [
            "[3400.3423] 3020 [380.3423]\n",
            "[3674.0413] 2739 [935.04126]\n",
            "[3503.3447] 1930 [1573.3447]\n",
            "[3852.2488] 3294 [558.2488]\n",
            "[3451.549] 2925 [526.5491]\n"
          ],
          "name": "stdout"
        }
      ]
    }
  ]
}