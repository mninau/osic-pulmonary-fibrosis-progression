{
 "cells": [
  {
   "cell_type": "markdown",
   "metadata": {
    "id": "lX6airGQXzik"
   },
   "source": [
    "# Listado inicial archivos"
   ]
  },
  {
   "cell_type": "code",
   "execution_count": 32,
   "metadata": {
    "colab": {
     "base_uri": "https://localhost:8080/",
     "height": 200
    },
    "executionInfo": {
     "elapsed": 821,
     "status": "error",
     "timestamp": 1607162940508,
     "user": {
      "displayName": "Marta Gaona Jiménez",
      "photoUrl": "https://lh3.googleusercontent.com/a-/AOh14GjICP3wEyF20HcvaavtWjmlRSQojLAH_RbY36-rfQ=s64",
      "userId": "07407409033937911966"
     },
     "user_tz": -60
    },
    "id": "H5Ya8ONXXzik",
    "outputId": "92b44015-78d3-4bad-b67d-db54c8e8c409"
   },
   "outputs": [
    {
     "data": {
      "text/plain": [
       "['.DS_Store',\n",
       " 'casos_hosp_uci_def_sexo_edad_provres.csv',\n",
       " 'casos_diag_ccaadecl.csv']"
      ]
     },
     "execution_count": 32,
     "metadata": {},
     "output_type": "execute_result"
    }
   ],
   "source": [
    "import os\n",
    "\n",
    "DATA_PATH = './src/csv'\n",
    "list(os.listdir(DATA_PATH))"
   ]
  },
  {
   "cell_type": "markdown",
   "metadata": {
    "id": "HlbM8g6qXzil"
   },
   "source": [
    "- casos_hosp_uci_def_sexo_edad_provres.csv \n",
    "- casos_diag_ccaadecl.csv \n",
    "\n",
    "## casos_uci"
   ]
  },
  {
   "cell_type": "markdown",
   "metadata": {
    "id": "DA9ahrDZXzil"
   },
   "source": [
    "1. Cargamos csv"
   ]
  },
  {
   "cell_type": "code",
   "execution_count": 36,
   "metadata": {},
   "outputs": [
    {
     "data": {
      "text/plain": [
       "'./src/csv/.DS_Store'"
      ]
     },
     "execution_count": 36,
     "metadata": {},
     "output_type": "execute_result"
    }
   ],
   "source": [
    "DATA_PATH + '/' + list(os.listdir(DATA_PATH))[0]"
   ]
  },
  {
   "cell_type": "code",
   "execution_count": 56,
   "metadata": {
    "id": "MtaDTLv0Xzil"
   },
   "outputs": [],
   "source": [
    "import pandas as pd\n",
    "\n",
    "df_train = pd.read_csv(DATA_PATH + '/casos_hosp_uci_def_sexo_edad_provres.csv')"
   ]
  },
  {
   "cell_type": "code",
   "execution_count": 57,
   "metadata": {
    "id": "DQFjgd-eXzil",
    "outputId": "9fafc362-748c-4a28-e00a-68c10bdd665a"
   },
   "outputs": [
    {
     "data": {
      "text/html": [
       "<div>\n",
       "<style scoped>\n",
       "    .dataframe tbody tr th:only-of-type {\n",
       "        vertical-align: middle;\n",
       "    }\n",
       "\n",
       "    .dataframe tbody tr th {\n",
       "        vertical-align: top;\n",
       "    }\n",
       "\n",
       "    .dataframe thead th {\n",
       "        text-align: right;\n",
       "    }\n",
       "</style>\n",
       "<table border=\"1\" class=\"dataframe\">\n",
       "  <thead>\n",
       "    <tr style=\"text-align: right;\">\n",
       "      <th></th>\n",
       "      <th>provincia_iso</th>\n",
       "      <th>sexo</th>\n",
       "      <th>grupo_edad</th>\n",
       "      <th>fecha</th>\n",
       "      <th>num_casos</th>\n",
       "      <th>num_hosp</th>\n",
       "      <th>num_uci</th>\n",
       "      <th>num_def</th>\n",
       "    </tr>\n",
       "  </thead>\n",
       "  <tbody>\n",
       "    <tr>\n",
       "      <th>0</th>\n",
       "      <td>A</td>\n",
       "      <td>H</td>\n",
       "      <td>0-9</td>\n",
       "      <td>2020-01-01</td>\n",
       "      <td>0</td>\n",
       "      <td>0</td>\n",
       "      <td>0</td>\n",
       "      <td>0</td>\n",
       "    </tr>\n",
       "    <tr>\n",
       "      <th>1</th>\n",
       "      <td>A</td>\n",
       "      <td>H</td>\n",
       "      <td>10-19</td>\n",
       "      <td>2020-01-01</td>\n",
       "      <td>0</td>\n",
       "      <td>0</td>\n",
       "      <td>0</td>\n",
       "      <td>0</td>\n",
       "    </tr>\n",
       "    <tr>\n",
       "      <th>2</th>\n",
       "      <td>A</td>\n",
       "      <td>H</td>\n",
       "      <td>20-29</td>\n",
       "      <td>2020-01-01</td>\n",
       "      <td>0</td>\n",
       "      <td>0</td>\n",
       "      <td>0</td>\n",
       "      <td>0</td>\n",
       "    </tr>\n",
       "    <tr>\n",
       "      <th>3</th>\n",
       "      <td>A</td>\n",
       "      <td>H</td>\n",
       "      <td>30-39</td>\n",
       "      <td>2020-01-01</td>\n",
       "      <td>0</td>\n",
       "      <td>0</td>\n",
       "      <td>0</td>\n",
       "      <td>0</td>\n",
       "    </tr>\n",
       "    <tr>\n",
       "      <th>4</th>\n",
       "      <td>A</td>\n",
       "      <td>H</td>\n",
       "      <td>40-49</td>\n",
       "      <td>2020-01-01</td>\n",
       "      <td>0</td>\n",
       "      <td>0</td>\n",
       "      <td>0</td>\n",
       "      <td>0</td>\n",
       "    </tr>\n",
       "  </tbody>\n",
       "</table>\n",
       "</div>"
      ],
      "text/plain": [
       "  provincia_iso sexo grupo_edad       fecha  num_casos  num_hosp  num_uci  \\\n",
       "0             A    H        0-9  2020-01-01          0         0        0   \n",
       "1             A    H      10-19  2020-01-01          0         0        0   \n",
       "2             A    H      20-29  2020-01-01          0         0        0   \n",
       "3             A    H      30-39  2020-01-01          0         0        0   \n",
       "4             A    H      40-49  2020-01-01          0         0        0   \n",
       "\n",
       "   num_def  \n",
       "0        0  \n",
       "1        0  \n",
       "2        0  \n",
       "3        0  \n",
       "4        0  "
      ]
     },
     "execution_count": 57,
     "metadata": {},
     "output_type": "execute_result"
    }
   ],
   "source": [
    "df_train.head()"
   ]
  },
  {
   "cell_type": "markdown",
   "metadata": {},
   "source": [
    "- provincia_iso\n",
    "- sexo\n",
    "- grupo_edad\n",
    "- fecha\n",
    "- num_casos\n",
    "- num_hosp\n",
    "- num_uci\n",
    "- num_def\n",
    "\n",
    "Comprobamos los valores disponibles por columna:"
   ]
  },
  {
   "cell_type": "code",
   "execution_count": 39,
   "metadata": {},
   "outputs": [
    {
     "name": "stdout",
     "output_type": "stream",
     "text": [
      "Valores únicos por columna:\n"
     ]
    },
    {
     "data": {
      "text/html": [
       "<div>\n",
       "<style scoped>\n",
       "    .dataframe tbody tr th:only-of-type {\n",
       "        vertical-align: middle;\n",
       "    }\n",
       "\n",
       "    .dataframe tbody tr th {\n",
       "        vertical-align: top;\n",
       "    }\n",
       "\n",
       "    .dataframe thead th {\n",
       "        text-align: right;\n",
       "    }\n",
       "</style>\n",
       "<table border=\"1\" class=\"dataframe\">\n",
       "  <thead>\n",
       "    <tr style=\"text-align: right;\">\n",
       "      <th></th>\n",
       "      <th>columns</th>\n",
       "      <th>unique_len</th>\n",
       "      <th>unique_values</th>\n",
       "    </tr>\n",
       "  </thead>\n",
       "  <tbody>\n",
       "    <tr>\n",
       "      <th>0</th>\n",
       "      <td>provincia_iso</td>\n",
       "      <td>53</td>\n",
       "      <td>[A, AB, AL, AV, B, BA, BI, BU, C, CA, CC, CE, ...</td>\n",
       "    </tr>\n",
       "    <tr>\n",
       "      <th>1</th>\n",
       "      <td>sexo</td>\n",
       "      <td>3</td>\n",
       "      <td>[H, M, NC]</td>\n",
       "    </tr>\n",
       "    <tr>\n",
       "      <th>2</th>\n",
       "      <td>grupo_edad</td>\n",
       "      <td>10</td>\n",
       "      <td>[0-9, 10-19, 20-29, 30-39, 40-49, 50-59, 60-69...</td>\n",
       "    </tr>\n",
       "    <tr>\n",
       "      <th>3</th>\n",
       "      <td>fecha</td>\n",
       "      <td>449</td>\n",
       "      <td>[2020-01-01, 2020-01-02, 2020-01-03, 2020-01-0...</td>\n",
       "    </tr>\n",
       "    <tr>\n",
       "      <th>4</th>\n",
       "      <td>num_casos</td>\n",
       "      <td>527</td>\n",
       "      <td>[0, 1, 2, 4, 3, 5, 7, 6, 8, 9, 14, 18, 17, 15,...</td>\n",
       "    </tr>\n",
       "    <tr>\n",
       "      <th>5</th>\n",
       "      <td>num_hosp</td>\n",
       "      <td>176</td>\n",
       "      <td>[0, 1, 2, 4, 13, 9, 6, 3, 15, 7, 5, 11, 8, 17,...</td>\n",
       "    </tr>\n",
       "    <tr>\n",
       "      <th>6</th>\n",
       "      <td>num_uci</td>\n",
       "      <td>32</td>\n",
       "      <td>[0, 1, 2, 3, 6, 4, 8, 12, 11, 5, 9, 15, 14, 7,...</td>\n",
       "    </tr>\n",
       "    <tr>\n",
       "      <th>7</th>\n",
       "      <td>num_def</td>\n",
       "      <td>79</td>\n",
       "      <td>[0, 1, 2, 5, 4, 13, 7, 10, 3, 15, 12, 6, 25, 1...</td>\n",
       "    </tr>\n",
       "  </tbody>\n",
       "</table>\n",
       "</div>"
      ],
      "text/plain": [
       "         columns  unique_len  \\\n",
       "0  provincia_iso          53   \n",
       "1           sexo           3   \n",
       "2     grupo_edad          10   \n",
       "3          fecha         449   \n",
       "4      num_casos         527   \n",
       "5       num_hosp         176   \n",
       "6        num_uci          32   \n",
       "7        num_def          79   \n",
       "\n",
       "                                       unique_values  \n",
       "0  [A, AB, AL, AV, B, BA, BI, BU, C, CA, CC, CE, ...  \n",
       "1                                         [H, M, NC]  \n",
       "2  [0-9, 10-19, 20-29, 30-39, 40-49, 50-59, 60-69...  \n",
       "3  [2020-01-01, 2020-01-02, 2020-01-03, 2020-01-0...  \n",
       "4  [0, 1, 2, 4, 3, 5, 7, 6, 8, 9, 14, 18, 17, 15,...  \n",
       "5  [0, 1, 2, 4, 13, 9, 6, 3, 15, 7, 5, 11, 8, 17,...  \n",
       "6  [0, 1, 2, 3, 6, 4, 8, 12, 11, 5, 9, 15, 14, 7,...  \n",
       "7  [0, 1, 2, 5, 4, 13, 7, 10, 3, 15, 12, 6, 25, 1...  "
      ]
     },
     "execution_count": 39,
     "metadata": {},
     "output_type": "execute_result"
    }
   ],
   "source": [
    "unique_values = {'columns': [], 'unique_len': [], 'unique_values': []}\n",
    "for key in df_train.keys():\n",
    "    unique_values['columns'].append(key)\n",
    "    items = df_train[key].unique()\n",
    "    unique_values['unique_values'].append(items)\n",
    "    unique_values['unique_len'].append(len(items))\n",
    "\n",
    "unique_df = pd.DataFrame(data=unique_values)\n",
    "print('Valores únicos por columna:')\n",
    "unique_df"
   ]
  },
  {
   "cell_type": "markdown",
   "metadata": {},
   "source": [
    "2. Comprobamos total de datos y datos únicos por paciente"
   ]
  },
  {
   "cell_type": "code",
   "execution_count": 40,
   "metadata": {
    "id": "Bl2rdqgYXzil",
    "outputId": "8486ae6d-833c-49e8-c31e-a1b81219721c"
   },
   "outputs": [
    {
     "name": "stdout",
     "output_type": "stream",
     "text": [
      "Len total datos entrenamiento 713910\n"
     ]
    }
   ],
   "source": [
    "print('Len total datos entrenamiento', len(df_train))"
   ]
  },
  {
   "cell_type": "markdown",
   "metadata": {},
   "source": [
    "3. Comprobamos datos no nulos"
   ]
  },
  {
   "cell_type": "code",
   "execution_count": 41,
   "metadata": {
    "id": "InugOoe1Xzim",
    "outputId": "f34bf57a-ddb9-48b4-97ce-cafa6d54d2a6"
   },
   "outputs": [
    {
     "data": {
      "text/plain": [
       "provincia_iso    13470\n",
       "sexo                 0\n",
       "grupo_edad           0\n",
       "fecha                0\n",
       "num_casos            0\n",
       "num_hosp             0\n",
       "num_uci              0\n",
       "num_def              0\n",
       "dtype: int64"
      ]
     },
     "execution_count": 41,
     "metadata": {},
     "output_type": "execute_result"
    }
   ],
   "source": [
    "df_train.isnull().sum()"
   ]
  },
  {
   "cell_type": "markdown",
   "metadata": {},
   "source": [
    "Existen provincias con valor a null, vamos a eliminarlas"
   ]
  },
  {
   "cell_type": "code",
   "execution_count": 62,
   "metadata": {},
   "outputs": [
    {
     "data": {
      "text/plain": [
       "array(['A', 'AB', 'AL', 'AV', 'B', 'BA', 'BI', 'BU', 'C', 'CA', 'CC',\n",
       "       'CE', 'CO', 'CR', 'CS', 'CU', 'GC', 'GI', 'GR', 'GU', 'H', 'HU',\n",
       "       'J', 'L', 'LE', 'LO', 'LU', 'M', 'MA', 'ML', 'MU', nan, 'NC', 'O',\n",
       "       'OR', 'P', 'PM', 'PO', 'S', 'SA', 'SE', 'SG', 'SO', 'SS', 'T',\n",
       "       'TE', 'TF', 'TO', 'V', 'VA', 'VI', 'Z', 'ZA'], dtype=object)"
      ]
     },
     "execution_count": 62,
     "metadata": {},
     "output_type": "execute_result"
    }
   ],
   "source": [
    "df_train['provincia_iso'].unique()"
   ]
  },
  {
   "cell_type": "code",
   "execution_count": 69,
   "metadata": {},
   "outputs": [],
   "source": [
    "validas = ['A', 'AB', 'AL', 'AV', 'B', 'BA', 'BI', 'BU', 'C', 'CA', 'CC',\n",
    "       'CE', 'CO', 'CR', 'CS', 'CU', 'GC', 'GI', 'GR', 'GU', 'H', 'HU',\n",
    "       'J', 'L', 'LE', 'LO', 'LU', 'M', 'MA', 'ML', 'MU', 'NC', 'O',\n",
    "       'OR', 'P', 'PM', 'PO', 'S', 'SA', 'SE', 'SG', 'SO', 'SS', 'T',\n",
    "       'TE', 'TF', 'TO', 'V', 'VA', 'VI', 'Z', 'ZA']\n",
    "mask_nan = df_train['provincia_iso'].isin(validas)\n",
    "casos_hosp = df_train[mask_nan]"
   ]
  },
  {
   "cell_type": "code",
   "execution_count": 66,
   "metadata": {},
   "outputs": [
    {
     "name": "stdout",
     "output_type": "stream",
     "text": [
      "Len total datos entrenamiento 700440\n"
     ]
    }
   ],
   "source": [
    "print('Len total datos entrenamiento', len(casos_hosp))"
   ]
  },
  {
   "cell_type": "code",
   "execution_count": 116,
   "metadata": {},
   "outputs": [
    {
     "name": "stdout",
     "output_type": "stream",
     "text": [
      "Descripción datos por fecha\n"
     ]
    },
    {
     "data": {
      "text/html": [
       "<div>\n",
       "<style scoped>\n",
       "    .dataframe tbody tr th:only-of-type {\n",
       "        vertical-align: middle;\n",
       "    }\n",
       "\n",
       "    .dataframe tbody tr th {\n",
       "        vertical-align: top;\n",
       "    }\n",
       "\n",
       "    .dataframe thead th {\n",
       "        text-align: right;\n",
       "    }\n",
       "</style>\n",
       "<table border=\"1\" class=\"dataframe\">\n",
       "  <thead>\n",
       "    <tr style=\"text-align: right;\">\n",
       "      <th></th>\n",
       "      <th>fecha</th>\n",
       "      <th>num_tipo</th>\n",
       "      <th>total</th>\n",
       "    </tr>\n",
       "  </thead>\n",
       "  <tbody>\n",
       "    <tr>\n",
       "      <th>0</th>\n",
       "      <td>2020-01-01</td>\n",
       "      <td>num_casos</td>\n",
       "      <td>0</td>\n",
       "    </tr>\n",
       "    <tr>\n",
       "      <th>1</th>\n",
       "      <td>2020-01-01</td>\n",
       "      <td>num_hosp</td>\n",
       "      <td>9</td>\n",
       "    </tr>\n",
       "    <tr>\n",
       "      <th>2</th>\n",
       "      <td>2020-01-01</td>\n",
       "      <td>num_uci</td>\n",
       "      <td>0</td>\n",
       "    </tr>\n",
       "    <tr>\n",
       "      <th>3</th>\n",
       "      <td>2020-01-01</td>\n",
       "      <td>num_def</td>\n",
       "      <td>0</td>\n",
       "    </tr>\n",
       "    <tr>\n",
       "      <th>4</th>\n",
       "      <td>2020-01-02</td>\n",
       "      <td>num_casos</td>\n",
       "      <td>0</td>\n",
       "    </tr>\n",
       "    <tr>\n",
       "      <th>...</th>\n",
       "      <td>...</td>\n",
       "      <td>...</td>\n",
       "      <td>...</td>\n",
       "    </tr>\n",
       "    <tr>\n",
       "      <th>1791</th>\n",
       "      <td>2021-03-23</td>\n",
       "      <td>num_def</td>\n",
       "      <td>12</td>\n",
       "    </tr>\n",
       "    <tr>\n",
       "      <th>1792</th>\n",
       "      <td>2021-03-24</td>\n",
       "      <td>num_casos</td>\n",
       "      <td>3</td>\n",
       "    </tr>\n",
       "    <tr>\n",
       "      <th>1793</th>\n",
       "      <td>2021-03-24</td>\n",
       "      <td>num_hosp</td>\n",
       "      <td>1</td>\n",
       "    </tr>\n",
       "    <tr>\n",
       "      <th>1794</th>\n",
       "      <td>2021-03-24</td>\n",
       "      <td>num_uci</td>\n",
       "      <td>0</td>\n",
       "    </tr>\n",
       "    <tr>\n",
       "      <th>1795</th>\n",
       "      <td>2021-03-24</td>\n",
       "      <td>num_def</td>\n",
       "      <td>0</td>\n",
       "    </tr>\n",
       "  </tbody>\n",
       "</table>\n",
       "<p>1796 rows × 3 columns</p>\n",
       "</div>"
      ],
      "text/plain": [
       "           fecha   num_tipo  total\n",
       "0     2020-01-01  num_casos      0\n",
       "1     2020-01-01   num_hosp      9\n",
       "2     2020-01-01    num_uci      0\n",
       "3     2020-01-01    num_def      0\n",
       "4     2020-01-02  num_casos      0\n",
       "...          ...        ...    ...\n",
       "1791  2021-03-23    num_def     12\n",
       "1792  2021-03-24  num_casos      3\n",
       "1793  2021-03-24   num_hosp      1\n",
       "1794  2021-03-24    num_uci      0\n",
       "1795  2021-03-24    num_def      0\n",
       "\n",
       "[1796 rows x 3 columns]"
      ]
     },
     "execution_count": 116,
     "metadata": {},
     "output_type": "execute_result"
    }
   ],
   "source": [
    "print('Descripción datos por fecha')\n",
    "df_fecha = casos_hosp.groupby('fecha').sum()\n",
    "df_fecha.index[0]\n",
    "df_fecha_graph = []\n",
    "index = 0\n",
    "columns = df_fecha.columns\n",
    "for date in df_fecha.index:\n",
    "    for col in columns:    \n",
    "        row_by_date = []\n",
    "        row_by_date.append(date)\n",
    "        row_by_date.append(col)\n",
    "        row_by_date.append(df_fecha[col][index])\n",
    "        df_fecha_graph.append(row_by_date)\n",
    "    index += 1\n",
    "\n",
    "df_fecha_graph = pd.DataFrame(df_fecha_graph, columns=['fecha', 'num_tipo', 'total'])\n",
    "df_fecha_graph"
   ]
  },
  {
   "cell_type": "code",
   "execution_count": 117,
   "metadata": {},
   "outputs": [
    {
     "data": {
      "image/png": "[encoded data removed]",
      "text/plain": [
       "<Figure size 1080x595.44 with 1 Axes>"
      ]
     },
     "metadata": {},
     "output_type": "display_data"
    }
   ],
   "source": [
    "import pandas as pd\n",
    "import matplotlib\n",
    "import matplotlib.pyplot as plt\n",
    "from matplotlib import dates\n",
    "\n",
    "df_fecha_graph.fecha = pd.to_datetime(df_fecha_graph.fecha)\n",
    "sns.set(rc={'figure.figsize':(15,8.27), 'axes.facecolor': 'white', 'axes.edgecolor': 'black'})\n",
    "ax = sns.lineplot(x=\"fecha\", y=\"total\", hue=\"num_tipo\", data=df_fecha_graph, palette=[\"#ea5611\", \"#595959\", \"#e89d11\", \"#000000\"])\n",
    "xdates = pd.to_datetime(['2020-01-01', '2020-02-01', '2020-03-01', '2020-04-01', '2020-05-01', '2020-06-01'\n",
    "                        , '2020-07-01', '2020-08-01', '2020-09-01', '2020-10-01', '2020-11-01', '2020-12-01'\n",
    "                        , '2021-01-01', '2021-02-01', '2021-03-01'])\n",
    "ax.set(xticks=xdates)\n",
    "ax.set_xticklabels(xdates, rotation=30)\n",
    "ax.xaxis.set_major_formatter(dates.DateFormatter(\"%d/%m/%Y\"))\n",
    "plt.show()"
   ]
  },
  {
   "cell_type": "code",
   "execution_count": 113,
   "metadata": {},
   "outputs": [
    {
     "data": {
      "image/png": "[encoded data removed]",
      "text/plain": [
       "<Figure size 1080x595.44 with 1 Axes>"
      ]
     },
     "metadata": {},
     "output_type": "display_data"
    }
   ],
   "source": [
    "mask_nan = df_fecha_graph['num_tipo'] != 'num_casos'\n",
    "df_fecha_graph_2 = df_fecha_graph[mask_nan]\n",
    "\n",
    "import pandas as pd\n",
    "import matplotlib\n",
    "import matplotlib.pyplot as plt\n",
    "from matplotlib import dates\n",
    "\n",
    "df_fecha_graph.fecha = pd.to_datetime(df_fecha_graph_2.fecha)\n",
    "sns.set(rc={'figure.figsize':(15,8.27), 'axes.facecolor': 'white', 'axes.edgecolor': 'black'})\n",
    "ax = sns.lineplot(x=\"fecha\", y=\"total\", hue=\"num_tipo\", data=df_fecha_graph_2, palette=[\"#ea5611\", \"#595959\", \"#e89d11\"])\n",
    "xdates = pd.to_datetime(['2020-01-01', '2020-02-01', '2020-03-01', '2020-04-01', '2020-05-01', '2020-06-01'\n",
    "                        , '2020-07-01', '2020-08-01', '2020-09-01', '2020-10-01', '2020-11-01', '2020-12-01'\n",
    "                        , '2021-01-01', '2021-02-01', '2021-03-01'])\n",
    "ax.set(xticks=xdates)\n",
    "ax.set_xticklabels(xdates, rotation=30)\n",
    "ax.xaxis.set_major_formatter(dates.DateFormatter(\"%d/%m/%Y\"))\n",
    "plt.show()\n"
   ]
  },
  {
   "cell_type": "markdown",
   "metadata": {},
   "source": [
    "## Factores riesgo train csv: Edad, Sexo, Estado de fumador\n",
    "\n",
    "### edad"
   ]
  },
  {
   "cell_type": "code",
   "execution_count": 103,
   "metadata": {},
   "outputs": [
    {
     "data": {
      "text/html": [
       "<div>\n",
       "<style scoped>\n",
       "    .dataframe tbody tr th:only-of-type {\n",
       "        vertical-align: middle;\n",
       "    }\n",
       "\n",
       "    .dataframe tbody tr th {\n",
       "        vertical-align: top;\n",
       "    }\n",
       "\n",
       "    .dataframe thead th {\n",
       "        text-align: right;\n",
       "    }\n",
       "</style>\n",
       "<table border=\"1\" class=\"dataframe\">\n",
       "  <thead>\n",
       "    <tr style=\"text-align: right;\">\n",
       "      <th></th>\n",
       "      <th>num_casos</th>\n",
       "      <th>num_hosp</th>\n",
       "      <th>num_uci</th>\n",
       "      <th>num_def</th>\n",
       "      <th>num_graves</th>\n",
       "    </tr>\n",
       "    <tr>\n",
       "      <th>grupo_edad</th>\n",
       "      <th></th>\n",
       "      <th></th>\n",
       "      <th></th>\n",
       "      <th></th>\n",
       "      <th></th>\n",
       "    </tr>\n",
       "  </thead>\n",
       "  <tbody>\n",
       "    <tr>\n",
       "      <th>0-9</th>\n",
       "      <td>216278</td>\n",
       "      <td>1981</td>\n",
       "      <td>123</td>\n",
       "      <td>9</td>\n",
       "      <td>2113</td>\n",
       "    </tr>\n",
       "    <tr>\n",
       "      <th>10-19</th>\n",
       "      <td>341353</td>\n",
       "      <td>2294</td>\n",
       "      <td>157</td>\n",
       "      <td>17</td>\n",
       "      <td>2468</td>\n",
       "    </tr>\n",
       "    <tr>\n",
       "      <th>20-29</th>\n",
       "      <td>410241</td>\n",
       "      <td>7768</td>\n",
       "      <td>362</td>\n",
       "      <td>85</td>\n",
       "      <td>8215</td>\n",
       "    </tr>\n",
       "    <tr>\n",
       "      <th>30-39</th>\n",
       "      <td>436319</td>\n",
       "      <td>15807</td>\n",
       "      <td>1008</td>\n",
       "      <td>194</td>\n",
       "      <td>17009</td>\n",
       "    </tr>\n",
       "    <tr>\n",
       "      <th>40-49</th>\n",
       "      <td>534276</td>\n",
       "      <td>31262</td>\n",
       "      <td>2668</td>\n",
       "      <td>730</td>\n",
       "      <td>34660</td>\n",
       "    </tr>\n",
       "    <tr>\n",
       "      <th>50-59</th>\n",
       "      <td>476978</td>\n",
       "      <td>48119</td>\n",
       "      <td>5801</td>\n",
       "      <td>2556</td>\n",
       "      <td>56476</td>\n",
       "    </tr>\n",
       "    <tr>\n",
       "      <th>60-69</th>\n",
       "      <td>310403</td>\n",
       "      <td>57326</td>\n",
       "      <td>9092</td>\n",
       "      <td>6763</td>\n",
       "      <td>73181</td>\n",
       "    </tr>\n",
       "    <tr>\n",
       "      <th>70-79</th>\n",
       "      <td>208302</td>\n",
       "      <td>64291</td>\n",
       "      <td>7903</td>\n",
       "      <td>15675</td>\n",
       "      <td>87869</td>\n",
       "    </tr>\n",
       "    <tr>\n",
       "      <th>80+</th>\n",
       "      <td>237461</td>\n",
       "      <td>91229</td>\n",
       "      <td>1572</td>\n",
       "      <td>46535</td>\n",
       "      <td>139336</td>\n",
       "    </tr>\n",
       "    <tr>\n",
       "      <th>NC</th>\n",
       "      <td>16606</td>\n",
       "      <td>1972</td>\n",
       "      <td>199</td>\n",
       "      <td>384</td>\n",
       "      <td>2555</td>\n",
       "    </tr>\n",
       "  </tbody>\n",
       "</table>\n",
       "</div>"
      ],
      "text/plain": [
       "            num_casos  num_hosp  num_uci  num_def  num_graves\n",
       "grupo_edad                                                   \n",
       "0-9            216278      1981      123        9        2113\n",
       "10-19          341353      2294      157       17        2468\n",
       "20-29          410241      7768      362       85        8215\n",
       "30-39          436319     15807     1008      194       17009\n",
       "40-49          534276     31262     2668      730       34660\n",
       "50-59          476978     48119     5801     2556       56476\n",
       "60-69          310403     57326     9092     6763       73181\n",
       "70-79          208302     64291     7903    15675       87869\n",
       "80+            237461     91229     1572    46535      139336\n",
       "NC              16606      1972      199      384        2555"
      ]
     },
     "execution_count": 103,
     "metadata": {},
     "output_type": "execute_result"
    }
   ],
   "source": [
    "casos_hosp_por_edad = casos_hosp.groupby('grupo_edad').sum()\n",
    "casos_hosp_por_edad['num_graves'] = casos_hosp_por_edad['num_hosp'] + casos_hosp_por_edad['num_uci'] + casos_hosp_por_edad['num_def']\n",
    "casos_hosp_por_edad"
   ]
  },
  {
   "cell_type": "code",
   "execution_count": 121,
   "metadata": {},
   "outputs": [],
   "source": [
    "casos_hosp_por_edad = casos_hosp_por_edad.drop(\"NC\")"
   ]
  },
  {
   "cell_type": "markdown",
   "metadata": {},
   "source": [
    "Limpiamos los desconocidos"
   ]
  },
  {
   "cell_type": "code",
   "execution_count": 122,
   "metadata": {
    "id": "aG9aEvuzXzim",
    "outputId": "6c525c43-f94d-481b-ac8d-1c70f9d4d2a3"
   },
   "outputs": [
    {
     "data": {
      "text/plain": [
       "<AxesSubplot:xlabel='grupo_edad', ylabel='num_graves'>"
      ]
     },
     "execution_count": 122,
     "metadata": {},
     "output_type": "execute_result"
    },
    {
     "data": {
      "image/png": "[encoded data removed]",
      "text/plain": [
       "<Figure size 1080x595.44 with 1 Axes>"
      ]
     },
     "metadata": {},
     "output_type": "display_data"
    }
   ],
   "source": [
    "sns.set(rc={'axes.facecolor': 'white', 'axes.edgecolor': 'black'})\n",
    "sns.barplot(x=casos_hosp_por_edad.index, y=casos_hosp_por_edad['num_graves'], palette=[\"#ea5611\",\"#ea5611\",\"#ea5611\",\"#ea5611\",\"#ea5611\",\"#ea5611\",\"#ea5611\",\"#ea5611\",\"#ea5611\"])"
   ]
  },
  {
   "cell_type": "code",
   "execution_count": 161,
   "metadata": {},
   "outputs": [
    {
     "name": "stdout",
     "output_type": "stream",
     "text": [
      "421327\n",
      "mas de 80 33.07075027235378\n",
      "mas de 70 20.855297666657965\n"
     ]
    }
   ],
   "source": [
    "total = casos_hosp_por_edad['num_graves'].sum()\n",
    "print(total)\n",
    "print('mas de 80', 139336 / total * 100)\n",
    "print('mas de 70', 87869 / total * 100)"
   ]
  },
  {
   "cell_type": "markdown",
   "metadata": {},
   "source": [
    "### sexo\n",
    "\n",
    "nos quedamos únicamente con los casos graves"
   ]
  },
  {
   "cell_type": "code",
   "execution_count": 132,
   "metadata": {},
   "outputs": [
    {
     "data": {
      "text/html": [
       "<div>\n",
       "<style scoped>\n",
       "    .dataframe tbody tr th:only-of-type {\n",
       "        vertical-align: middle;\n",
       "    }\n",
       "\n",
       "    .dataframe tbody tr th {\n",
       "        vertical-align: top;\n",
       "    }\n",
       "\n",
       "    .dataframe thead th {\n",
       "        text-align: right;\n",
       "    }\n",
       "</style>\n",
       "<table border=\"1\" class=\"dataframe\">\n",
       "  <thead>\n",
       "    <tr style=\"text-align: right;\">\n",
       "      <th></th>\n",
       "      <th>provincia_iso</th>\n",
       "      <th>sexo</th>\n",
       "      <th>grupo_edad</th>\n",
       "      <th>fecha</th>\n",
       "      <th>num_casos</th>\n",
       "      <th>num_hosp</th>\n",
       "      <th>num_uci</th>\n",
       "      <th>num_def</th>\n",
       "      <th>num_graves</th>\n",
       "    </tr>\n",
       "  </thead>\n",
       "  <tbody>\n",
       "    <tr>\n",
       "      <th>18</th>\n",
       "      <td>A</td>\n",
       "      <td>M</td>\n",
       "      <td>80+</td>\n",
       "      <td>2020-01-01</td>\n",
       "      <td>0</td>\n",
       "      <td>1</td>\n",
       "      <td>0</td>\n",
       "      <td>0</td>\n",
       "      <td>1</td>\n",
       "    </tr>\n",
       "    <tr>\n",
       "      <th>366</th>\n",
       "      <td>CO</td>\n",
       "      <td>H</td>\n",
       "      <td>60-69</td>\n",
       "      <td>2020-01-01</td>\n",
       "      <td>0</td>\n",
       "      <td>1</td>\n",
       "      <td>0</td>\n",
       "      <td>0</td>\n",
       "      <td>1</td>\n",
       "    </tr>\n",
       "    <tr>\n",
       "      <th>428</th>\n",
       "      <td>CS</td>\n",
       "      <td>H</td>\n",
       "      <td>80+</td>\n",
       "      <td>2020-01-01</td>\n",
       "      <td>0</td>\n",
       "      <td>1</td>\n",
       "      <td>0</td>\n",
       "      <td>0</td>\n",
       "      <td>1</td>\n",
       "    </tr>\n",
       "    <tr>\n",
       "      <th>517</th>\n",
       "      <td>GI</td>\n",
       "      <td>H</td>\n",
       "      <td>70-79</td>\n",
       "      <td>2020-01-01</td>\n",
       "      <td>0</td>\n",
       "      <td>1</td>\n",
       "      <td>0</td>\n",
       "      <td>0</td>\n",
       "      <td>1</td>\n",
       "    </tr>\n",
       "    <tr>\n",
       "      <th>675</th>\n",
       "      <td>J</td>\n",
       "      <td>M</td>\n",
       "      <td>50-59</td>\n",
       "      <td>2020-01-01</td>\n",
       "      <td>0</td>\n",
       "      <td>1</td>\n",
       "      <td>0</td>\n",
       "      <td>0</td>\n",
       "      <td>1</td>\n",
       "    </tr>\n",
       "    <tr>\n",
       "      <th>...</th>\n",
       "      <td>...</td>\n",
       "      <td>...</td>\n",
       "      <td>...</td>\n",
       "      <td>...</td>\n",
       "      <td>...</td>\n",
       "      <td>...</td>\n",
       "      <td>...</td>\n",
       "      <td>...</td>\n",
       "      <td>...</td>\n",
       "    </tr>\n",
       "    <tr>\n",
       "      <th>712275</th>\n",
       "      <td>Z</td>\n",
       "      <td>M</td>\n",
       "      <td>50-59</td>\n",
       "      <td>2021-03-23</td>\n",
       "      <td>9</td>\n",
       "      <td>1</td>\n",
       "      <td>0</td>\n",
       "      <td>0</td>\n",
       "      <td>1</td>\n",
       "    </tr>\n",
       "    <tr>\n",
       "      <th>712276</th>\n",
       "      <td>Z</td>\n",
       "      <td>M</td>\n",
       "      <td>60-69</td>\n",
       "      <td>2021-03-23</td>\n",
       "      <td>4</td>\n",
       "      <td>1</td>\n",
       "      <td>0</td>\n",
       "      <td>0</td>\n",
       "      <td>1</td>\n",
       "    </tr>\n",
       "    <tr>\n",
       "      <th>712277</th>\n",
       "      <td>Z</td>\n",
       "      <td>M</td>\n",
       "      <td>70-79</td>\n",
       "      <td>2021-03-23</td>\n",
       "      <td>6</td>\n",
       "      <td>2</td>\n",
       "      <td>0</td>\n",
       "      <td>0</td>\n",
       "      <td>2</td>\n",
       "    </tr>\n",
       "    <tr>\n",
       "      <th>712279</th>\n",
       "      <td>Z</td>\n",
       "      <td>M</td>\n",
       "      <td>NC</td>\n",
       "      <td>2021-03-23</td>\n",
       "      <td>15</td>\n",
       "      <td>1</td>\n",
       "      <td>0</td>\n",
       "      <td>0</td>\n",
       "      <td>1</td>\n",
       "    </tr>\n",
       "    <tr>\n",
       "      <th>712635</th>\n",
       "      <td>CC</td>\n",
       "      <td>M</td>\n",
       "      <td>50-59</td>\n",
       "      <td>2021-03-24</td>\n",
       "      <td>0</td>\n",
       "      <td>1</td>\n",
       "      <td>0</td>\n",
       "      <td>0</td>\n",
       "      <td>1</td>\n",
       "    </tr>\n",
       "  </tbody>\n",
       "</table>\n",
       "<p>102909 rows × 9 columns</p>\n",
       "</div>"
      ],
      "text/plain": [
       "       provincia_iso sexo grupo_edad       fecha  num_casos  num_hosp  \\\n",
       "18                 A    M        80+  2020-01-01          0         1   \n",
       "366               CO    H      60-69  2020-01-01          0         1   \n",
       "428               CS    H        80+  2020-01-01          0         1   \n",
       "517               GI    H      70-79  2020-01-01          0         1   \n",
       "675                J    M      50-59  2020-01-01          0         1   \n",
       "...              ...  ...        ...         ...        ...       ...   \n",
       "712275             Z    M      50-59  2021-03-23          9         1   \n",
       "712276             Z    M      60-69  2021-03-23          4         1   \n",
       "712277             Z    M      70-79  2021-03-23          6         2   \n",
       "712279             Z    M         NC  2021-03-23         15         1   \n",
       "712635            CC    M      50-59  2021-03-24          0         1   \n",
       "\n",
       "        num_uci  num_def  num_graves  \n",
       "18            0        0           1  \n",
       "366           0        0           1  \n",
       "428           0        0           1  \n",
       "517           0        0           1  \n",
       "675           0        0           1  \n",
       "...         ...      ...         ...  \n",
       "712275        0        0           1  \n",
       "712276        0        0           1  \n",
       "712277        0        0           2  \n",
       "712279        0        0           1  \n",
       "712635        0        0           1  \n",
       "\n",
       "[102909 rows x 9 columns]"
      ]
     },
     "execution_count": 132,
     "metadata": {},
     "output_type": "execute_result"
    }
   ],
   "source": [
    "casos_hosp_sex = casos_hosp\n",
    "casos_hosp_sex['num_graves'] = casos_hosp_sex['num_hosp'] + casos_hosp_sex['num_uci'] + casos_hosp_sex['num_def']\n",
    "is_gt0 = casos_hosp_sex['num_graves'] > 0\n",
    "casos_hosp_sex = casos_hosp_sex[is_gt0]\n",
    "casos_hosp_sex"
   ]
  },
  {
   "cell_type": "code",
   "execution_count": 133,
   "metadata": {},
   "outputs": [
    {
     "data": {
      "text/plain": [
       "[234879, 185113]"
      ]
     },
     "execution_count": 133,
     "metadata": {},
     "output_type": "execute_result"
    }
   ],
   "source": [
    "is_H = casos_hosp_sex['sexo'] == 'H'\n",
    "casos_hosp_sex_H = casos_hosp_sex[is_H]\n",
    "\n",
    "is_M = casos_hosp_sex['sexo'] == 'M'\n",
    "casos_hosp_sex_M = casos_hosp_sex[is_M]\n",
    "\n",
    "por_sexo = [casos_hosp_sex_H.sum()['num_graves'], casos_hosp_sex_M.sum()['num_graves']]\n",
    "por_sexo\n"
   ]
  },
  {
   "cell_type": "code",
   "execution_count": 162,
   "metadata": {},
   "outputs": [
    {
     "data": {
      "text/plain": [
       "array([59.15002024, 40.84997976])"
      ]
     },
     "execution_count": 162,
     "metadata": {},
     "output_type": "execute_result"
    }
   ],
   "source": [
    "por_sexo / (por_sexo[0] + por_sexo[1]) * 100"
   ]
  },
  {
   "cell_type": "code",
   "execution_count": 134,
   "metadata": {},
   "outputs": [
    {
     "data": {
      "text/plain": [
       "<AxesSubplot:>"
      ]
     },
     "execution_count": 134,
     "metadata": {},
     "output_type": "execute_result"
    },
    {
     "data": {
      "image/png": "[encoded data removed]",
      "text/plain": [
       "<Figure size 1080x595.44 with 1 Axes>"
      ]
     },
     "metadata": {},
     "output_type": "display_data"
    }
   ],
   "source": [
    "\n",
    "sns.barplot(y=por_sexo, x=['H', 'M'])"
   ]
  },
  {
   "cell_type": "code",
   "execution_count": 135,
   "metadata": {},
   "outputs": [
    {
     "data": {
      "text/plain": [
       "[59903, 41370]"
      ]
     },
     "execution_count": 135,
     "metadata": {},
     "output_type": "execute_result"
    }
   ],
   "source": [
    "casos_hosp_sex = casos_hosp\n",
    "casos_hosp_sex['num_graves'] = casos_hosp_sex['num_uci'] + casos_hosp_sex['num_def']\n",
    "is_gt0 = casos_hosp_sex['num_graves'] > 0\n",
    "casos_hosp_sex = casos_hosp_sex[is_gt0]\n",
    "\n",
    "is_H = casos_hosp_sex['sexo'] == 'H'\n",
    "casos_hosp_sex_H = casos_hosp_sex[is_H]\n",
    "\n",
    "is_M = casos_hosp_sex['sexo'] == 'M'\n",
    "casos_hosp_sex_M = casos_hosp_sex[is_M]\n",
    "\n",
    "por_sexo = [casos_hosp_sex_H.sum()['num_graves'], casos_hosp_sex_M.sum()['num_graves']]\n",
    "por_sexo"
   ]
  },
  {
   "cell_type": "code",
   "execution_count": 163,
   "metadata": {},
   "outputs": [
    {
     "data": {
      "text/plain": [
       "array([59.15002024, 40.84997976])"
      ]
     },
     "execution_count": 163,
     "metadata": {},
     "output_type": "execute_result"
    }
   ],
   "source": [
    "por_sexo / (por_sexo[0] + por_sexo[1]) * 100"
   ]
  },
  {
   "cell_type": "code",
   "execution_count": 136,
   "metadata": {},
   "outputs": [
    {
     "data": {
      "text/plain": [
       "<AxesSubplot:>"
      ]
     },
     "execution_count": 136,
     "metadata": {},
     "output_type": "execute_result"
    },
    {
     "data": {
      "image/png": "[encoded data removed]",
      "text/plain": [
       "<Figure size 1080x595.44 with 1 Axes>"
      ]
     },
     "metadata": {},
     "output_type": "display_data"
    }
   ],
   "source": [
    "sns.barplot(y=por_sexo, x=['H', 'M'])"
   ]
  },
  {
   "cell_type": "markdown",
   "metadata": {},
   "source": [
    "### edad vs sexo"
   ]
  },
  {
   "cell_type": "code",
   "execution_count": 144,
   "metadata": {},
   "outputs": [
    {
     "data": {
      "text/plain": [
       "<seaborn.axisgrid.FacetGrid at 0x7feef2aa2dd0>"
      ]
     },
     "execution_count": 144,
     "metadata": {},
     "output_type": "execute_result"
    },
    {
     "data": {
      "image/png": "[encoded data removed]",
      "text/plain": [
       "<Figure size 480.85x432 with 1 Axes>"
      ]
     },
     "metadata": {},
     "output_type": "display_data"
    }
   ],
   "source": [
    "casos_hosp_sex = casos_hosp_sex.sort_values(by='grupo_edad')\n",
    "nc = casos_hosp_sex['grupo_edad'] != 'NC'\n",
    "casos_hosp_sex = casos_hosp_sex[nc]\n",
    "nc = casos_hosp_sex['sexo'] != 'NC'\n",
    "casos_hosp_sex = casos_hosp_sex[nc]\n",
    "\n",
    "sns.catplot(\n",
    "    data=casos_hosp_sex, kind=\"bar\",\n",
    "    x=\"grupo_edad\", y=\"num_graves\", hue=\"sexo\",\n",
    "    alpha=.6, height=6\n",
    ")"
   ]
  },
  {
   "cell_type": "markdown",
   "metadata": {},
   "source": [
    "## por provincias"
   ]
  },
  {
   "cell_type": "code",
   "execution_count": 154,
   "metadata": {},
   "outputs": [
    {
     "data": {
      "text/html": [
       "<div>\n",
       "<style scoped>\n",
       "    .dataframe tbody tr th:only-of-type {\n",
       "        vertical-align: middle;\n",
       "    }\n",
       "\n",
       "    .dataframe tbody tr th {\n",
       "        vertical-align: top;\n",
       "    }\n",
       "\n",
       "    .dataframe thead th {\n",
       "        text-align: right;\n",
       "    }\n",
       "</style>\n",
       "<table border=\"1\" class=\"dataframe\">\n",
       "  <thead>\n",
       "    <tr style=\"text-align: right;\">\n",
       "      <th></th>\n",
       "      <th>num_casos</th>\n",
       "      <th>num_hosp</th>\n",
       "      <th>num_uci</th>\n",
       "      <th>num_def</th>\n",
       "      <th>num_graves</th>\n",
       "    </tr>\n",
       "    <tr>\n",
       "      <th>provincia_iso</th>\n",
       "      <th></th>\n",
       "      <th></th>\n",
       "      <th></th>\n",
       "      <th></th>\n",
       "      <th></th>\n",
       "    </tr>\n",
       "  </thead>\n",
       "  <tbody>\n",
       "    <tr>\n",
       "      <th>M</th>\n",
       "      <td>615002</td>\n",
       "      <td>91053</td>\n",
       "      <td>6655</td>\n",
       "      <td>14527</td>\n",
       "      <td>21182</td>\n",
       "    </tr>\n",
       "    <tr>\n",
       "      <th>B</th>\n",
       "      <td>388899</td>\n",
       "      <td>31922</td>\n",
       "      <td>2533</td>\n",
       "      <td>9409</td>\n",
       "      <td>11942</td>\n",
       "    </tr>\n",
       "    <tr>\n",
       "      <th>V</th>\n",
       "      <td>200054</td>\n",
       "      <td>17373</td>\n",
       "      <td>1492</td>\n",
       "      <td>3615</td>\n",
       "      <td>5107</td>\n",
       "    </tr>\n",
       "    <tr>\n",
       "      <th>A</th>\n",
       "      <td>143871</td>\n",
       "      <td>11773</td>\n",
       "      <td>1149</td>\n",
       "      <td>2643</td>\n",
       "      <td>3792</td>\n",
       "    </tr>\n",
       "    <tr>\n",
       "      <th>Z</th>\n",
       "      <td>78972</td>\n",
       "      <td>9440</td>\n",
       "      <td>873</td>\n",
       "      <td>2482</td>\n",
       "      <td>3355</td>\n",
       "    </tr>\n",
       "    <tr>\n",
       "      <th>BI</th>\n",
       "      <td>81990</td>\n",
       "      <td>8758</td>\n",
       "      <td>727</td>\n",
       "      <td>2179</td>\n",
       "      <td>2906</td>\n",
       "    </tr>\n",
       "    <tr>\n",
       "      <th>MU</th>\n",
       "      <td>108108</td>\n",
       "      <td>8722</td>\n",
       "      <td>1127</td>\n",
       "      <td>1550</td>\n",
       "      <td>2677</td>\n",
       "    </tr>\n",
       "    <tr>\n",
       "      <th>SE</th>\n",
       "      <td>103550</td>\n",
       "      <td>8508</td>\n",
       "      <td>791</td>\n",
       "      <td>1785</td>\n",
       "      <td>2576</td>\n",
       "    </tr>\n",
       "    <tr>\n",
       "      <th>TO</th>\n",
       "      <td>64322</td>\n",
       "      <td>5567</td>\n",
       "      <td>416</td>\n",
       "      <td>2064</td>\n",
       "      <td>2480</td>\n",
       "    </tr>\n",
       "    <tr>\n",
       "      <th>O</th>\n",
       "      <td>46391</td>\n",
       "      <td>7768</td>\n",
       "      <td>584</td>\n",
       "      <td>1875</td>\n",
       "      <td>2459</td>\n",
       "    </tr>\n",
       "    <tr>\n",
       "      <th>GR</th>\n",
       "      <td>71272</td>\n",
       "      <td>6365</td>\n",
       "      <td>712</td>\n",
       "      <td>1542</td>\n",
       "      <td>2254</td>\n",
       "    </tr>\n",
       "    <tr>\n",
       "      <th>MA</th>\n",
       "      <td>87657</td>\n",
       "      <td>7256</td>\n",
       "      <td>638</td>\n",
       "      <td>1516</td>\n",
       "      <td>2154</td>\n",
       "    </tr>\n",
       "    <tr>\n",
       "      <th>C</th>\n",
       "      <td>51762</td>\n",
       "      <td>5938</td>\n",
       "      <td>930</td>\n",
       "      <td>1069</td>\n",
       "      <td>1999</td>\n",
       "    </tr>\n",
       "    <tr>\n",
       "      <th>CR</th>\n",
       "      <td>42518</td>\n",
       "      <td>5487</td>\n",
       "      <td>307</td>\n",
       "      <td>1682</td>\n",
       "      <td>1989</td>\n",
       "    </tr>\n",
       "    <tr>\n",
       "      <th>VA</th>\n",
       "      <td>47536</td>\n",
       "      <td>5795</td>\n",
       "      <td>503</td>\n",
       "      <td>1441</td>\n",
       "      <td>1944</td>\n",
       "    </tr>\n",
       "    <tr>\n",
       "      <th>CA</th>\n",
       "      <td>71009</td>\n",
       "      <td>5010</td>\n",
       "      <td>537</td>\n",
       "      <td>1329</td>\n",
       "      <td>1866</td>\n",
       "    </tr>\n",
       "    <tr>\n",
       "      <th>GI</th>\n",
       "      <td>52612</td>\n",
       "      <td>1755</td>\n",
       "      <td>148</td>\n",
       "      <td>1313</td>\n",
       "      <td>1461</td>\n",
       "    </tr>\n",
       "    <tr>\n",
       "      <th>PM</th>\n",
       "      <td>57228</td>\n",
       "      <td>4466</td>\n",
       "      <td>666</td>\n",
       "      <td>776</td>\n",
       "      <td>1442</td>\n",
       "    </tr>\n",
       "    <tr>\n",
       "      <th>CO</th>\n",
       "      <td>45110</td>\n",
       "      <td>3926</td>\n",
       "      <td>461</td>\n",
       "      <td>911</td>\n",
       "      <td>1372</td>\n",
       "    </tr>\n",
       "    <tr>\n",
       "      <th>SS</th>\n",
       "      <td>53415</td>\n",
       "      <td>2052</td>\n",
       "      <td>205</td>\n",
       "      <td>1063</td>\n",
       "      <td>1268</td>\n",
       "    </tr>\n",
       "    <tr>\n",
       "      <th>T</th>\n",
       "      <td>44668</td>\n",
       "      <td>2042</td>\n",
       "      <td>202</td>\n",
       "      <td>1055</td>\n",
       "      <td>1257</td>\n",
       "    </tr>\n",
       "    <tr>\n",
       "      <th>J</th>\n",
       "      <td>41581</td>\n",
       "      <td>3914</td>\n",
       "      <td>345</td>\n",
       "      <td>888</td>\n",
       "      <td>1233</td>\n",
       "    </tr>\n",
       "    <tr>\n",
       "      <th>AB</th>\n",
       "      <td>26961</td>\n",
       "      <td>3274</td>\n",
       "      <td>372</td>\n",
       "      <td>826</td>\n",
       "      <td>1198</td>\n",
       "    </tr>\n",
       "    <tr>\n",
       "      <th>BA</th>\n",
       "      <td>46273</td>\n",
       "      <td>3252</td>\n",
       "      <td>301</td>\n",
       "      <td>889</td>\n",
       "      <td>1190</td>\n",
       "    </tr>\n",
       "    <tr>\n",
       "      <th>AL</th>\n",
       "      <td>47862</td>\n",
       "      <td>3223</td>\n",
       "      <td>473</td>\n",
       "      <td>717</td>\n",
       "      <td>1190</td>\n",
       "    </tr>\n",
       "    <tr>\n",
       "      <th>LE</th>\n",
       "      <td>35482</td>\n",
       "      <td>4392</td>\n",
       "      <td>253</td>\n",
       "      <td>904</td>\n",
       "      <td>1157</td>\n",
       "    </tr>\n",
       "    <tr>\n",
       "      <th>SA</th>\n",
       "      <td>28397</td>\n",
       "      <td>3501</td>\n",
       "      <td>194</td>\n",
       "      <td>957</td>\n",
       "      <td>1151</td>\n",
       "    </tr>\n",
       "    <tr>\n",
       "      <th>CS</th>\n",
       "      <td>38918</td>\n",
       "      <td>3286</td>\n",
       "      <td>381</td>\n",
       "      <td>768</td>\n",
       "      <td>1149</td>\n",
       "    </tr>\n",
       "    <tr>\n",
       "      <th>BU</th>\n",
       "      <td>30158</td>\n",
       "      <td>3505</td>\n",
       "      <td>324</td>\n",
       "      <td>782</td>\n",
       "      <td>1106</td>\n",
       "    </tr>\n",
       "    <tr>\n",
       "      <th>LO</th>\n",
       "      <td>27609</td>\n",
       "      <td>3188</td>\n",
       "      <td>360</td>\n",
       "      <td>742</td>\n",
       "      <td>1102</td>\n",
       "    </tr>\n",
       "    <tr>\n",
       "      <th>PO</th>\n",
       "      <td>37402</td>\n",
       "      <td>3497</td>\n",
       "      <td>445</td>\n",
       "      <td>600</td>\n",
       "      <td>1045</td>\n",
       "    </tr>\n",
       "    <tr>\n",
       "      <th>CC</th>\n",
       "      <td>23370</td>\n",
       "      <td>2405</td>\n",
       "      <td>191</td>\n",
       "      <td>847</td>\n",
       "      <td>1038</td>\n",
       "    </tr>\n",
       "    <tr>\n",
       "      <th>S</th>\n",
       "      <td>25645</td>\n",
       "      <td>2717</td>\n",
       "      <td>374</td>\n",
       "      <td>536</td>\n",
       "      <td>910</td>\n",
       "    </tr>\n",
       "    <tr>\n",
       "      <th>VI</th>\n",
       "      <td>23937</td>\n",
       "      <td>2286</td>\n",
       "      <td>180</td>\n",
       "      <td>684</td>\n",
       "      <td>864</td>\n",
       "    </tr>\n",
       "    <tr>\n",
       "      <th>TF</th>\n",
       "      <td>19647</td>\n",
       "      <td>2259</td>\n",
       "      <td>389</td>\n",
       "      <td>372</td>\n",
       "      <td>761</td>\n",
       "    </tr>\n",
       "    <tr>\n",
       "      <th>GC</th>\n",
       "      <td>24595</td>\n",
       "      <td>2182</td>\n",
       "      <td>487</td>\n",
       "      <td>273</td>\n",
       "      <td>760</td>\n",
       "    </tr>\n",
       "    <tr>\n",
       "      <th>SG</th>\n",
       "      <td>14086</td>\n",
       "      <td>1602</td>\n",
       "      <td>153</td>\n",
       "      <td>596</td>\n",
       "      <td>749</td>\n",
       "    </tr>\n",
       "    <tr>\n",
       "      <th>NC</th>\n",
       "      <td>22805</td>\n",
       "      <td>2742</td>\n",
       "      <td>312</td>\n",
       "      <td>398</td>\n",
       "      <td>710</td>\n",
       "    </tr>\n",
       "    <tr>\n",
       "      <th>P</th>\n",
       "      <td>17496</td>\n",
       "      <td>1922</td>\n",
       "      <td>205</td>\n",
       "      <td>502</td>\n",
       "      <td>707</td>\n",
       "    </tr>\n",
       "    <tr>\n",
       "      <th>CU</th>\n",
       "      <td>19198</td>\n",
       "      <td>2423</td>\n",
       "      <td>143</td>\n",
       "      <td>550</td>\n",
       "      <td>693</td>\n",
       "    </tr>\n",
       "    <tr>\n",
       "      <th>GU</th>\n",
       "      <td>21249</td>\n",
       "      <td>1502</td>\n",
       "      <td>98</td>\n",
       "      <td>582</td>\n",
       "      <td>680</td>\n",
       "    </tr>\n",
       "    <tr>\n",
       "      <th>ZA</th>\n",
       "      <td>12088</td>\n",
       "      <td>1684</td>\n",
       "      <td>130</td>\n",
       "      <td>510</td>\n",
       "      <td>640</td>\n",
       "    </tr>\n",
       "    <tr>\n",
       "      <th>HU</th>\n",
       "      <td>16484</td>\n",
       "      <td>1695</td>\n",
       "      <td>180</td>\n",
       "      <td>460</td>\n",
       "      <td>640</td>\n",
       "    </tr>\n",
       "    <tr>\n",
       "      <th>OR</th>\n",
       "      <td>14544</td>\n",
       "      <td>1948</td>\n",
       "      <td>160</td>\n",
       "      <td>416</td>\n",
       "      <td>576</td>\n",
       "    </tr>\n",
       "    <tr>\n",
       "      <th>TE</th>\n",
       "      <td>13088</td>\n",
       "      <td>1449</td>\n",
       "      <td>113</td>\n",
       "      <td>408</td>\n",
       "      <td>521</td>\n",
       "    </tr>\n",
       "    <tr>\n",
       "      <th>SO</th>\n",
       "      <td>7644</td>\n",
       "      <td>1066</td>\n",
       "      <td>106</td>\n",
       "      <td>408</td>\n",
       "      <td>514</td>\n",
       "    </tr>\n",
       "    <tr>\n",
       "      <th>AV</th>\n",
       "      <td>11117</td>\n",
       "      <td>1484</td>\n",
       "      <td>74</td>\n",
       "      <td>434</td>\n",
       "      <td>508</td>\n",
       "    </tr>\n",
       "    <tr>\n",
       "      <th>H</th>\n",
       "      <td>25069</td>\n",
       "      <td>1755</td>\n",
       "      <td>127</td>\n",
       "      <td>343</td>\n",
       "      <td>470</td>\n",
       "    </tr>\n",
       "    <tr>\n",
       "      <th>L</th>\n",
       "      <td>35167</td>\n",
       "      <td>977</td>\n",
       "      <td>98</td>\n",
       "      <td>346</td>\n",
       "      <td>444</td>\n",
       "    </tr>\n",
       "    <tr>\n",
       "      <th>LU</th>\n",
       "      <td>11730</td>\n",
       "      <td>1104</td>\n",
       "      <td>134</td>\n",
       "      <td>213</td>\n",
       "      <td>347</td>\n",
       "    </tr>\n",
       "    <tr>\n",
       "      <th>ML</th>\n",
       "      <td>7671</td>\n",
       "      <td>540</td>\n",
       "      <td>89</td>\n",
       "      <td>78</td>\n",
       "      <td>167</td>\n",
       "    </tr>\n",
       "    <tr>\n",
       "      <th>CE</th>\n",
       "      <td>4998</td>\n",
       "      <td>299</td>\n",
       "      <td>38</td>\n",
       "      <td>93</td>\n",
       "      <td>131</td>\n",
       "    </tr>\n",
       "  </tbody>\n",
       "</table>\n",
       "</div>"
      ],
      "text/plain": [
       "               num_casos  num_hosp  num_uci  num_def  num_graves\n",
       "provincia_iso                                                   \n",
       "M                 615002     91053     6655    14527       21182\n",
       "B                 388899     31922     2533     9409       11942\n",
       "V                 200054     17373     1492     3615        5107\n",
       "A                 143871     11773     1149     2643        3792\n",
       "Z                  78972      9440      873     2482        3355\n",
       "BI                 81990      8758      727     2179        2906\n",
       "MU                108108      8722     1127     1550        2677\n",
       "SE                103550      8508      791     1785        2576\n",
       "TO                 64322      5567      416     2064        2480\n",
       "O                  46391      7768      584     1875        2459\n",
       "GR                 71272      6365      712     1542        2254\n",
       "MA                 87657      7256      638     1516        2154\n",
       "C                  51762      5938      930     1069        1999\n",
       "CR                 42518      5487      307     1682        1989\n",
       "VA                 47536      5795      503     1441        1944\n",
       "CA                 71009      5010      537     1329        1866\n",
       "GI                 52612      1755      148     1313        1461\n",
       "PM                 57228      4466      666      776        1442\n",
       "CO                 45110      3926      461      911        1372\n",
       "SS                 53415      2052      205     1063        1268\n",
       "T                  44668      2042      202     1055        1257\n",
       "J                  41581      3914      345      888        1233\n",
       "AB                 26961      3274      372      826        1198\n",
       "BA                 46273      3252      301      889        1190\n",
       "AL                 47862      3223      473      717        1190\n",
       "LE                 35482      4392      253      904        1157\n",
       "SA                 28397      3501      194      957        1151\n",
       "CS                 38918      3286      381      768        1149\n",
       "BU                 30158      3505      324      782        1106\n",
       "LO                 27609      3188      360      742        1102\n",
       "PO                 37402      3497      445      600        1045\n",
       "CC                 23370      2405      191      847        1038\n",
       "S                  25645      2717      374      536         910\n",
       "VI                 23937      2286      180      684         864\n",
       "TF                 19647      2259      389      372         761\n",
       "GC                 24595      2182      487      273         760\n",
       "SG                 14086      1602      153      596         749\n",
       "NC                 22805      2742      312      398         710\n",
       "P                  17496      1922      205      502         707\n",
       "CU                 19198      2423      143      550         693\n",
       "GU                 21249      1502       98      582         680\n",
       "ZA                 12088      1684      130      510         640\n",
       "HU                 16484      1695      180      460         640\n",
       "OR                 14544      1948      160      416         576\n",
       "TE                 13088      1449      113      408         521\n",
       "SO                  7644      1066      106      408         514\n",
       "AV                 11117      1484       74      434         508\n",
       "H                  25069      1755      127      343         470\n",
       "L                  35167       977       98      346         444\n",
       "LU                 11730      1104      134      213         347\n",
       "ML                  7671       540       89       78         167\n",
       "CE                  4998       299       38       93         131"
      ]
     },
     "execution_count": 154,
     "metadata": {},
     "output_type": "execute_result"
    }
   ],
   "source": [
    "por_provincias = casos_hosp.groupby('provincia_iso').sum()\n",
    "por_provincias_sort = por_provincias.sort_values(by='num_graves', ascending=False)\n",
    "por_provincias_sort"
   ]
  },
  {
   "cell_type": "code",
   "execution_count": 151,
   "metadata": {},
   "outputs": [
    {
     "data": {
      "text/html": [
       "<div>\n",
       "<style scoped>\n",
       "    .dataframe tbody tr th:only-of-type {\n",
       "        vertical-align: middle;\n",
       "    }\n",
       "\n",
       "    .dataframe tbody tr th {\n",
       "        vertical-align: top;\n",
       "    }\n",
       "\n",
       "    .dataframe thead th {\n",
       "        text-align: right;\n",
       "    }\n",
       "</style>\n",
       "<table border=\"1\" class=\"dataframe\">\n",
       "  <thead>\n",
       "    <tr style=\"text-align: right;\">\n",
       "      <th></th>\n",
       "      <th>max_info</th>\n",
       "      <th>min_info</th>\n",
       "      <th>mean_info</th>\n",
       "    </tr>\n",
       "  </thead>\n",
       "  <tbody>\n",
       "    <tr>\n",
       "      <th>0</th>\n",
       "      <td>21182</td>\n",
       "      <td>131</td>\n",
       "      <td>1958.326923</td>\n",
       "    </tr>\n",
       "  </tbody>\n",
       "</table>\n",
       "</div>"
      ],
      "text/plain": [
       "   max_info  min_info    mean_info\n",
       "0     21182       131  1958.326923"
      ]
     },
     "metadata": {},
     "output_type": "display_data"
    },
    {
     "data": {
      "text/html": [
       "<div>\n",
       "<style scoped>\n",
       "    .dataframe tbody tr th:only-of-type {\n",
       "        vertical-align: middle;\n",
       "    }\n",
       "\n",
       "    .dataframe tbody tr th {\n",
       "        vertical-align: top;\n",
       "    }\n",
       "\n",
       "    .dataframe thead th {\n",
       "        text-align: right;\n",
       "    }\n",
       "</style>\n",
       "<table border=\"1\" class=\"dataframe\">\n",
       "  <thead>\n",
       "    <tr style=\"text-align: right;\">\n",
       "      <th></th>\n",
       "      <th>num_casos</th>\n",
       "      <th>num_hosp</th>\n",
       "      <th>num_uci</th>\n",
       "      <th>num_def</th>\n",
       "      <th>num_graves</th>\n",
       "    </tr>\n",
       "    <tr>\n",
       "      <th>provincia_iso</th>\n",
       "      <th></th>\n",
       "      <th></th>\n",
       "      <th></th>\n",
       "      <th></th>\n",
       "      <th></th>\n",
       "    </tr>\n",
       "  </thead>\n",
       "  <tbody>\n",
       "    <tr>\n",
       "      <th>M</th>\n",
       "      <td>615002</td>\n",
       "      <td>91053</td>\n",
       "      <td>6655</td>\n",
       "      <td>14527</td>\n",
       "      <td>21182</td>\n",
       "    </tr>\n",
       "    <tr>\n",
       "      <th>B</th>\n",
       "      <td>388899</td>\n",
       "      <td>31922</td>\n",
       "      <td>2533</td>\n",
       "      <td>9409</td>\n",
       "      <td>11942</td>\n",
       "    </tr>\n",
       "    <tr>\n",
       "      <th>V</th>\n",
       "      <td>200054</td>\n",
       "      <td>17373</td>\n",
       "      <td>1492</td>\n",
       "      <td>3615</td>\n",
       "      <td>5107</td>\n",
       "    </tr>\n",
       "    <tr>\n",
       "      <th>A</th>\n",
       "      <td>143871</td>\n",
       "      <td>11773</td>\n",
       "      <td>1149</td>\n",
       "      <td>2643</td>\n",
       "      <td>3792</td>\n",
       "    </tr>\n",
       "    <tr>\n",
       "      <th>Z</th>\n",
       "      <td>78972</td>\n",
       "      <td>9440</td>\n",
       "      <td>873</td>\n",
       "      <td>2482</td>\n",
       "      <td>3355</td>\n",
       "    </tr>\n",
       "    <tr>\n",
       "      <th>BI</th>\n",
       "      <td>81990</td>\n",
       "      <td>8758</td>\n",
       "      <td>727</td>\n",
       "      <td>2179</td>\n",
       "      <td>2906</td>\n",
       "    </tr>\n",
       "    <tr>\n",
       "      <th>MU</th>\n",
       "      <td>108108</td>\n",
       "      <td>8722</td>\n",
       "      <td>1127</td>\n",
       "      <td>1550</td>\n",
       "      <td>2677</td>\n",
       "    </tr>\n",
       "    <tr>\n",
       "      <th>SE</th>\n",
       "      <td>103550</td>\n",
       "      <td>8508</td>\n",
       "      <td>791</td>\n",
       "      <td>1785</td>\n",
       "      <td>2576</td>\n",
       "    </tr>\n",
       "    <tr>\n",
       "      <th>TO</th>\n",
       "      <td>64322</td>\n",
       "      <td>5567</td>\n",
       "      <td>416</td>\n",
       "      <td>2064</td>\n",
       "      <td>2480</td>\n",
       "    </tr>\n",
       "    <tr>\n",
       "      <th>O</th>\n",
       "      <td>46391</td>\n",
       "      <td>7768</td>\n",
       "      <td>584</td>\n",
       "      <td>1875</td>\n",
       "      <td>2459</td>\n",
       "    </tr>\n",
       "    <tr>\n",
       "      <th>GR</th>\n",
       "      <td>71272</td>\n",
       "      <td>6365</td>\n",
       "      <td>712</td>\n",
       "      <td>1542</td>\n",
       "      <td>2254</td>\n",
       "    </tr>\n",
       "    <tr>\n",
       "      <th>MA</th>\n",
       "      <td>87657</td>\n",
       "      <td>7256</td>\n",
       "      <td>638</td>\n",
       "      <td>1516</td>\n",
       "      <td>2154</td>\n",
       "    </tr>\n",
       "    <tr>\n",
       "      <th>C</th>\n",
       "      <td>51762</td>\n",
       "      <td>5938</td>\n",
       "      <td>930</td>\n",
       "      <td>1069</td>\n",
       "      <td>1999</td>\n",
       "    </tr>\n",
       "    <tr>\n",
       "      <th>CR</th>\n",
       "      <td>42518</td>\n",
       "      <td>5487</td>\n",
       "      <td>307</td>\n",
       "      <td>1682</td>\n",
       "      <td>1989</td>\n",
       "    </tr>\n",
       "  </tbody>\n",
       "</table>\n",
       "</div>"
      ],
      "text/plain": [
       "               num_casos  num_hosp  num_uci  num_def  num_graves\n",
       "provincia_iso                                                   \n",
       "M                 615002     91053     6655    14527       21182\n",
       "B                 388899     31922     2533     9409       11942\n",
       "V                 200054     17373     1492     3615        5107\n",
       "A                 143871     11773     1149     2643        3792\n",
       "Z                  78972      9440      873     2482        3355\n",
       "BI                 81990      8758      727     2179        2906\n",
       "MU                108108      8722     1127     1550        2677\n",
       "SE                103550      8508      791     1785        2576\n",
       "TO                 64322      5567      416     2064        2480\n",
       "O                  46391      7768      584     1875        2459\n",
       "GR                 71272      6365      712     1542        2254\n",
       "MA                 87657      7256      638     1516        2154\n",
       "C                  51762      5938      930     1069        1999\n",
       "CR                 42518      5487      307     1682        1989"
      ]
     },
     "execution_count": 151,
     "metadata": {},
     "output_type": "execute_result"
    }
   ],
   "source": [
    "por_provincias = casos_hosp.groupby('provincia_iso').sum()\n",
    "display(pd.DataFrame(data={\n",
    "    'max_info': [por_provincias['num_graves'].max()],\n",
    "    'min_info': [por_provincias['num_graves'].min()],\n",
    "    'mean_info': [por_provincias['num_graves'].mean()]\n",
    "}))\n",
    "\n",
    "encima_media = por_provincias['num_graves'] > por_provincias['num_graves'].mean()\n",
    "por_provincias_encima = por_provincias[encima_media]\n",
    "por_provincias_encima = por_provincias_encima.sort_values(by='num_graves', ascending=False)\n",
    "por_provincias_encima"
   ]
  },
  {
   "cell_type": "code",
   "execution_count": 149,
   "metadata": {},
   "outputs": [
    {
     "data": {
      "text/html": [
       "<div>\n",
       "<style scoped>\n",
       "    .dataframe tbody tr th:only-of-type {\n",
       "        vertical-align: middle;\n",
       "    }\n",
       "\n",
       "    .dataframe tbody tr th {\n",
       "        vertical-align: top;\n",
       "    }\n",
       "\n",
       "    .dataframe thead th {\n",
       "        text-align: right;\n",
       "    }\n",
       "</style>\n",
       "<table border=\"1\" class=\"dataframe\">\n",
       "  <thead>\n",
       "    <tr style=\"text-align: right;\">\n",
       "      <th></th>\n",
       "      <th>num_casos</th>\n",
       "      <th>num_hosp</th>\n",
       "      <th>num_uci</th>\n",
       "      <th>num_def</th>\n",
       "      <th>num_graves</th>\n",
       "    </tr>\n",
       "    <tr>\n",
       "      <th>provincia_iso</th>\n",
       "      <th></th>\n",
       "      <th></th>\n",
       "      <th></th>\n",
       "      <th></th>\n",
       "      <th></th>\n",
       "    </tr>\n",
       "  </thead>\n",
       "  <tbody>\n",
       "    <tr>\n",
       "      <th>CE</th>\n",
       "      <td>4998</td>\n",
       "      <td>299</td>\n",
       "      <td>38</td>\n",
       "      <td>93</td>\n",
       "      <td>131</td>\n",
       "    </tr>\n",
       "  </tbody>\n",
       "</table>\n",
       "</div>"
      ],
      "text/plain": [
       "               num_casos  num_hosp  num_uci  num_def  num_graves\n",
       "provincia_iso                                                   \n",
       "CE                  4998       299       38       93         131"
      ]
     },
     "execution_count": 149,
     "metadata": {},
     "output_type": "execute_result"
    }
   ],
   "source": [
    "por_provincias[por_provincias['num_graves'] == 131]"
   ]
  },
  {
   "cell_type": "code",
   "execution_count": 157,
   "metadata": {},
   "outputs": [
    {
     "name": "stdout",
     "output_type": "stream",
     "text": [
      "101833\n",
      "porcentaje madrid  20.800722751956634\n",
      "porcentaje barcelona  11.727043296377403\n"
     ]
    }
   ],
   "source": [
    "total = por_provincias_sort['num_graves'].sum()\n",
    "print(total)\n",
    "madrid = 21182\n",
    "barcelona = 11942\n",
    "print('porcentaje madrid ', madrid / total * 100)\n",
    "print('porcentaje barcelona ', barcelona / total * 100)"
   ]
  },
  {
   "cell_type": "code",
   "execution_count": 1,
   "metadata": {},
   "outputs": [
    {
     "name": "stdout",
     "output_type": "stream",
     "text": [
      "['/device:CPU:0']\n"
     ]
    }
   ],
   "source": [
    "from tensorflow.python.client import device_lib\n",
    "\n",
    "def get_available_devices():\n",
    "    local_device_protos = device_lib.list_local_devices()\n",
    "    return [x.name for x in local_device_protos]\n",
    "\n",
    "print(get_available_devices())"
   ]
  }
 ],
 "metadata": {
  "colab": {
   "name": "datos_iniciales_1.ipynb",
   "provenance": []
  },
  "kernelspec": {
   "display_name": "Python 3",
   "language": "python",
   "name": "python3"
  },
  "language_info": {
   "codemirror_mode": {
    "name": "ipython",
    "version": 3
   },
   "file_extension": ".py",
   "mimetype": "text/x-python",
   "name": "python",
   "nbconvert_exporter": "python",
   "pygments_lexer": "ipython3",
   "version": "3.7.9"
  }
 },
 "nbformat": 4,
 "nbformat_minor": 4
}
